{
 "cells": [
  {
   "cell_type": "markdown",
   "metadata": {
    "deletable": true,
    "editable": true
   },
   "source": [
    "# Tarea 1"
   ]
  },
  {
   "cell_type": "markdown",
   "metadata": {
    "deletable": true,
    "editable": true
   },
   "source": [
    "Fecha de envío del PR inicial: **26 de febrero**\n",
    "\n",
    "Fecha de aceptación del PR: **12 de marzo**\n"
   ]
  },
  {
   "cell_type": "markdown",
   "metadata": {
    "deletable": true,
    "editable": true
   },
   "source": [
    "## 1. Raíces de una ecuación de segundo grado\n",
    "\n",
    "Implementen en julia una función que devuelva las raíces de una ecuación de segundo grado general con coeficientes reales. La función debe ser estable según el tipo ([type-stable](http://docs.julialang.org/en/release-0.5/manual/faq/?highlight=type%20stability#what-does-type-stable-mean)), lo que significa que el tipo del resultado sólamente depende del tipo de las entradas. En particular, muestren que su función devuelve raíces consistentes para $a=1$, $b=1$, $c=10^{-17}$.\n",
    "\n",
    "La función debe estar documentada de manera apropiada, lo que significa que, al correr el Jupyter notebook de su tarea, la instrucción\n",
    "```julia\n",
    "? nombre_funcion\n",
    "```\n",
    "debe dar información apropiada.\n",
    "\n",
    "Incluyan cualquier comentario prudente del algoritmo que usan, ya sea en el notebook (usando markdown) o en la propia función incluyendo comentarios.\n"
   ]
  },
  {
   "cell_type": "code",
   "execution_count": 36,
   "metadata": {
    "collapsed": false
   },
   "outputs": [
    {
     "name": "stderr",
     "output_type": "stream",
     "text": [
      "WARNING: Method definition formula_general(Any, Any, Any) in module Main at In[31]:7 overwritten at In[36]:7.\n",
      "\u001b[1m\u001b[31mWARNING: replacing docs for 'formula_general :: Tuple{Any,Any,Any}' in module 'Main'.\u001b[0m\n"
     ]
    },
    {
     "data": {
      "text/plain": [
       "formula_general"
      ]
     },
     "execution_count": 36,
     "metadata": {},
     "output_type": "execute_result"
    }
   ],
   "source": [
    "\"\"\"\n",
    "formula_general(a,b,c)\n",
    "la función genera la solución de una ecuación de segundo grado\n",
    "por el metodo de la fórmula general, o mejor conocido como chicharronera\n",
    "\"\"\"    #defino que es lo que hace el programa para que al usar ? mencione la informacion deseada\n",
    "function formula_general(a,b,c)\n",
    "    y=((b^2)-4*a*c)   #establezco lo que irá adentro de la raíz de la formula general o mejor conocido como discriminante\n",
    "    if y < 0      #doy condiciones de que hacer en caso de que el interior de la raíz es negativa\n",
    "        println(\"la solución es compleja\")\n",
    "        else          #en caso de ser real, hace la chicharronera\n",
    "        x_1=(-b -sqrt(y))/(2*a)    #los dos posibles resultados\n",
    "        x_2=(-b +sqrt(y))/(2*a)\n",
    "        println(\" el discriminante es $y\")\n",
    "        println(\"primer resultado $x_1\")     #imprime resultados\n",
    "        println(\"segundo resultado $x_2\")\n",
    "    end \n",
    "    x_1 , x_2\n",
    "end     #fin :v"
   ]
  },
  {
   "cell_type": "code",
   "execution_count": 35,
   "metadata": {
    "collapsed": false
   },
   "outputs": [
    {
     "name": "stdout",
     "output_type": "stream",
     "text": [
      " el discriminante es 1.0\n",
      "primer resultado -1.0\n",
      "segundo resultado 0.0\n"
     ]
    },
    {
     "data": {
      "text/plain": [
       "(-1.0,0.0)"
      ]
     },
     "execution_count": 35,
     "metadata": {},
     "output_type": "execute_result"
    }
   ],
   "source": [
    "formula_general(1,1,10.0^-17)"
   ]
  },
  {
   "cell_type": "code",
   "execution_count": 37,
   "metadata": {
    "collapsed": false
   },
   "outputs": [
    {
     "data": {
      "text/markdown": [
       "formula_general(a,b,c) la función genera la solución de una ecuación de segundo grado por el metodo de la fórmula general, o mejor conocido como chicharronera\n"
      ],
      "text/plain": [
       "formula_general(a,b,c) la función genera la solución de una ecuación de segundo grado por el metodo de la fórmula general, o mejor conocido como chicharronera\n"
      ]
     },
     "execution_count": 37,
     "metadata": {},
     "output_type": "execute_result"
    }
   ],
   "source": [
    "? formula_general()"
   ]
  },
  {
   "cell_type": "markdown",
   "metadata": {
    "deletable": true,
    "editable": true
   },
   "source": [
    "## 2. Promedio y varianza\n",
    "\n",
    "(a) Escriban dos funciones (`promedio` y `varianza`) que calculen el promedio y la varianza de un vector de datos. \n",
    "    \n",
    "(b) Comparen su resultado con lo que se obtiene al utilizar `mean` y `var`, que son las funciones nativas de Julia que hacen eso. En particular, consideren el siguiente vector de datos\n",
    "```julia\n",
    "v = 1.0e7 + randn(10^8)\n",
    "```\n",
    "¿Qué hace la función `randn(10^8)`?\n",
    "\n",
    "(c) Implementen el [algoritmo recursivo](https://en.wikipedia.org/wiki/Algorithms_for_calculating_variance#Online_algorithm), ampliamente desconocido, que  calcula el promedio (`promedio_rec`) y la varianza (`varianza_rec`) con una sóla lectura de los datos. Usen sus fuciones en el vector anterior y comparen sus resultados con los obtenidos en (a).\n",
    "\n",
    "(d) ¿Cuál de todos los algoritmos es el más rápido? (Pueden usar `@time` o `@elapsed`.) Usen vectores de varias longitudes, que cubran varios órdenes de magnitud."
   ]
  },
  {
   "cell_type": "markdown",
   "metadata": {
    "collapsed": true
   },
   "source": [
    "#### a)"
   ]
  },
  {
   "cell_type": "code",
   "execution_count": 44,
   "metadata": {
    "collapsed": false
   },
   "outputs": [
    {
     "data": {
      "text/plain": [
       "3-element Array{Int64,1}:\n",
       " 1\n",
       " 2\n",
       " 3"
      ]
     },
     "execution_count": 44,
     "metadata": {},
     "output_type": "execute_result"
    }
   ],
   "source": [
    "v=[1,2,3]"
   ]
  },
  {
   "cell_type": "markdown",
   "metadata": {},
   "source": [
    "ahora se hará la programación del promedio y de la varianza para **cualquier** vector"
   ]
  },
  {
   "cell_type": "code",
   "execution_count": 45,
   "metadata": {
    "collapsed": false
   },
   "outputs": [
    {
     "name": "stderr",
     "output_type": "stream",
     "text": [
      "WARNING: Method definition promedio_de_vector(Any) in module Main at In[42]:5 overwritten at In[45]:5.\n",
      "\u001b[1m\u001b[31mWARNING: replacing docs for 'promedio_de_vector :: Tuple{Any}' in module 'Main'.\u001b[0m\n"
     ]
    },
    {
     "data": {
      "text/plain": [
       "promedio_de_vector"
      ]
     },
     "execution_count": 45,
     "metadata": {},
     "output_type": "execute_result"
    }
   ],
   "source": [
    "\"\"\"\n",
    "el objetivo de este programa es hacer el promedio de las componente de cualquier vector que se le de.\n",
    "\"\"\"\n",
    "function promedio_de_vector(v) #declaro la función\n",
    "    suma_de_componentes=0.0 #declaro el valor de inicio de la suma de los valores para usarlo en el ciclo for\n",
    "    \n",
    "    for i=1:length(v) #establezco el intervalo de operación del for\n",
    "        suma_de_componentes=suma_de_componentes + v[i]  #suma iterada a partir de cero\n",
    "        end #fin del ciclo for\n",
    "    \n",
    "    promedio_vector=(suma_de_componentes)/(length(v)) #divido el valor de la suma de los componentes entre el numero de iteraciones\n",
    "    end #fin del programa :v"
   ]
  },
  {
   "cell_type": "code",
   "execution_count": 46,
   "metadata": {
    "collapsed": false
   },
   "outputs": [
    {
     "data": {
      "text/plain": [
       "2.0"
      ]
     },
     "execution_count": 46,
     "metadata": {},
     "output_type": "execute_result"
    }
   ],
   "source": [
    "promedio_de_vector(v)"
   ]
  },
  {
   "cell_type": "code",
   "execution_count": 48,
   "metadata": {
    "collapsed": false
   },
   "outputs": [
    {
     "data": {
      "text/plain": [
       "varianza_de_vector"
      ]
     },
     "execution_count": 48,
     "metadata": {},
     "output_type": "execute_result"
    }
   ],
   "source": [
    "\"\"\"\n",
    "esta función hará la varianza del vector propuesto previamente\n",
    "\"\"\"\n",
    "function varianza_de_vector(v) #declaro la varianza\n",
    "    suma_de_cuadrados=0.0 #declaro el cero del ciclo for\n",
    "    for i=1:length(v) #se da la iteración del ciclo for\n",
    "        suma_de_cuadrados=(suma_de_cuadrados)^2 +(v[i])^2 \n",
    "    end\n",
    "    varianza_vector=((suma_de_cuadrados)/length(v))-(promedio_vector)\n",
    "end\n",
    "    "
   ]
  },
  {
   "cell_type": "code",
   "execution_count": 50,
   "metadata": {
    "collapsed": false
   },
   "outputs": [
    {
     "ename": "LoadError",
     "evalue": "UndefVarError: promedio_vector not defined",
     "output_type": "error",
     "traceback": [
      "UndefVarError: promedio_vector not defined",
      "",
      " in varianza_de_vector(::Array{Int64,1}) at .\\In[48]:9"
     ]
    }
   ],
   "source": [
    "varianza_de_vector(v)"
   ]
  },
  {
   "cell_type": "markdown",
   "metadata": {
    "collapsed": true
   },
   "source": [
    "#### b)"
   ]
  },
  {
   "cell_type": "code",
   "execution_count": 5,
   "metadata": {
    "collapsed": false
   },
   "outputs": [
    {
     "data": {
      "text/plain": [
       "100000000-element Array{Float64,1}:\n",
       " 1.0e7\n",
       " 1.0e7\n",
       " 1.0e7\n",
       " 1.0e7\n",
       " 1.0e7\n",
       " 1.0e7\n",
       " 1.0e7\n",
       " 1.0e7\n",
       " 1.0e7\n",
       " 1.0e7\n",
       " 1.0e7\n",
       " 1.0e7\n",
       " 1.0e7\n",
       " ⋮    \n",
       " 1.0e7\n",
       " 1.0e7\n",
       " 1.0e7\n",
       " 1.0e7\n",
       " 1.0e7\n",
       " 1.0e7\n",
       " 1.0e7\n",
       " 1.0e7\n",
       " 1.0e7\n",
       " 1.0e7\n",
       " 1.0e7\n",
       " 1.0e7"
      ]
     },
     "execution_count": 5,
     "metadata": {},
     "output_type": "execute_result"
    }
   ],
   "source": [
    "v = 1.0e7 + randn(10^8)"
   ]
  },
  {
   "cell_type": "code",
   "execution_count": 6,
   "metadata": {
    "collapsed": false
   },
   "outputs": [
    {
     "data": {
      "text/plain": [
       "9.999999999988535e6"
      ]
     },
     "execution_count": 6,
     "metadata": {},
     "output_type": "execute_result"
    }
   ],
   "source": [
    "mean(v)"
   ]
  },
  {
   "cell_type": "code",
   "execution_count": 7,
   "metadata": {
    "collapsed": false
   },
   "outputs": [
    {
     "data": {
      "text/plain": [
       "0.9999598972120779"
      ]
     },
     "execution_count": 7,
     "metadata": {},
     "output_type": "execute_result"
    }
   ],
   "source": [
    "var(v)"
   ]
  },
  {
   "cell_type": "code",
   "execution_count": 8,
   "metadata": {
    "collapsed": false
   },
   "outputs": [
    {
     "data": {
      "text/plain": [
       "100000000-element Array{Float64,1}:\n",
       "  0.28833    \n",
       "  1.16968    \n",
       "  0.357041   \n",
       " -0.164934   \n",
       "  0.906245   \n",
       "  0.561155   \n",
       "  0.787332   \n",
       " -1.62109    \n",
       " -0.607131   \n",
       " -0.709076   \n",
       "  0.971065   \n",
       " -0.73072    \n",
       " -0.316859   \n",
       "  ⋮          \n",
       "  0.000108961\n",
       "  1.1791     \n",
       " -0.328625   \n",
       "  0.690676   \n",
       " -2.03443    \n",
       " -0.921766   \n",
       "  0.335526   \n",
       "  0.635085   \n",
       "  1.65977    \n",
       "  0.359749   \n",
       " -0.00166652 \n",
       "  0.153488   "
      ]
     },
     "execution_count": 8,
     "metadata": {},
     "output_type": "execute_result"
    }
   ],
   "source": [
    "randn(10^8)"
   ]
  },
  {
   "cell_type": "markdown",
   "metadata": {},
   "source": [
    "la función randn() despliega valores normalizados entre positivos y negativos, en el interior de la función se inserta el numero de datos totales que se desean "
   ]
  },
  {
   "cell_type": "markdown",
   "metadata": {
    "deletable": true,
    "editable": true
   },
   "source": [
    "## 3. Método de Simpson para integrar $f(x)$ en un intervalo dado\n",
    "\n",
    "Implementen el método de Simpson para integrar una función arbitraria $f(x)$."
   ]
  },
  {
   "cell_type": "markdown",
   "metadata": {
    "collapsed": true
   },
   "source": [
    "primero, se declarará la función que se desea integrar."
   ]
  },
  {
   "cell_type": "code",
   "execution_count": 51,
   "metadata": {
    "collapsed": false,
    "deletable": true,
    "editable": true
   },
   "outputs": [
    {
     "data": {
      "text/plain": [
       "f (generic function with 1 method)"
      ]
     },
     "execution_count": 51,
     "metadata": {},
     "output_type": "execute_result"
    }
   ],
   "source": [
    "function f(x)\n",
    "    return x^2\n",
    "end"
   ]
  },
  {
   "cell_type": "markdown",
   "metadata": {},
   "source": [
    "ahora, se programará el método de integración de simpson"
   ]
  },
  {
   "cell_type": "code",
   "execution_count": 52,
   "metadata": {
    "collapsed": false
   },
   "outputs": [
    {
     "data": {
      "text/plain": [
       "homero"
      ]
     },
     "execution_count": 52,
     "metadata": {},
     "output_type": "execute_result"
    }
   ],
   "source": [
    "\"\"\"\n",
    "el método de simpson es un método de aproximación para resolver integrales, también se le conoce como el métod de Kepler.\n",
    "\"\"\"\n",
    "function homero()\n",
    "end"
   ]
  },
  {
   "cell_type": "code",
   "execution_count": null,
   "metadata": {
    "collapsed": true
   },
   "outputs": [],
   "source": []
  }
 ],
 "metadata": {
  "anaconda-cloud": {},
  "kernelspec": {
   "display_name": "Julia 0.5.0",
   "language": "julia",
   "name": "julia-0.5"
  },
  "language_info": {
   "file_extension": ".jl",
   "mimetype": "application/julia",
   "name": "julia",
   "version": "0.5.0"
  }
 },
 "nbformat": 4,
 "nbformat_minor": 2
}
