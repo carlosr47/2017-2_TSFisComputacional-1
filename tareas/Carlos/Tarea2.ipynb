{
 "cells": [
  {
   "cell_type": "markdown",
   "metadata": {
    "deletable": true,
    "editable": true
   },
   "source": [
    "# Tarea 2: Derivación numérica"
   ]
  },
  {
   "cell_type": "markdown",
   "metadata": {
    "deletable": true,
    "editable": true
   },
   "source": [
    "Fecha de envío del PR inicial: **martes 14 de marzo**\n",
    "\n",
    "Fecha de aceptación del PR: **lunes 20 de marzo**"
   ]
  },
  {
   "cell_type": "markdown",
   "metadata": {
    "deletable": true,
    "editable": true
   },
   "source": [
    "## Ejercicio 1: Derivada *derecha*\n",
    "\n",
    "(a) Definan una función `derivada_derecha` que calcule *numéricamente* la derivada de una función $f(x)$ en una variable (a priori arbitaria) que se debe introducir como argumento, en un punto $x_0$ arbitrario, pero que por default lo hace en  $x_0=0.0$. \n",
    "\n",
    "Para esto, utilicen la aproximación de la derivada, que se basa en su definición:\n",
    "\n",
    "\\begin{equation}\n",
    "f'(x_0) \\approx \\frac{\\Delta f_+}{\\Delta x} = \\frac{f(x_0+h)-f(x_0)}{h},\n",
    "\\end{equation}\n",
    "\n",
    "lo que requiere la especificación de `h`. (Este método también se conoce por el nombre de *diferencias finitas*.)\n",
    "\n",
    "(b) A fin de simular el $\\lim_{h\\to 0}$, consideren distintos valores de $h$ que precisamente simulen dicho límite. Para cada valor de $h$ calculen el error absoluto del cálculo numérico (respecto al valor *exacto*, que deberán conocer analíticamente). \n",
    "\n",
    "Para ser concretos, prueben su implementación de `derivada_derecha` con la función de prueba $f(x) = 3x^3-2$, en $x_0=1$. Dibujen, como función de $h$, el error de su cálculo; usen escala logarítmica en ambos ejes. A partir de eso, ¿qué conclusión podemos sacar sobre *la convergencia* del cálculo numérico de la derivada, o sea, cómo nos acercamos al valor *exacto* de la deriva al considerar $lim_{h\\to 0}$? \n"
   ]
  },
  {
   "cell_type": "code",
   "execution_count": 10,
   "metadata": {
    "collapsed": false,
    "deletable": true,
    "editable": true
   },
   "outputs": [
    {
     "data": {
      "text/plain": [
       "derivada_derecha (generic function with 1 method)"
      ]
     },
     "execution_count": 10,
     "metadata": {},
     "output_type": "execute_result"
    }
   ],
   "source": [
    "#= \n",
    "Incluir comentarios y documentación\n",
    "\n",
    "Si es necesario que expliciten el tipo de alguna de los argumentos de\n",
    "la función, háganlo a su conveniencia\n",
    "\n",
    "=#\n",
    "function derivada_derecha(f, x0, h)\n",
    "    # código\n",
    "end"
   ]
  },
  {
   "cell_type": "code",
   "execution_count": 1,
   "metadata": {
    "collapsed": false,
    "deletable": true,
    "editable": true,
    "inputHidden": false,
    "outputHidden": false
   },
   "outputs": [
    {
     "data": {
      "text/plain": [
       "f (generic function with 1 method)"
      ]
     },
     "execution_count": 1,
     "metadata": {},
     "output_type": "execute_result"
    }
   ],
   "source": [
    "function f(x)\n",
    "    return (3x^3)-2\n",
    "end"
   ]
  },
  {
   "cell_type": "code",
   "execution_count": 2,
   "metadata": {
    "collapsed": false
   },
   "outputs": [
    {
     "data": {
      "text/plain": [
       "limite1"
      ]
     },
     "execution_count": 2,
     "metadata": {},
     "output_type": "execute_result"
    }
   ],
   "source": [
    "\"\"\"\n",
    "limite1(f,h,x0=0,0)\n",
    "esta función evaluará cierto límite, el cual estará definido por dos variables, x0 y h. \n",
    "Cabe mencionar que este programa sólo da aproximación\n",
    "\"\"\"\n",
    "function limite1(f,h,x0=0.0)\n",
    "    f_prima=(f(x0+h)-f(x0))/h #declaro la operación por hacer.\n",
    "    derivada=f_prima #guarda los datos\n",
    "end\n",
    "    "
   ]
  },
  {
   "cell_type": "code",
   "execution_count": 12,
   "metadata": {
    "collapsed": false
   },
   "outputs": [
    {
     "data": {
      "text/plain": [
       "9"
      ]
     },
     "execution_count": 12,
     "metadata": {},
     "output_type": "execute_result"
    }
   ],
   "source": [
    "valor_realx0_de_f=9"
   ]
  },
  {
   "cell_type": "code",
   "execution_count": 3,
   "metadata": {
    "collapsed": false
   },
   "outputs": [
    {
     "data": {
      "text/plain": [
       "50-element Array{Float64,1}:\n",
       " 1.0    \n",
       " 1.02377\n",
       " 1.04811\n",
       " 1.07303\n",
       " 1.09854\n",
       " 1.12466\n",
       " 1.1514 \n",
       " 1.17877\n",
       " 1.20679\n",
       " 1.23548\n",
       " 1.26486\n",
       " 1.29493\n",
       " 1.32571\n",
       " ⋮      \n",
       " 2.44205\n",
       " 2.50011\n",
       " 2.55955\n",
       " 2.6204 \n",
       " 2.6827 \n",
       " 2.74647\n",
       " 2.81177\n",
       " 2.87862\n",
       " 2.94705\n",
       " 3.01711\n",
       " 3.08884\n",
       " 3.16228"
      ]
     },
     "execution_count": 3,
     "metadata": {},
     "output_type": "execute_result"
    }
   ],
   "source": [
    "conjunto_h=logspace(0.0,0.5,50)"
   ]
  },
  {
   "cell_type": "code",
   "execution_count": 14,
   "metadata": {
    "collapsed": false
   },
   "outputs": [
    {
     "data": {
      "text/plain": [
       "9.000090000332861"
      ]
     },
     "execution_count": 14,
     "metadata": {},
     "output_type": "execute_result"
    }
   ],
   "source": [
    "limite1(f,0.00001,1.0)"
   ]
  },
  {
   "cell_type": "code",
   "execution_count": 7,
   "metadata": {
    "collapsed": false
   },
   "outputs": [
    {
     "name": "stderr",
     "output_type": "stream",
     "text": [
      "WARNING: imported binding for error overwritten in module Main\n"
     ]
    }
   ],
   "source": [
    "\n",
    "error=[] #el error se llenará conforme se ejecute cada elemento de las h's propuestas en el vector\n",
    "for i=1:length(conjunto_h)  #el número de iteraciones del for\n",
    "    \n",
    "    derivadas=limite1(f,conjunto_h[i],1.0) #la devirada ejecutada en cada valor del vector h usando la formula\n",
    "    #previamente hecha\n",
    "    \n",
    "    error_derivada=abs(9-derivadas) #se hace la resta del valor real de la derivada menos el que obtiene el programa\n",
    "    push!(error,error_derivada)#se insertan los valores en el vector de error.\n",
    "    \n",
    "end"
   ]
  },
  {
   "cell_type": "code",
   "execution_count": 8,
   "metadata": {
    "collapsed": false
   },
   "outputs": [
    {
     "data": {
      "text/plain": [
       "50-element Array{Any,1}:\n",
       " 12.0   \n",
       " 12.3583\n",
       " 12.7286\n",
       " 13.1115\n",
       " 13.5072\n",
       " 13.9165\n",
       " 14.3397\n",
       " 14.7774\n",
       " 15.2302\n",
       " 15.6986\n",
       " 16.1833\n",
       " 16.6848\n",
       " 17.2039\n",
       "  ⋮     \n",
       " 39.8693\n",
       " 41.2526\n",
       " 42.6898\n",
       " 44.1831\n",
       " 45.7348\n",
       " 47.3476\n",
       " 49.024 \n",
       " 50.7668\n",
       " 52.5788\n",
       " 54.463 \n",
       " 56.4225\n",
       " 58.4605"
      ]
     },
     "execution_count": 8,
     "metadata": {},
     "output_type": "execute_result"
    }
   ],
   "source": [
    "error"
   ]
  },
  {
   "cell_type": "code",
   "execution_count": 9,
   "metadata": {
    "collapsed": false
   },
   "outputs": [
    {
     "data": {
      "image/png": "[encoded data removed]",
      "text/plain": [
       "PyPlot.Figure(PyObject <matplotlib.figure.Figure object at 0x000000002E767A90>)"
      ]
     },
     "metadata": {},
     "output_type": "display_data"
    }
   ],
   "source": [
    "using PyPlot\n",
    "plot(conjunto_h,error)\n",
    "xlabel(\"valor de h\")\n",
    "ylabel(\"error absoluto\")\n",
    "title(\"primer intento de derivada, evaluando su error absoluto\")\n",
    "show()"
   ]
  },
  {
   "cell_type": "markdown",
   "metadata": {
    "deletable": true,
    "editable": true
   },
   "source": [
    "## Ejercicio 2: Derivada simétrica\n",
    "\n",
    "Repitan el ejercicio anterior usando la aproximación que se basa en la versión *simétrica* de la definición de la derivada, es decir:\n",
    "\n",
    "\\begin{equation}\n",
    "f'(x_0) \\approx \\frac{ \\Delta f_{sym}}{\\Delta x} = \\lim_{h\\to 0} \\frac{f(x_0+h)-f(x_0-h)}{2h}.\n",
    "\\end{equation}\n",
    "\n",
    "¿Qué pueden concluir respecto a la convergencia? ¿Cómo se compara este algoritmo con el del ejercicio anterior?"
   ]
  },
  {
   "cell_type": "code",
   "execution_count": 10,
   "metadata": {
    "collapsed": false
   },
   "outputs": [
    {
     "data": {
      "text/plain": [
       "limite2"
      ]
     },
     "execution_count": 10,
     "metadata": {},
     "output_type": "execute_result"
    }
   ],
   "source": [
    "\"\"\"\n",
    "limite2(f,h,x0=0.0)\n",
    "la finalidad de esta función es semejante al del problema 1, pero en este cas, se considerará la convergencia de los dos lados\n",
    "de la función, esto quiere decir, tanto izquierda como derecha.\n",
    "\"\"\"\n",
    "function limite2(f,h,x0=0.0)\n",
    "    f_prima2=(f(x0+h)-f(x0-h))/(2*h)   #declaro la operación a seguir.\n",
    "    derivada_doslados=f_prima2\n",
    "end"
   ]
  },
  {
   "cell_type": "code",
   "execution_count": 11,
   "metadata": {
    "collapsed": true
   },
   "outputs": [],
   "source": [
    "#haciendo copy-paste del la funcion error del problema 1\n",
    "\n",
    "error=[] #el error se llenará conforme se ejecute cada elemento de las h's propuestas en el vector\n",
    "for i=1:length(conjunto_h)  #el número de iteraciones del for\n",
    "    \n",
    "    derivadas=limite2(f,conjunto_h[i],1.0) #la devirada ejecutada en cada valor del vector h usando la formula\n",
    "    #previamente hecha\n",
    "    \n",
    "    error_derivada=abs(9-derivadas) #se hace la resta del valor real de la derivada menos el que obtiene el programa\n",
    "    push!(error,error_derivada)#se insertan los valores en el vector de error.\n",
    "    \n",
    "end"
   ]
  },
  {
   "cell_type": "code",
   "execution_count": 12,
   "metadata": {
    "collapsed": false
   },
   "outputs": [
    {
     "data": {
      "text/plain": [
       "50-element Array{Any,1}:\n",
       "  3.0    \n",
       "  3.14434\n",
       "  3.29562\n",
       "  3.45419\n",
       "  3.62038\n",
       "  3.79457\n",
       "  3.97713\n",
       "  4.16849\n",
       "  4.36905\n",
       "  4.57925\n",
       "  4.79958\n",
       "  5.0305 \n",
       "  5.27253\n",
       "  ⋮      \n",
       " 17.8909 \n",
       " 18.7517 \n",
       " 19.6539 \n",
       " 20.5995 \n",
       " 21.5906 \n",
       " 22.6294 \n",
       " 23.7181 \n",
       " 24.8593 \n",
       " 26.0553 \n",
       " 27.3089 \n",
       " 28.6229 \n",
       " 30.0    "
      ]
     },
     "execution_count": 12,
     "metadata": {},
     "output_type": "execute_result"
    }
   ],
   "source": [
    "error"
   ]
  },
  {
   "cell_type": "code",
   "execution_count": 13,
   "metadata": {
    "collapsed": false
   },
   "outputs": [
    {
     "data": {
      "image/png": "[encoded data removed]",
      "text/plain": [
       "PyPlot.Figure(PyObject <matplotlib.figure.Figure object at 0x000000002E3BE0F0>)"
      ]
     },
     "metadata": {},
     "output_type": "display_data"
    }
   ],
   "source": [
    "using PyPlot\n",
    "plot(conjunto_h,error)\n",
    "xlabel(\"valor de h\")\n",
    "ylabel(\"error absoluto\")\n",
    "title(\"segundo intento de derivada, evaluando su error absoluto\")\n",
    "show()"
   ]
  },
  {
   "cell_type": "markdown",
   "metadata": {},
   "source": [
    "El error absoluto que existe tanto en el límite definido en el problema 1 como en el problema 2 son del mismo orden, no obstante, en la modificación realizada en la función de *\"limite2\"* permite que este error disminuya (siendo específicos, el error absoluto del segundo métido disminuye a la mitad en comparación con el primer método). También esto repercute en la convergencia de los resultadosobtenidos, ya que son más cercanos al valor real."
   ]
  },
  {
   "cell_type": "markdown",
   "metadata": {
    "deletable": true,
    "editable": true
   },
   "source": [
    "## Ejercicio 3: Derivada *compleja*"
   ]
  },
  {
   "cell_type": "markdown",
   "metadata": {
    "deletable": true,
    "editable": true
   },
   "source": [
    "Repitan el ejercicio anterior considerando ahora que el incremento de la variable independiente es infinitesimal e *imaginario*. Esto es, nos basaremos en la definición de la derivada dada por:\n",
    "\n",
    "\\begin{equation}\n",
    "f'(x_0) \\approx \\frac{\\Delta f_{cmplx}(x_0)}{\\Delta x} = \\Im\\Big(\\frac{f(x_0+ i h)}{h}\\Big).\n",
    "\\end{equation}\n"
   ]
  },
  {
   "cell_type": "code",
   "execution_count": 14,
   "metadata": {
    "collapsed": false,
    "deletable": true,
    "editable": true
   },
   "outputs": [
    {
     "data": {
      "text/plain": [
       "limitecomplex"
      ]
     },
     "execution_count": 14,
     "metadata": {},
     "output_type": "execute_result"
    }
   ],
   "source": [
    "\"\"\"\n",
    "limitecomplex(f,h,x0)\n",
    "esta función genera una derivada en números complejos\n",
    "\"\"\"\n",
    "function limitecomplex(f,h,x0=0.0)\n",
    "    numero=f(x0+h*im)\n",
    "    derivada_complex=numero/h   #se define la derivada en complejos.\n",
    "    return imag(derivada_complex)\n",
    "end"
   ]
  },
  {
   "cell_type": "code",
   "execution_count": 15,
   "metadata": {
    "collapsed": false
   },
   "outputs": [
    {
     "data": {
      "text/plain": [
       "8.9999999997"
      ]
     },
     "execution_count": 15,
     "metadata": {},
     "output_type": "execute_result"
    }
   ],
   "source": [
    "limitecomplex(f,0.00001,1.0)"
   ]
  },
  {
   "cell_type": "code",
   "execution_count": 16,
   "metadata": {
    "collapsed": false
   },
   "outputs": [],
   "source": [
    "error=[] #al igual que en los otros incisos, se genera un vector con el error absoluto de la funcion compleja\n",
    "for i=1:length(conjunto_h)  #el número de iteraciones del for\n",
    "    \n",
    "    derivadas=limitecomplex(f,conjunto_h[i],1.0) #la devirada ejecutada en cada valor del vector h usando la formula\n",
    "    #previamente hecha\n",
    "    \n",
    "    error_complex=abs(9-derivadas) #se hace la resta del valor real de la derivada menos el que obtiene el programa\n",
    "    push!(error,error_complex)#se insertan los valores en el vector de error.\n",
    "    \n",
    "end"
   ]
  },
  {
   "cell_type": "code",
   "execution_count": 17,
   "metadata": {
    "collapsed": false
   },
   "outputs": [
    {
     "data": {
      "text/plain": [
       "50-element Array{Any,1}:\n",
       "  3.0    \n",
       "  3.14434\n",
       "  3.29562\n",
       "  3.45419\n",
       "  3.62038\n",
       "  3.79457\n",
       "  3.97713\n",
       "  4.16849\n",
       "  4.36905\n",
       "  4.57925\n",
       "  4.79958\n",
       "  5.0305 \n",
       "  5.27253\n",
       "  ⋮      \n",
       " 17.8909 \n",
       " 18.7517 \n",
       " 19.6539 \n",
       " 20.5995 \n",
       " 21.5906 \n",
       " 22.6294 \n",
       " 23.7181 \n",
       " 24.8593 \n",
       " 26.0553 \n",
       " 27.3089 \n",
       " 28.6229 \n",
       " 30.0    "
      ]
     },
     "execution_count": 17,
     "metadata": {},
     "output_type": "execute_result"
    }
   ],
   "source": [
    "error"
   ]
  },
  {
   "cell_type": "code",
   "execution_count": 18,
   "metadata": {
    "collapsed": false
   },
   "outputs": [
    {
     "data": {
      "image/png": "[encoded data removed]",
      "text/plain": [
       "PyPlot.Figure(PyObject <matplotlib.figure.Figure object at 0x000000002E19AF98>)"
      ]
     },
     "metadata": {},
     "output_type": "display_data"
    }
   ],
   "source": [
    "using PyPlot\n",
    "plot(conjunto_h,error)\n",
    "xlabel(\"valor de h\")\n",
    "ylabel(\"error absoluto\")\n",
    "title(\"derivada en complejos, comparando error absoluto\")\n",
    "show()"
   ]
  },
  {
   "cell_type": "markdown",
   "metadata": {
    "deletable": true,
    "editable": true
   },
   "source": [
    "## Ejercicio 4: Preguntas"
   ]
  },
  {
   "cell_type": "markdown",
   "metadata": {
    "deletable": true,
    "editable": true
   },
   "source": [
    "- ¿Cuál de las definiciones anteriores es mejor en términos de dar el valor *más exacto* de la derivada? Den un argumento sólido de su conclusión en términos del tipo de convergencia hacia el valor exacto."
   ]
  },
  {
   "cell_type": "markdown",
   "metadata": {
    "collapsed": true,
    "deletable": true,
    "editable": true
   },
   "source": [
    "La derivada en la función compleja ofrece la ventaja de utilizar valores complejos sin mencionar que el error absoluto es semejante al de la segunda definición de límite usada en esta tarea, esto también se ve en la convergencia de los valores ofrecidos por el vector h."
   ]
  },
  {
   "cell_type": "markdown",
   "metadata": {
    "deletable": true,
    "editable": true
   },
   "source": [
    "- ¿Qué comportamiento mostrado por las derivadas en términos de $h$ nos incomoda más? ¿A qué atribuyen esto?"
   ]
  },
  {
   "cell_type": "markdown",
   "metadata": {
    "collapsed": true,
    "deletable": true,
    "editable": true
   },
   "source": [
    "En las clases de cálculo se utiliza el límite para aproximarse de manera continua al valor deseado, sin embargo, en la computadora no es posible acercase a este número de forma continua, por lo que se requiere a la discretización de estos términos. Por lo tanto, esta cuestión se refleja en el vector \"conjunto_h\" y en las definiciones de límite, debido a que si se manejara el valor de cero, los límites divergerían."
   ]
  }
 ],
 "metadata": {
  "anaconda-cloud": {},
  "kernel_info": {
   "name": "julia-0.5"
  },
  "kernelspec": {
   "display_name": "Julia 0.5.0",
   "language": "julia",
   "name": "julia-0.5"
  },
  "language_info": {
   "file_extension": ".jl",
   "mimetype": "application/julia",
   "name": "julia",
   "version": "0.5.0"
  }
 },
 "nbformat": 4,
 "nbformat_minor": 0
}
