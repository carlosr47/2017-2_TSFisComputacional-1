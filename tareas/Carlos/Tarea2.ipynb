{
 "cells": [
  {
   "cell_type": "markdown",
   "metadata": {
    "deletable": true,
    "editable": true
   },
   "source": [
    "# Tarea 2: Derivación numérica"
   ]
  },
  {
   "cell_type": "markdown",
   "metadata": {
    "deletable": true,
    "editable": true
   },
   "source": [
    "Fecha de envío del PR inicial: **martes 14 de marzo**\n",
    "\n",
    "Fecha de aceptación del PR: **lunes 20 de marzo**"
   ]
  },
  {
   "cell_type": "markdown",
   "metadata": {
    "deletable": true,
    "editable": true
   },
   "source": [
    "## Ejercicio 1: Derivada *derecha*\n",
    "\n",
    "(a) Definan una función `derivada_derecha` que calcule *numéricamente* la derivada de una función $f(x)$ en una variable (a priori arbitaria) que se debe introducir como argumento, en un punto $x_0$ arbitrario, pero que por default lo hace en  $x_0=0.0$. \n",
    "\n",
    "Para esto, utilicen la aproximación de la derivada, que se basa en su definición:\n",
    "\n",
    "\\begin{equation}\n",
    "f'(x_0) \\approx \\frac{\\Delta f_+}{\\Delta x} = \\frac{f(x_0+h)-f(x_0)}{h},\n",
    "\\end{equation}\n",
    "\n",
    "lo que requiere la especificación de `h`. (Este método también se conoce por el nombre de *diferencias finitas*.)\n",
    "\n",
    "(b) A fin de simular el $\\lim_{h\\to 0}$, consideren distintos valores de $h$ que precisamente simulen dicho límite. Para cada valor de $h$ calculen el error absoluto del cálculo numérico (respecto al valor *exacto*, que deberán conocer analíticamente). \n",
    "\n",
    "Para ser concretos, prueben su implementación de `derivada_derecha` con la función de prueba $f(x) = 3x^3-2$, en $x_0=1$. Dibujen, como función de $h$, el error de su cálculo; usen escala logarítmica en ambos ejes. A partir de eso, ¿qué conclusión podemos sacar sobre *la convergencia* del cálculo numérico de la derivada, o sea, cómo nos acercamos al valor *exacto* de la deriva al considerar $lim_{h\\to 0}$? \n"
   ]
  },
  {
   "cell_type": "code",
   "execution_count": 10,
   "metadata": {
    "collapsed": false,
    "deletable": true,
    "editable": true
   },
   "outputs": [
    {
     "data": {
      "text/plain": [
       "derivada_derecha (generic function with 1 method)"
      ]
     },
     "execution_count": 10,
     "metadata": {},
     "output_type": "execute_result"
    }
   ],
   "source": [
    "#= \n",
    "Incluir comentarios y documentación\n",
    "\n",
    "Si es necesario que expliciten el tipo de alguna de los argumentos de\n",
    "la función, háganlo a su conveniencia\n",
    "\n",
    "=#\n",
    "function derivada_derecha(f, x0, h)\n",
    "    # código\n",
    "end"
   ]
  },
  {
   "cell_type": "code",
   "execution_count": 5,
   "metadata": {
    "collapsed": false,
    "deletable": true,
    "editable": true,
    "inputHidden": false,
    "outputHidden": false
   },
   "outputs": [
    {
     "data": {
      "text/plain": [
       "f (generic function with 1 method)"
      ]
     },
     "execution_count": 5,
     "metadata": {},
     "output_type": "execute_result"
    }
   ],
   "source": [
    "function f(x)\n",
    "    return (3x^3)-2\n",
    "end"
   ]
  },
  {
   "cell_type": "code",
   "execution_count": 3,
   "metadata": {
    "collapsed": false
   },
   "outputs": [
    {
     "data": {
      "text/plain": [
       "limite1"
      ]
     },
     "execution_count": 3,
     "metadata": {},
     "output_type": "execute_result"
    }
   ],
   "source": [
    "\"\"\"\n",
    "limite1(f,h,x0=0,0)\n",
    "esta función evaluará cierto límite, el cual estará definido por dos variables, x0 y h. \n",
    "Cabe mencionar que este programa sólo da aproximación\n",
    "\"\"\"\n",
    "function limite1(f,h,x0=0.0)\n",
    "    f_prima=(f(x0+h)-f(x0))/h #declaro la operación por hacer.\n",
    "    derivada=f_prima #guarda los datos\n",
    "end\n",
    "    "
   ]
  },
  {
   "cell_type": "code",
   "execution_count": 3,
   "metadata": {
    "collapsed": false
   },
   "outputs": [
    {
     "data": {
      "text/plain": [
       "1.0e-14"
      ]
     },
     "execution_count": 3,
     "metadata": {},
     "output_type": "execute_result"
    }
   ],
   "source": [
    "h=0.00000000000001"
   ]
  },
  {
   "cell_type": "code",
   "execution_count": 4,
   "metadata": {
    "collapsed": false
   },
   "outputs": [
    {
     "data": {
      "text/plain": [
       "8.970602038971265"
      ]
     },
     "execution_count": 4,
     "metadata": {},
     "output_type": "execute_result"
    }
   ],
   "source": [
    "limite1(f,h,1.0)"
   ]
  },
  {
   "cell_type": "code",
   "execution_count": 5,
   "metadata": {
    "collapsed": false
   },
   "outputs": [
    {
     "data": {
      "text/plain": [
       "9"
      ]
     },
     "execution_count": 5,
     "metadata": {},
     "output_type": "execute_result"
    }
   ],
   "source": [
    "valor_realx0_de_f=9"
   ]
  },
  {
   "cell_type": "code",
   "execution_count": 9,
   "metadata": {
    "collapsed": false
   },
   "outputs": [
    {
     "data": {
      "text/plain": [
       "100-element Array{Float64,1}:\n",
       " 0.158004 \n",
       " 0.489061 \n",
       " 0.136526 \n",
       " 0.853394 \n",
       " 0.173674 \n",
       " 0.224895 \n",
       " 0.795094 \n",
       " 0.0748502\n",
       " 0.355677 \n",
       " 0.451062 \n",
       " 0.847336 \n",
       " 0.937769 \n",
       " 0.437065 \n",
       " ⋮        \n",
       " 0.106287 \n",
       " 0.900527 \n",
       " 0.766458 \n",
       " 0.313554 \n",
       " 0.358343 \n",
       " 0.528131 \n",
       " 0.879415 \n",
       " 0.200704 \n",
       " 0.0606856\n",
       " 0.284009 \n",
       " 0.18807  \n",
       " 0.929076 "
      ]
     },
     "execution_count": 9,
     "metadata": {},
     "output_type": "execute_result"
    }
   ],
   "source": [
    "conjunto_h=rand(10^2)"
   ]
  },
  {
   "cell_type": "code",
   "execution_count": 6,
   "metadata": {
    "collapsed": false
   },
   "outputs": [],
   "source": [
    "\n",
    "error=[] #el error se llenará conforme se ejecute cada elemento de las h's propuestas en el vector\n",
    "for i=1:length(conjunto_h)  #el número de iteraciones del for\n",
    "    \n",
    "    derivadas=limite1(f,conjunto_h[i],1.0) #la devirada ejecutada en cada valor del vector h usando la formula\n",
    "    #previamente hecha\n",
    "    \n",
    "    error_derivada=abs(9-derivadas) #se hace la resta del valor real de la derivada menos el que obtiene el programa\n",
    "    push!(error,error_derivada)#se insertan los valores en el vector de error.\n",
    "    \n",
    "end"
   ]
  },
  {
   "cell_type": "code",
   "execution_count": 10,
   "metadata": {
    "collapsed": false
   },
   "outputs": [
    {
     "data": {
      "text/plain": [
       "100-element Array{Any,1}:\n",
       "  6.43395 \n",
       "  2.70555 \n",
       "  1.92762 \n",
       "  0.954694\n",
       "  3.18151 \n",
       " 11.5638  \n",
       "  9.06209 \n",
       "  0.447438\n",
       "  2.26017 \n",
       " 11.5651  \n",
       "  0.761267\n",
       "  3.32479 \n",
       "  6.11052 \n",
       "  ⋮       \n",
       " 11.8761  \n",
       "  6.08411 \n",
       " 10.4065  \n",
       "  2.22667 \n",
       "  8.92296 \n",
       "  7.42618 \n",
       "  7.83109 \n",
       "  8.12025 \n",
       "  0.750481\n",
       " 11.7683  \n",
       "  7.83532 \n",
       " 11.1927  "
      ]
     },
     "execution_count": 10,
     "metadata": {},
     "output_type": "execute_result"
    }
   ],
   "source": [
    "error"
   ]
  },
  {
   "cell_type": "code",
   "execution_count": 11,
   "metadata": {
    "collapsed": false
   },
   "outputs": [
    {
     "ename": "LoadError",
     "evalue": "ArgumentError: Module PyPlot not found in current path.\nRun `Pkg.add(\"PyPlot\")` to install the PyPlot package.",
     "output_type": "error",
     "traceback": [
      "ArgumentError: Module PyPlot not found in current path.\nRun `Pkg.add(\"PyPlot\")` to install the PyPlot package.",
      "",
      " in require(::Symbol) at .\\loading.jl:365"
     ]
    }
   ],
   "source": [
    "using PyPlot\n",
    "plot(conjunto_h,error)\n",
    "xlabel(\"valor de h\")\n",
    "ylabel(\"error absoluto\")\n",
    "title(\"primer intento de derivada, evaluando su error absoluto\")\n",
    "show()"
   ]
  },
  {
   "cell_type": "markdown",
   "metadata": {
    "deletable": true,
    "editable": true
   },
   "source": [
    "## Ejercicio 2: Derivada simétrica\n",
    "\n",
    "Repitan el ejercicio anterior usando la aproximación que se basa en la versión *simétrica* de la definición de la derivada, es decir:\n",
    "\n",
    "\\begin{equation}\n",
    "f'(x_0) \\approx \\frac{ \\Delta f_{sym}}{\\Delta x} = \\lim_{h\\to 0} \\frac{f(x_0+h)-f(x_0-h)}{2h}.\n",
    "\\end{equation}\n",
    "\n",
    "¿Qué pueden concluir respecto a la convergencia? ¿Cómo se compara este algoritmo con el del ejercicio anterior?"
   ]
  },
  {
   "cell_type": "code",
   "execution_count": 13,
   "metadata": {
    "collapsed": false
   },
   "outputs": [
    {
     "data": {
      "text/plain": [
       "limite2"
      ]
     },
     "execution_count": 13,
     "metadata": {},
     "output_type": "execute_result"
    }
   ],
   "source": [
    "\"\"\"\n",
    "la finalidad de esta función es semejante al del problema 1, pero en este cas, se considerará la convergencia de los dos lados\n",
    "de la función, esto quiere decir, tanto izquierda como derecha.\n",
    "\"\"\"\n",
    "function limite2(f,h,x0=0.0)\n",
    "    f_prima2=(f(x0+h)-f(x0-h))/(2*h)   #declaro la operación a seguir.\n",
    "    derivada_doslados=f_prima2\n",
    "end"
   ]
  },
  {
   "cell_type": "code",
   "execution_count": 14,
   "metadata": {
    "collapsed": false,
    "deletable": true,
    "editable": true
   },
   "outputs": [
    {
     "data": {
      "text/plain": [
       "8.970602038971265"
      ]
     },
     "execution_count": 14,
     "metadata": {},
     "output_type": "execute_result"
    }
   ],
   "source": [
    "limite2(f,h,1.0)"
   ]
  },
  {
   "cell_type": "code",
   "execution_count": 17,
   "metadata": {
    "collapsed": true
   },
   "outputs": [],
   "source": [
    "#haciendo copy-paste del la funcion error del problema 1\n",
    "\n",
    "error=[] #el error se llenará conforme se ejecute cada elemento de las h's propuestas en el vector\n",
    "for i=1:length(conjunto_h)  #el número de iteraciones del for\n",
    "    \n",
    "    derivadas=limite2(f,conjunto_h[i],1.0) #la devirada ejecutada en cada valor del vector h usando la formula\n",
    "    #previamente hecha\n",
    "    \n",
    "    error_derivada=abs(9-derivadas) #se hace la resta del valor real de la derivada menos el que obtiene el programa\n",
    "    push!(error,error_derivada)#se insertan los valores en el vector de error.\n",
    "    \n",
    "end"
   ]
  },
  {
   "cell_type": "code",
   "execution_count": 18,
   "metadata": {
    "collapsed": false
   },
   "outputs": [
    {
     "data": {
      "text/plain": [
       "9-element Array{Any,1}:\n",
       " 1.02883e-8 \n",
       " 8.13912e-10\n",
       " 7.42659e-11\n",
       " 3.0321e-10 \n",
       " 2.9995e-8  \n",
       " 3.0e-6     \n",
       " 0.0003     \n",
       " 0.03       \n",
       " 3.0        "
      ]
     },
     "execution_count": 18,
     "metadata": {},
     "output_type": "execute_result"
    }
   ],
   "source": [
    "error"
   ]
  },
  {
   "cell_type": "markdown",
   "metadata": {},
   "source": [
    "El error absoluto que existe tanto en el límite definido en el problema 1 como en el problema 2 son del mismo orden, no obstante, en la modificación realizada en la función de *\"limite2\"* permite que este error disminuya. También esto repercute en la convergencia de los resultadosobtenidos, ya que son más cercanos al valor real."
   ]
  },
  {
   "cell_type": "markdown",
   "metadata": {
    "deletable": true,
    "editable": true
   },
   "source": [
    "## Ejercicio 3: Derivada *compleja*"
   ]
  },
  {
   "cell_type": "markdown",
   "metadata": {
    "deletable": true,
    "editable": true
   },
   "source": [
    "Repitan el ejercicio anterior considerando ahora que el incremento de la variable independiente es infinitesimal e *imaginario*. Esto es, nos basaremos en la definición de la derivada dada por:\n",
    "\n",
    "\\begin{equation}\n",
    "f'(x_0) \\approx \\frac{\\Delta f_{cmplx}(x_0)}{\\Delta x} = \\Im\\Big(\\frac{f(x_0+ i h)}{h}\\Big).\n",
    "\\end{equation}\n"
   ]
  },
  {
   "cell_type": "code",
   "execution_count": null,
   "metadata": {
    "collapsed": true,
    "deletable": true,
    "editable": true
   },
   "outputs": [],
   "source": []
  },
  {
   "cell_type": "markdown",
   "metadata": {},
   "source": [
    "recordatorio para carlos: aun no se me ocurre como hacer para que el programa use un valor predeterminado en el caso de que el usuario no inserte valor.\n",
    "¿la h la tiene que definir el usuario, o el número de las iteraciones para que la ha sea más pequeña?"
   ]
  },
  {
   "cell_type": "markdown",
   "metadata": {
    "deletable": true,
    "editable": true
   },
   "source": [
    "## Ejercicio 4: Preguntas"
   ]
  },
  {
   "cell_type": "markdown",
   "metadata": {
    "deletable": true,
    "editable": true
   },
   "source": [
    "- ¿Cuál de las definiciones anteriores es mejor en términos de dar el valor *más exacto* de la derivada? Den un argumento sólido de su conclusión en términos del tipo de convergencia hacia el valor exacto."
   ]
  },
  {
   "cell_type": "code",
   "execution_count": null,
   "metadata": {
    "collapsed": true,
    "deletable": true,
    "editable": true
   },
   "outputs": [],
   "source": []
  },
  {
   "cell_type": "markdown",
   "metadata": {
    "deletable": true,
    "editable": true
   },
   "source": [
    "- ¿Qué comportamiento mostrado por las derivadas en términos de $h$ nos incomoda más? ¿A qué atribuyen esto?"
   ]
  },
  {
   "cell_type": "code",
   "execution_count": null,
   "metadata": {
    "collapsed": true,
    "deletable": true,
    "editable": true
   },
   "outputs": [],
   "source": []
  }
 ],
 "metadata": {
  "anaconda-cloud": {},
  "kernel_info": {
   "name": "julia-0.5"
  },
  "kernelspec": {
   "display_name": "Julia 0.5.0",
   "language": "julia",
   "name": "julia-0.5"
  },
  "language_info": {
   "file_extension": ".jl",
   "mimetype": "application/julia",
   "name": "julia",
   "version": "0.5.0"
  }
 },
 "nbformat": 4,
 "nbformat_minor": 0
}
