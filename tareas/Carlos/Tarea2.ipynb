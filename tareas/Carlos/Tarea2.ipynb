{
 "cells": [
  {
   "cell_type": "markdown",
   "metadata": {
    "deletable": true,
    "editable": true
   },
   "source": [
    "# Tarea 2: Derivación numérica"
   ]
  },
  {
   "cell_type": "markdown",
   "metadata": {
    "deletable": true,
    "editable": true
   },
   "source": [
    "Fecha de envío del PR inicial: **martes 14 de marzo**\n",
    "\n",
    "Fecha de aceptación del PR: **lunes 20 de marzo**"
   ]
  },
  {
   "cell_type": "markdown",
   "metadata": {
    "deletable": true,
    "editable": true
   },
   "source": [
    "## Ejercicio 1: Derivada *derecha*\n",
    "\n",
    "(a) Definan una función `derivada_derecha` que calcule *numéricamente* la derivada de una función $f(x)$ en una variable (a priori arbitaria) que se debe introducir como argumento, en un punto $x_0$ arbitrario, pero que por default lo hace en  $x_0=0.0$. \n",
    "\n",
    "Para esto, utilicen la aproximación de la derivada, que se basa en su definición:\n",
    "\n",
    "\\begin{equation}\n",
    "f'(x_0) \\approx \\frac{\\Delta f_+}{\\Delta x} = \\frac{f(x_0+h)-f(x_0)}{h},\n",
    "\\end{equation}\n",
    "\n",
    "lo que requiere la especificación de `h`. (Este método también se conoce por el nombre de *diferencias finitas*.)\n",
    "\n",
    "(b) A fin de simular el $\\lim_{h\\to 0}$, consideren distintos valores de $h$ que precisamente simulen dicho límite. Para cada valor de $h$ calculen el error absoluto del cálculo numérico (respecto al valor *exacto*, que deberán conocer analíticamente). \n",
    "\n",
    "Para ser concretos, prueben su implementación de `derivada_derecha` con la función de prueba $f(x) = 3x^3-2$, en $x_0=1$. Dibujen, como función de $h$, el error de su cálculo; usen escala logarítmica en ambos ejes. A partir de eso, ¿qué conclusión podemos sacar sobre *la convergencia* del cálculo numérico de la derivada, o sea, cómo nos acercamos al valor *exacto* de la deriva al considerar $lim_{h\\to 0}$? \n"
   ]
  },
  {
   "cell_type": "code",
   "execution_count": 10,
   "metadata": {
    "collapsed": false,
    "deletable": true,
    "editable": true
   },
   "outputs": [
    {
     "data": {
      "text/plain": [
       "derivada_derecha (generic function with 1 method)"
      ]
     },
     "execution_count": 10,
     "metadata": {},
     "output_type": "execute_result"
    }
   ],
   "source": [
    "#= \n",
    "Incluir comentarios y documentación\n",
    "\n",
    "Si es necesario que expliciten el tipo de alguna de los argumentos de\n",
    "la función, háganlo a su conveniencia\n",
    "\n",
    "=#\n",
    "function derivada_derecha(f, x0, h)\n",
    "    # código\n",
    "end"
   ]
  },
  {
   "cell_type": "code",
   "execution_count": 1,
   "metadata": {
    "collapsed": false,
    "deletable": true,
    "editable": true,
    "inputHidden": false,
    "outputHidden": false
   },
   "outputs": [
    {
     "data": {
      "text/plain": [
       "f (generic function with 1 method)"
      ]
     },
     "execution_count": 1,
     "metadata": {},
     "output_type": "execute_result"
    }
   ],
   "source": [
    "function f(x)\n",
    "    return (3x^3)-2\n",
    "end"
   ]
  },
  {
   "cell_type": "code",
   "execution_count": 2,
   "metadata": {
    "collapsed": false
   },
   "outputs": [
    {
     "data": {
      "text/plain": [
       "DERIVADA_DERECHA"
      ]
     },
     "execution_count": 2,
     "metadata": {},
     "output_type": "execute_result"
    }
   ],
   "source": [
    "\"\"\"\n",
    "DERIVADA_DERECHA(f,h,x0=0,0)\n",
    "esta función evaluará cierto límite, el cual estará definido por dos variables, x0 y h. \n",
    "Cabe mencionar que este programa sólo da aproximación\n",
    "\"\"\"\n",
    "function DERIVADA_DERECHA(f,h,x0=0.0)\n",
    "    f_prima=(f(x0+h)-f(x0))/h #declaro la operación por hacer.\n",
    "    derivada=f_prima #guarda los datos\n",
    "end\n",
    "    "
   ]
  },
  {
   "cell_type": "code",
   "execution_count": 12,
   "metadata": {
    "collapsed": false
   },
   "outputs": [
    {
     "data": {
      "text/plain": [
       "9"
      ]
     },
     "execution_count": 12,
     "metadata": {},
     "output_type": "execute_result"
    }
   ],
   "source": [
    "valor_realx0_de_f=9"
   ]
  },
  {
   "cell_type": "code",
   "execution_count": 12,
   "metadata": {
    "collapsed": false
   },
   "outputs": [
    {
     "data": {
      "text/plain": [
       "50-element Array{Float64,1}:\n",
       " 1.0e-13    \n",
       " 1.84207e-13\n",
       " 3.39322e-13\n",
       " 6.25055e-13\n",
       " 1.1514e-12 \n",
       " 2.12095e-12\n",
       " 3.90694e-12\n",
       " 7.19686e-12\n",
       " 1.32571e-11\n",
       " 2.44205e-11\n",
       " 4.49843e-11\n",
       " 8.28643e-11\n",
       " 1.52642e-10\n",
       " ⋮          \n",
       " 0.00120679 \n",
       " 0.002223   \n",
       " 0.00409492 \n",
       " 0.00754312 \n",
       " 0.013895   \n",
       " 0.0255955  \n",
       " 0.0471487  \n",
       " 0.0868511  \n",
       " 0.159986   \n",
       " 0.294705   \n",
       " 0.542868   \n",
       " 1.0        "
      ]
     },
     "execution_count": 12,
     "metadata": {},
     "output_type": "execute_result"
    }
   ],
   "source": [
    "conjunto_h=logspace(-13,0.0,50)"
   ]
  },
  {
   "cell_type": "code",
   "execution_count": 6,
   "metadata": {
    "collapsed": false
   },
   "outputs": [
    {
     "data": {
      "text/plain": [
       "9.000090000332861"
      ]
     },
     "execution_count": 6,
     "metadata": {},
     "output_type": "execute_result"
    }
   ],
   "source": [
    "DERIVADA_DERECHA(f,0.00001,1.0)"
   ]
  },
  {
   "cell_type": "code",
   "execution_count": 13,
   "metadata": {
    "collapsed": false
   },
   "outputs": [],
   "source": [
    "\n",
    "error=[] #el error se llenará conforme se ejecute cada elemento de las h's propuestas en el vector\n",
    " for i=1:length(conjunto_h)  #el número de iteraciones del for\n",
    "    \n",
    "    derivadas=DERIVADA_DERECHA(f,conjunto_h[i],1.0) #la devirada ejecutada en cada valor del vector h usando la formula\n",
    "    #previamente hecha\n",
    "    \n",
    "    error_derivada=abs(derivadas-9) #se hace la resta del valor real de la derivada menos el que obtiene el programa\n",
    "    push!(error,error_derivada)#se insertan los valores en el vector de error.\n",
    "    \n",
    " end"
   ]
  },
  {
   "cell_type": "code",
   "execution_count": 14,
   "metadata": {
    "collapsed": false
   },
   "outputs": [
    {
     "data": {
      "text/plain": [
       "50-element Array{Any,1}:\n",
       "  0.0071935  \n",
       "  0.00439846 \n",
       "  0.00100845 \n",
       "  0.000360572\n",
       "  0.000928569\n",
       "  8.13809e-5 \n",
       "  9.31614e-5 \n",
       "  6.6285e-5  \n",
       "  2.36315e-5 \n",
       "  2.40643e-5 \n",
       "  1.26968e-5 \n",
       "  1.13757e-5 \n",
       "  6.03784e-6 \n",
       "  ⋮          \n",
       "  0.0108655  \n",
       "  0.0200218  \n",
       "  0.0369045  \n",
       "  0.0680588  \n",
       "  0.125634   \n",
       "  0.232325   \n",
       "  0.431007   \n",
       "  0.80429    \n",
       "  1.51666    \n",
       "  2.9129     \n",
       "  5.76992    \n",
       " 12.0        "
      ]
     },
     "execution_count": 14,
     "metadata": {},
     "output_type": "execute_result"
    }
   ],
   "source": [
    "error"
   ]
  },
  {
   "cell_type": "code",
   "execution_count": 16,
   "metadata": {
    "collapsed": false
   },
   "outputs": [
    {
     "data": {
      "image/png": "[encoded data removed]",
      "text/plain": [
       "PyPlot.Figure(PyObject <matplotlib.figure.Figure object at 0x0000000029E239E8>)"
      ]
     },
     "metadata": {},
     "output_type": "display_data"
    }
   ],
   "source": [
    "using PyPlot  #se usa pyplot para imprimir la gráfica\n",
    "plot(conjunto_h,error)   #imprime el conjunto de h's contra el error\n",
    "xlabel(\"valor de h\")     #titulos de los ejes x y y\n",
    "ylabel(\"error absoluto\")\n",
    "title(\"derivada derecha, evaluando su error absoluto\") #titulo de la gráfica\n",
    "xscale(\"log\")    #usa escala logarítmica en x y y\n",
    "yscale(\"log\")\n",
    "show()  "
   ]
  },
  {
   "cell_type": "markdown",
   "metadata": {
    "deletable": true,
    "editable": true
   },
   "source": [
    "## Ejercicio 2: Derivada simétrica\n",
    "\n",
    "Repitan el ejercicio anterior usando la aproximación que se basa en la versión *simétrica* de la definición de la derivada, es decir:\n",
    "\n",
    "\\begin{equation}\n",
    "f'(x_0) \\approx \\frac{ \\Delta f_{sym}}{\\Delta x} = \\lim_{h\\to 0} \\frac{f(x_0+h)-f(x_0-h)}{2h}.\n",
    "\\end{equation}\n",
    "\n",
    "¿Qué pueden concluir respecto a la convergencia? ¿Cómo se compara este algoritmo con el del ejercicio anterior?"
   ]
  },
  {
   "cell_type": "code",
   "execution_count": 17,
   "metadata": {
    "collapsed": false
   },
   "outputs": [
    {
     "data": {
      "text/plain": [
       "DERIVADA_SIMÉTRICA"
      ]
     },
     "execution_count": 17,
     "metadata": {},
     "output_type": "execute_result"
    }
   ],
   "source": [
    "\"\"\"\n",
    "DERIVADA_SIMÉTRICA(f,h,x0=0.0)\n",
    "la finalidad de esta función es semejante al del problema 1, pero en este cas, se considerará la convergencia de los dos lados\n",
    "de la función, esto quiere decir, tanto izquierda como derecha.\n",
    "\"\"\"\n",
    "function DERIVADA_SIMÉTRICA(f,h,x0=0.0)\n",
    "    f_prima2=(f(x0+h)-f(x0-h))/(2*h)   #declaro la operación a seguir.\n",
    "    derivada_sim=f_prima2\n",
    "end"
   ]
  },
  {
   "cell_type": "code",
   "execution_count": 18,
   "metadata": {
    "collapsed": false
   },
   "outputs": [],
   "source": [
    "#haciendo copy-paste del la funcion error del problema 1\n",
    "\n",
    "error=[] #el error se llenará conforme se ejecute cada elemento de las h's propuestas en el vector\n",
    "for i=1:length(conjunto_h)  #el número de iteraciones del for\n",
    "    \n",
    "    derivadas=DERIVADA_SIMÉTRICA(f,conjunto_h[i],1.0) #la devirada ejecutada en cada valor del vector h usando la formula\n",
    "    #previamente hecha\n",
    "    \n",
    "    error_derivada=abs(9-derivadas) #se hace la resta del valor real de la derivada menos el que obtiene el programa\n",
    "    push!(error,error_derivada)#se insertan los valores en el vector de error.\n",
    "    \n",
    "end"
   ]
  },
  {
   "cell_type": "code",
   "execution_count": 19,
   "metadata": {
    "collapsed": false
   },
   "outputs": [
    {
     "data": {
      "text/plain": [
       "50-element Array{Any,1}:\n",
       " 0.00275261 \n",
       " 0.00198764 \n",
       " 0.00100845 \n",
       " 0.000360572\n",
       " 0.000350024\n",
       " 8.13809e-5 \n",
       " 2.05054e-5 \n",
       " 6.6285e-5  \n",
       " 9.86666e-6 \n",
       " 5.8792e-6  \n",
       " 2.82468e-6 \n",
       " 6.01642e-6 \n",
       " 3.12848e-6 \n",
       " ⋮          \n",
       " 4.36905e-6 \n",
       " 1.48251e-5 \n",
       " 5.0305e-5  \n",
       " 0.000170696\n",
       " 0.000579209\n",
       " 0.00196539 \n",
       " 0.00666899 \n",
       " 0.0226294  \n",
       " 0.0767864  \n",
       " 0.260553   \n",
       " 0.884116   \n",
       " 3.0        "
      ]
     },
     "execution_count": 19,
     "metadata": {},
     "output_type": "execute_result"
    }
   ],
   "source": [
    "error"
   ]
  },
  {
   "cell_type": "code",
   "execution_count": 34,
   "metadata": {
    "collapsed": false
   },
   "outputs": [
    {
     "data": {
      "text/plain": [
       "9.00000000030321"
      ]
     },
     "execution_count": 34,
     "metadata": {},
     "output_type": "execute_result"
    }
   ],
   "source": [
    "DERIVADA_SIMÉTRICA(f,0.00001,1.0)"
   ]
  },
  {
   "cell_type": "code",
   "execution_count": 20,
   "metadata": {
    "collapsed": false
   },
   "outputs": [
    {
     "data": {
      "image/png": "[encoded data removed]",
      "text/plain": [
       "PyPlot.Figure(PyObject <matplotlib.figure.Figure object at 0x000000002BA0DD30>)"
      ]
     },
     "metadata": {},
     "output_type": "display_data"
    }
   ],
   "source": [
    "using PyPlot     #realiza casi lo mismo que en el problema 1\n",
    "plot(conjunto_h,error)\n",
    "xlabel(\"valor de h\")\n",
    "ylabel(\"error absoluto\")\n",
    "title(\"derivada simétrica, evaluando su error absoluto\")\n",
    "xscale(\"log\")\n",
    "yscale(\"log\")\n",
    "show()"
   ]
  },
  {
   "cell_type": "markdown",
   "metadata": {},
   "source": [
    "El error absoluto que existe tanto en el límite definido en el problema 1 como en el problema 2 son del mismo orden, no obstante, en la modificación realizada en la función de *\"DERIVADA_SIMÉTRICA\"* permite que este error disminuya (siendo específicos, el error absoluto del segundo métido disminuye cerca del 75% en comparación con el primer método). También esto repercute en la convergencia de los resultados obtenidos, ya que son más cercanos al valor real."
   ]
  },
  {
   "cell_type": "markdown",
   "metadata": {
    "deletable": true,
    "editable": true
   },
   "source": [
    "## Ejercicio 3: Derivada *compleja*"
   ]
  },
  {
   "cell_type": "markdown",
   "metadata": {
    "deletable": true,
    "editable": true
   },
   "source": [
    "Repitan el ejercicio anterior considerando ahora que el incremento de la variable independiente es infinitesimal e *imaginario*. Esto es, nos basaremos en la definición de la derivada dada por:\n",
    "\n",
    "\\begin{equation}\n",
    "f'(x_0) \\approx \\frac{\\Delta f_{cmplx}(x_0)}{\\Delta x} = \\Im\\Big(\\frac{f(x_0+ i h)}{h}\\Big).\n",
    "\\end{equation}\n"
   ]
  },
  {
   "cell_type": "code",
   "execution_count": 21,
   "metadata": {
    "collapsed": false,
    "deletable": true,
    "editable": true
   },
   "outputs": [
    {
     "data": {
      "text/plain": [
       "DERIVADA_COMPLEJA"
      ]
     },
     "execution_count": 21,
     "metadata": {},
     "output_type": "execute_result"
    }
   ],
   "source": [
    "\"\"\"\n",
    "DERIVADA_COMPLEJA(f,h,x0)\n",
    "esta función genera una derivada en números complejos\n",
    "\"\"\"\n",
    "function DERIVADA_COMPLEJA(f,h,x0=0.0)\n",
    "    numero=f(x0+h*im)\n",
    "    derivada_complex=numero/h   #se define la derivada en complejos.\n",
    "    return imag(derivada_complex)\n",
    "end"
   ]
  },
  {
   "cell_type": "code",
   "execution_count": 22,
   "metadata": {
    "collapsed": false
   },
   "outputs": [
    {
     "data": {
      "text/plain": [
       "8.9999999997"
      ]
     },
     "execution_count": 22,
     "metadata": {},
     "output_type": "execute_result"
    }
   ],
   "source": [
    "DERIVADA_COMPLEJA(f,0.00001,1.0)"
   ]
  },
  {
   "cell_type": "code",
   "execution_count": 23,
   "metadata": {
    "collapsed": false
   },
   "outputs": [],
   "source": [
    "error=[] #al igual que en los otros incisos, se genera un vector con el error absoluto de la funcion compleja\n",
    "for i=1:length(conjunto_h)  #el número de iteraciones del for\n",
    "    \n",
    "    derivadas=DERIVADA_COMPLEJA(f,conjunto_h[i],1.0) #la devirada ejecutada en cada valor del vector h usando la formula\n",
    "    #previamente hecha\n",
    "    \n",
    "    error_complex=abs(9-derivadas) #se hace la resta del valor real de la derivada menos el que obtiene el programa\n",
    "    push!(error,error_complex)#se insertan los valores en el vector de error.\n",
    "    \n",
    "end"
   ]
  },
  {
   "cell_type": "code",
   "execution_count": 24,
   "metadata": {
    "collapsed": false
   },
   "outputs": [
    {
     "data": {
      "text/plain": [
       "50-element Array{Any,1}:\n",
       " 0.0        \n",
       " 0.0        \n",
       " 0.0        \n",
       " 0.0        \n",
       " 0.0        \n",
       " 0.0        \n",
       " 0.0        \n",
       " 0.0        \n",
       " 0.0        \n",
       " 0.0        \n",
       " 0.0        \n",
       " 1.77636e-15\n",
       " 0.0        \n",
       " ⋮          \n",
       " 4.36905e-6 \n",
       " 1.48251e-5 \n",
       " 5.0305e-5  \n",
       " 0.000170696\n",
       " 0.000579209\n",
       " 0.00196539 \n",
       " 0.00666899 \n",
       " 0.0226294  \n",
       " 0.0767864  \n",
       " 0.260553   \n",
       " 0.884116   \n",
       " 3.0        "
      ]
     },
     "execution_count": 24,
     "metadata": {},
     "output_type": "execute_result"
    }
   ],
   "source": [
    "error"
   ]
  },
  {
   "cell_type": "code",
   "execution_count": 25,
   "metadata": {
    "collapsed": false
   },
   "outputs": [
    {
     "data": {
      "image/png": "[encoded data removed]",
      "text/plain": [
       "PyPlot.Figure(PyObject <matplotlib.figure.Figure object at 0x000000002B7221D0>)"
      ]
     },
     "metadata": {},
     "output_type": "display_data"
    }
   ],
   "source": [
    "using PyPlot   #una vez más, se realiza la gráfica como en los problemas anteriores\n",
    "plot(conjunto_h,error)\n",
    "xlabel(\"valor de h\")\n",
    "ylabel(\"error absoluto\")\n",
    "title(\"derivada en complejos, comparando error absoluto\")\n",
    "xscale(\"log\")\n",
    "yscale(\"log\")\n",
    "show()"
   ]
  },
  {
   "cell_type": "markdown",
   "metadata": {
    "deletable": true,
    "editable": true
   },
   "source": [
    "## Ejercicio 4: Preguntas"
   ]
  },
  {
   "cell_type": "markdown",
   "metadata": {
    "deletable": true,
    "editable": true
   },
   "source": [
    "- ¿Cuál de las definiciones anteriores es mejor en términos de dar el valor *más exacto* de la derivada? Den un argumento sólido de su conclusión en términos del tipo de convergencia hacia el valor exacto."
   ]
  },
  {
   "cell_type": "markdown",
   "metadata": {
    "collapsed": true,
    "deletable": true,
    "editable": true
   },
   "source": [
    "La *derivada_compleja* ofrece mejores valores ya que varios valores tienen un error absoluto igual a cero, aproximándose así al valor real de la derivada. Además, el orden de magnitud del error absoluto en la derivada compleja es menor que en las *\"derivada_derecha\"* y *\"derivada_simétrica\"*"
   ]
  },
  {
   "cell_type": "markdown",
   "metadata": {
    "deletable": true,
    "editable": true
   },
   "source": [
    "- ¿Qué comportamiento mostrado por las derivadas en términos de $h$ nos incomoda más? ¿A qué atribuyen esto?"
   ]
  },
  {
   "cell_type": "markdown",
   "metadata": {
    "collapsed": true,
    "deletable": true,
    "editable": true
   },
   "source": [
    "Uno esperaría que entre más pequeño sea el valor de *h*, más cercano debe de ser el valor del límite al valor real. Sin embargo, en todos los casos no se observó este comportamient, esto se ve reflejado ea mayor medida en los métodos de *derivada_derecha* y *derivada_simétrica*.\n",
    "En la tarea pasada, existía inestabilidad numérica en la fórmula general cuando uno de los valores (en ese caso c) era muy pequeño, lo que hacía el programa era \"redondear\" los valores, perdiendo así cifras significativas. Esto también puede ocurrir en esta tarea:\n",
    "En la derivada simétrica de la forma:\n",
    "\\begin{equation}\n",
    "f'(x_0) \\approx \\frac{ \\Delta f_{sym}}{\\Delta x} = \\lim_{h\\to 0} \\frac{f(x_0+h)-f(x_0-h)}{2h}.\n",
    "\\end{equation}\n",
    "y en la derivada derecha\n",
    "\\begin{equation}\n",
    "f'(x_0) \\approx \\frac{\\Delta f_+}{\\Delta x} = \\frac{f(x_0+h)-f(x_0)}{h},\n",
    "\\end{equation}\n",
    "\n",
    "Cuando se evalúa la función como x0-h, al ser x0 mayor que h se puede perder precisión en lso resultados."
   ]
  },
  {
   "cell_type": "code",
   "execution_count": null,
   "metadata": {
    "collapsed": true
   },
   "outputs": [],
   "source": []
  }
 ],
 "metadata": {
  "anaconda-cloud": {},
  "kernel_info": {
   "name": "julia-0.5"
  },
  "kernelspec": {
   "display_name": "Julia 0.5.0",
   "language": "julia",
   "name": "julia-0.5"
  },
  "language_info": {
   "file_extension": ".jl",
   "mimetype": "application/julia",
   "name": "julia",
   "version": "0.5.0"
  }
 },
 "nbformat": 4,
 "nbformat_minor": 0
}
