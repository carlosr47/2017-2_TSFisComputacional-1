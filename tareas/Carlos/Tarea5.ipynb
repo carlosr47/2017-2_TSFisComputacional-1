{
 "cells": [
  {
   "cell_type": "markdown",
   "metadata": {},
   "source": [
    "# Tarea5: Series de Taylor"
   ]
  },
  {
   "cell_type": "markdown",
   "metadata": {},
   "source": [
    "Fecha de envío del PR inicial: **viernes 21 de abril**\n",
    "\n",
    "Fecha de aceptación del PR: **martes 25 de abril, antes de la clase**"
   ]
  },
  {
   "cell_type": "markdown",
   "metadata": {},
   "source": [
    "---"
   ]
  },
  {
   "cell_type": "markdown",
   "metadata": {},
   "source": [
    "## Ejercicio 1\n",
    "\n",
    "Implementen una nueva estructura paramétrica (`type`) que defina el tipo `Taylor`, donde el parámetro debe ser un subtipo de `Number`. Definan métodos que implementen las operaciones aritméticas básicas (`+`, `-`, `*`, `/`) y la igualdad (`==`). Esto deberá ser incluido en un módulo.\n",
    "\n",
    "Incluyan pruebas (en el archivo \"runtests_taylor.jl\") para cada uno de los métodos que implementen.\n"
   ]
  },
  {
   "cell_type": "code",
   "execution_count": 1,
   "metadata": {
    "collapsed": false
   },
   "outputs": [
    {
     "data": {
      "text/plain": [
       "Taylor"
      ]
     },
     "execution_count": 1,
     "metadata": {},
     "output_type": "execute_result"
    }
   ],
   "source": [
    "\"\"\"\n",
    "Definición de polinomios de Taylor, donde\n",
    "...\n",
    "\"\"\"\n",
    "type Taylor{T<:Number}\n",
    "    orden::Int64 #el orden de la serie de taylor.\n",
    "    coff::Array{T,1}   #coeficientes en la serie de taylor.\n",
    "end"
   ]
  },
  {
   "cell_type": "code",
   "execution_count": 2,
   "metadata": {
    "collapsed": false
   },
   "outputs": [
    {
     "data": {
      "text/plain": [
       "taylor (generic function with 1 method)"
      ]
     },
     "execution_count": 2,
     "metadata": {},
     "output_type": "execute_result"
    }
   ],
   "source": [
    "function taylor(n,v)    #ESTE AGREGADO ES NECESARIO PARA GARANTIZAR QUE TODOS LOS ELEMENTOS INGRESADOS EN EL VECTOR SEAN DEL MISMO ORDEN QUE LA N PROPUESTA\n",
    "    if length(v)==n\n",
    "        return Taylor(n-1,v)   #el primer elemento del vector es de orden 0, por eso la sustraccción\n",
    "    else\n",
    "        error(\"función no válida\")\n",
    "    end\n",
    "end"
   ]
  },
  {
   "cell_type": "code",
   "execution_count": 3,
   "metadata": {
    "collapsed": false
   },
   "outputs": [
    {
     "data": {
      "text/plain": [
       "5-element Array{Float64,1}:\n",
       " 2.0\n",
       " 3.0\n",
       " 4.0\n",
       " 5.0\n",
       " 1.2"
      ]
     },
     "execution_count": 3,
     "metadata": {},
     "output_type": "execute_result"
    }
   ],
   "source": [
    "a=[2,3,4,5,1.2]#es necesario recordar que sólo reconoce vectores con aunque sea un valor de punto flotante"
   ]
  },
  {
   "cell_type": "code",
   "execution_count": 4,
   "metadata": {
    "collapsed": false
   },
   "outputs": [
    {
     "data": {
      "text/plain": [
       "5.0"
      ]
     },
     "execution_count": 4,
     "metadata": {},
     "output_type": "execute_result"
    }
   ],
   "source": [
    "a[4]"
   ]
  },
  {
   "cell_type": "code",
   "execution_count": 5,
   "metadata": {
    "collapsed": false
   },
   "outputs": [
    {
     "ename": "LoadError",
     "evalue": "función no válida",
     "output_type": "error",
     "traceback": [
      "función no válida",
      "",
      " in taylor(::Int64, ::Array{Float64,1}) at .\\In[2]:5"
     ]
    }
   ],
   "source": [
    "taylor(2,a)"
   ]
  },
  {
   "cell_type": "code",
   "execution_count": 6,
   "metadata": {
    "collapsed": false
   },
   "outputs": [
    {
     "data": {
      "text/plain": [
       "2-element Array{Int64,1}:\n",
       " 2\n",
       " 4"
      ]
     },
     "execution_count": 6,
     "metadata": {},
     "output_type": "execute_result"
    }
   ],
   "source": [
    "a=[2,4]"
   ]
  },
  {
   "cell_type": "code",
   "execution_count": 7,
   "metadata": {
    "collapsed": false
   },
   "outputs": [
    {
     "data": {
      "text/plain": [
       "Taylor{Int64}(1,[2,4])"
      ]
     },
     "execution_count": 7,
     "metadata": {},
     "output_type": "execute_result"
    }
   ],
   "source": [
    "taylor(2,a)"
   ]
  },
  {
   "cell_type": "markdown",
   "metadata": {},
   "source": [
    "Esto sólo es un ejemplo para ver que el nuevo type *Taylor* funciona correctamente"
   ]
  },
  {
   "cell_type": "code",
   "execution_count": 57,
   "metadata": {
    "collapsed": false
   },
   "outputs": [
    {
     "name": "stderr",
     "output_type": "stream",
     "text": [
      "WARNING: Method definition xTaylor("
     ]
    },
    {
     "data": {
      "text/plain": [
       "xTaylor (generic function with 2 methods)"
      ]
     },
     "execution_count": 57,
     "metadata": {},
     "output_type": "execute_result"
    },
    {
     "name": "stderr",
     "output_type": "stream",
     "text": [
      "Any, Any) in module Main at In[54]:2 overwritten at In[57]:2.\n"
     ]
    }
   ],
   "source": [
    "function xTaylor(n,x) #función de f(x)=x\n",
    "    w=zeros(n) #genera un vector de n ceros\n",
    "    w[1]=x\n",
    "    w[2]=1\n",
    "    return taylor(n,w)\n",
    "end"
   ]
  },
  {
   "cell_type": "code",
   "execution_count": 56,
   "metadata": {
    "collapsed": false
   },
   "outputs": [
    {
     "data": {
      "text/plain": [
       "Taylor{Float64}(2,[1.0,1.0,0.0])"
      ]
     },
     "execution_count": 56,
     "metadata": {},
     "output_type": "execute_result"
    }
   ],
   "source": [
    "xTaylor(3,1)"
   ]
  },
  {
   "cell_type": "code",
   "execution_count": 10,
   "metadata": {
    "collapsed": false
   },
   "outputs": [
    {
     "data": {
      "text/plain": [
       "2-element Array{Int64,1}:\n",
       " 1\n",
       " 2"
      ]
     },
     "execution_count": 10,
     "metadata": {},
     "output_type": "execute_result"
    }
   ],
   "source": [
    "m=[1,2]"
   ]
  },
  {
   "cell_type": "code",
   "execution_count": 11,
   "metadata": {
    "collapsed": false
   },
   "outputs": [
    {
     "data": {
      "text/plain": [
       "Taylor{Int64}(1,[1,2])"
      ]
     },
     "execution_count": 11,
     "metadata": {},
     "output_type": "execute_result"
    }
   ],
   "source": [
    "taylor(2,m)"
   ]
  },
  {
   "cell_type": "code",
   "execution_count": 12,
   "metadata": {
    "collapsed": false
   },
   "outputs": [
    {
     "data": {
      "text/plain": [
       "Taylor{Int64}(1,[1,2])"
      ]
     },
     "execution_count": 12,
     "metadata": {},
     "output_type": "execute_result"
    }
   ],
   "source": [
    "n=ans"
   ]
  },
  {
   "cell_type": "code",
   "execution_count": 13,
   "metadata": {
    "collapsed": false
   },
   "outputs": [
    {
     "data": {
      "text/plain": [
       "2-element Array{Int64,1}:\n",
       " 1\n",
       " 2"
      ]
     },
     "execution_count": 13,
     "metadata": {},
     "output_type": "execute_result"
    }
   ],
   "source": [
    "n.coff"
   ]
  },
  {
   "cell_type": "code",
   "execution_count": 14,
   "metadata": {
    "collapsed": false
   },
   "outputs": [
    {
     "data": {
      "text/plain": [
       "Taylor{Int64}(1,[1,5])"
      ]
     },
     "execution_count": 14,
     "metadata": {},
     "output_type": "execute_result"
    }
   ],
   "source": [
    "q=taylor(2,[1,5])"
   ]
  },
  {
   "cell_type": "code",
   "execution_count": 15,
   "metadata": {
    "collapsed": false
   },
   "outputs": [
    {
     "data": {
      "text/plain": [
       "2-element Array{Int64,1}:\n",
       " 2\n",
       " 7"
      ]
     },
     "execution_count": 15,
     "metadata": {},
     "output_type": "execute_result"
    }
   ],
   "source": [
    "n.coff+q.coff"
   ]
  },
  {
   "cell_type": "code",
   "execution_count": 16,
   "metadata": {
    "collapsed": false
   },
   "outputs": [
    {
     "data": {
      "text/plain": [
       "true"
      ]
     },
     "execution_count": 16,
     "metadata": {},
     "output_type": "execute_result"
    }
   ],
   "source": [
    "size(n.coff)==size(q.coff)"
   ]
  },
  {
   "cell_type": "code",
   "execution_count": 17,
   "metadata": {
    "collapsed": false
   },
   "outputs": [
    {
     "data": {
      "text/plain": [
       "igualavector (generic function with 1 method)"
      ]
     },
     "execution_count": 17,
     "metadata": {},
     "output_type": "execute_result"
    }
   ],
   "source": [
    "function igualavector(a,b)    #esta funcion compara los valores de los órdenes de los polinomios\n",
    "    if length(a.coff) < length(b.coff)\n",
    "        for i in length(a.coff):length(b.coff)-1    \n",
    "            push!(a.coff,0)\n",
    "        end\n",
    "        return alfa=b.orden     #sea cualquier caso, de no ser del mismo orden, el de orden menor aumenta su grado para ser igual al de grado mayor\n",
    "    elseif length(a.coff) >length(b.coff)\n",
    "        for i in length(b.coff):length(a.coff)-1\n",
    "            push!(b.coff,0)\n",
    "        end \n",
    "        return alfa=a.orden\n",
    "    end\n",
    "    return alfa=a.orden\n",
    "end"
   ]
  },
  {
   "cell_type": "code",
   "execution_count": 18,
   "metadata": {
    "collapsed": false
   },
   "outputs": [
    {
     "data": {
      "text/plain": [
       "Taylor{Int64}(3,[0,1,3])"
      ]
     },
     "execution_count": 18,
     "metadata": {},
     "output_type": "execute_result"
    }
   ],
   "source": [
    "k=Taylor(2,[1,1])\n",
    "j=Taylor(3,[0,1,3])"
   ]
  },
  {
   "cell_type": "code",
   "execution_count": 19,
   "metadata": {
    "collapsed": false
   },
   "outputs": [
    {
     "data": {
      "text/plain": [
       "3"
      ]
     },
     "execution_count": 19,
     "metadata": {},
     "output_type": "execute_result"
    }
   ],
   "source": [
    "igualavector(j,k)"
   ]
  },
  {
   "cell_type": "code",
   "execution_count": 20,
   "metadata": {
    "collapsed": false
   },
   "outputs": [
    {
     "data": {
      "text/plain": [
       "sumavector (generic function with 1 method)"
      ]
     },
     "execution_count": 20,
     "metadata": {},
     "output_type": "execute_result"
    }
   ],
   "source": [
    "function sumavector(a,b)\n",
    "    igualavector(a,b)    #condiciones quizá no tan necesarias, pero no funcionaban junto a la funcion igualavector\n",
    "    v=a.coff+b.coff\n",
    "    return v\n",
    "end"
   ]
  },
  {
   "cell_type": "code",
   "execution_count": 21,
   "metadata": {
    "collapsed": false
   },
   "outputs": [
    {
     "data": {
      "text/plain": [
       "3-element Array{Int64,1}:\n",
       " 1\n",
       " 2\n",
       " 3"
      ]
     },
     "execution_count": 21,
     "metadata": {},
     "output_type": "execute_result"
    }
   ],
   "source": [
    "sumavector(j,k)"
   ]
  },
  {
   "cell_type": "code",
   "execution_count": 22,
   "metadata": {
    "collapsed": false
   },
   "outputs": [
    {
     "data": {
      "text/plain": [
       "restavector (generic function with 1 method)"
      ]
     },
     "execution_count": 22,
     "metadata": {},
     "output_type": "execute_result"
    }
   ],
   "source": [
    "function restavector(a,b)  #análogo a la suma\n",
    "    igualavector(a,b)\n",
    "    v=a.coff-b.coff\n",
    "    return v\n",
    "end"
   ]
  },
  {
   "cell_type": "code",
   "execution_count": 23,
   "metadata": {
    "collapsed": false
   },
   "outputs": [
    {
     "data": {
      "text/plain": [
       "3-element Array{Int64,1}:\n",
       " -1\n",
       "  0\n",
       "  3"
      ]
     },
     "execution_count": 23,
     "metadata": {},
     "output_type": "execute_result"
    }
   ],
   "source": [
    "restavector(j,k)"
   ]
  },
  {
   "cell_type": "markdown",
   "metadata": {},
   "source": [
    "Una vez definido la suma y la resta, falta programar la multiplicación (la división se puede obtener con un algoritmo semejante al de la multiplicación)"
   ]
  },
  {
   "cell_type": "code",
   "execution_count": 88,
   "metadata": {
    "collapsed": false
   },
   "outputs": [
    {
     "name": "stderr",
     "output_type": "stream",
     "text": [
      "WARNING: Method definition multvector(Any, Any) in module Main at In[86]:2 overwritten"
     ]
    },
    {
     "data": {
      "text/plain": [
       "multvector (generic function with 1 method)"
      ]
     },
     "execution_count": 88,
     "metadata": {},
     "output_type": "execute_result"
    },
    {
     "name": "stderr",
     "output_type": "stream",
     "text": [
      " at In[88]:2.\n"
     ]
    }
   ],
   "source": [
    "function multvector(v,w)\n",
    "    n=length(v.coff)+length(w.coff)-1\n",
    "    a=length(v.coff)\n",
    "    b=length(w.coff)\n",
    "    x=zeros(n) #genera un vector de orden w+v para almacenar los resultados\n",
    "    y=zeros(b)\n",
    "    #auxiliar: esto solo estará para ver como opera este programa junto con igualavector\n",
    "    alfa=Taylor(n,x)\n",
    "    beta=Taylor(b,y)\n",
    "    #fin de auxiliar\n",
    "    c=b\n",
    "    l=1\n",
    "    for j in 1:a   #primer for, va cambiando el multiplicador por cada elemento de v.\n",
    "        for i in 1:b #segundo for, ejecuta la multiplicación con respecto a cada elemento de w\n",
    "            x[l]=(v.coff[j])*(w.coff[i])\n",
    "            l+=1\n",
    "        end\n",
    "        l=1\n",
    "    end\n",
    "    return x\n",
    "end"
   ]
  },
  {
   "cell_type": "code",
   "execution_count": 25,
   "metadata": {
    "collapsed": false
   },
   "outputs": [
    {
     "data": {
      "text/plain": [
       "4-element Array{Int64,1}:\n",
       " 0\n",
       " 1\n",
       " 0\n",
       " 0"
      ]
     },
     "execution_count": 25,
     "metadata": {},
     "output_type": "execute_result"
    }
   ],
   "source": [
    "w=[0,1,0,0]"
   ]
  },
  {
   "cell_type": "code",
   "execution_count": 26,
   "metadata": {
    "collapsed": false
   },
   "outputs": [
    {
     "data": {
      "text/plain": [
       "2"
      ]
     },
     "execution_count": 26,
     "metadata": {},
     "output_type": "execute_result"
    }
   ],
   "source": [
    "w[2]=w[2]+1"
   ]
  },
  {
   "cell_type": "code",
   "execution_count": 84,
   "metadata": {
    "collapsed": false
   },
   "outputs": [
    {
     "data": {
      "text/plain": [
       "Taylor{Int64}(2,[1,2,1])"
      ]
     },
     "execution_count": 84,
     "metadata": {},
     "output_type": "execute_result"
    }
   ],
   "source": [
    "k=taylor(2,[1,1])\n",
    "j=taylor(3,[1,2,1])"
   ]
  },
  {
   "cell_type": "code",
   "execution_count": 89,
   "metadata": {
    "collapsed": false
   },
   "outputs": [
    {
     "data": {
      "text/plain": [
       "4-element Array{Float64,1}:\n",
       " 1.0\n",
       " 2.0\n",
       " 1.0\n",
       " 0.0"
      ]
     },
     "execution_count": 89,
     "metadata": {},
     "output_type": "execute_result"
    }
   ],
   "source": [
    "multvector(k,j)"
   ]
  },
  {
   "cell_type": "code",
   "execution_count": 93,
   "metadata": {
    "collapsed": false
   },
   "outputs": [
    {
     "name": "stderr",
     "output_type": "stream",
     "text": [
      "WARNING: Method definition divivector(Any, Any) in module Main at In[90]:5 overwritten at In[93]:5.\n",
      "\u001b[1m\u001b[31mWARNING: replacing docs for 'divivector :: Tuple{Any,Any}' in module 'Main'.\u001b[0m\n"
     ]
    },
    {
     "data": {
      "text/plain": [
       "divivector"
      ]
     },
     "execution_count": 93,
     "metadata": {},
     "output_type": "execute_result"
    }
   ],
   "source": [
    "\"\"\"\n",
    "solo hará divisiones si el denominador es de grado menor que el numerador\n",
    "\"\"\"\n",
    "function divivector(f,g)\n",
    "    a=length(f.coff)\n",
    "    b=length(g.coff)\n",
    "    n=a-b+1\n",
    "    v=f.coff\n",
    "    w=g.coff\n",
    "    x=zeros(n)\n",
    "        \n",
    "    if a>=b\n",
    "        println(\"operación válida\")\n",
    "        for i in 1:b\n",
    "            for j in 1:a\n",
    "                x[j]=x[j]-f[j]/g[i]\n",
    "            end\n",
    "        end\n",
    "    else\n",
    "        error(\"no válido\")\n",
    "    end\n",
    "    return x\n",
    "end"
   ]
  },
  {
   "cell_type": "code",
   "execution_count": 94,
   "metadata": {
    "collapsed": false
   },
   "outputs": [
    {
     "name": "stdout",
     "output_type": "stream",
     "text": [
      "operación válida\n"
     ]
    },
    {
     "ename": "LoadError",
     "evalue": "MethodError: no method matching getindex(::Taylor{Int64}, ::Int64)",
     "output_type": "error",
     "traceback": [
      "MethodError: no method matching getindex(::Taylor{Int64}, ::Int64)",
      "",
      " in divivector(::Taylor{Int64}, ::Taylor{Int64}) at .\\In[93]:16"
     ]
    }
   ],
   "source": [
    "divivector(j,k)"
   ]
  },
  {
   "cell_type": "code",
   "execution_count": 29,
   "metadata": {
    "collapsed": false
   },
   "outputs": [
    {
     "name": "stderr",
     "output_type": "stream",
     "text": [
      "WARNING: Method definition +(Main.Taylor, Main."
     ]
    },
    {
     "data": {
      "text/plain": [
       "== (generic function with 119 methods)"
      ]
     },
     "execution_count": 29,
     "metadata": {},
     "output_type": "execute_result"
    },
    {
     "name": "stderr",
     "output_type": "stream",
     "text": [
      "Taylor) in module Main at In[29]:4 overwritten at In[29]:5.\n",
      "WARNING: Method definition -(Main.Taylor, Main.Taylor) in module Main at In[29]:6 overwritten at In[29]:7.\n"
     ]
    }
   ],
   "source": [
    "import Base: +, -, *, /, ==\n",
    "\n",
    "# Aqui se implementan los métodos necesarios para cada función\n",
    "+(A::Taylor,B::Taylor)=Taylor(igualavector(A,B),sumavector(A,B))\n",
    "+(A::Taylor,B::Taylor)=Taylor(igualavector(A,B),A.coff+B.coff)  #en caso de que el orden sea el mismo, la suma es directa\n",
    "-(A::Taylor,B::Taylor)=Taylor(igualavector(A,B),restavector(A,B))\n",
    "-(A::Taylor,B::Taylor)=Taylor(igualavector(A,B),A.coff-B.coff) #en caso de que el orden sea el mismo, la resta es directa\n",
    "*(A::Real,B::Taylor)=Taylor(B.orden,A*B.coff)\n",
    "*(A::Taylor,B::Real)=Taylor(A.orden,B*A.coff)\n",
    "\n",
    "/(A::Taylor,B::Real)=Taylor(A.orden,(A.coff)/B)\n",
    "\n",
    "==(A::Taylor,B::Taylor)=(A.orden==B.orden && A.coff==B.coff)"
   ]
  },
  {
   "cell_type": "code",
   "execution_count": 30,
   "metadata": {
    "collapsed": false
   },
   "outputs": [
    {
     "name": "stdout",
     "output_type": "stream",
     "text": [
      "\u001b[1m\u001b[37mTest Summary:      | \u001b[0m\u001b[1m\u001b[32mPass  \u001b[0m\u001b[1m\u001b[34mTotal\u001b[0m\n",
      "  pruebas realizadas | \u001b[1m\u001b[32m   7  \u001b[0m\u001b[1m\u001b[34m    7\u001b[0m\n"
     ]
    },
    {
     "name": "stderr",
     "output_type": "stream",
     "text": [
      "WARNING: using BD.xTaylor in module Main conflicts with an existing identifier.\n",
      "WARNING: using BD.Taylor in module Main conflicts with an existing identifier.\n"
     ]
    },
    {
     "data": {
      "text/plain": [
       "Base.Test.DefaultTestSet(\"pruebas realizadas\",Any[\u001b[1m\u001b[32mTest Passed\n",
       "\u001b[0m  Expression: taylor(1,[1]) + taylor(2,[1,2]) == Taylor(1,[2,2])\n",
       "   Evaluated: Taylor{Int64}(1,[2,2]) == Taylor{Int64}(1,[2,2]),\u001b[1m\u001b[32mTest Passed\n",
       "\u001b[0m  Expression: taylor(2,[1,1]) + taylor(2,[1,1]) == Taylor(1,[2,2])\n",
       "   Evaluated: Taylor{Int64}(1,[2,2]) == Taylor{Int64}(1,[2,2]),\u001b[1m\u001b[32mTest Passed\n",
       "\u001b[0m  Expression: taylor(1,[1]) - taylor(2,[1,2]) == Taylor(1,[0,-2])\n",
       "   Evaluated: Taylor{Int64}(1,[0,-2]) == Taylor{Int64}(1,[0,-2]),\u001b[1m\u001b[32mTest Passed\n",
       "\u001b[0m  Expression: taylor(2,[1,1]) - taylor(2,[1,1]) == Taylor(1,[0,0])\n",
       "   Evaluated: Taylor{Int64}(1,[0,0]) == Taylor{Int64}(1,[0,0]),\u001b[1m\u001b[32mTest Passed\n",
       "\u001b[0m  Expression: 3 * taylor(3,[10,20,30]) == Taylor(2,[30,60,90])\n",
       "   Evaluated: Taylor{Int64}(2,[30,60,90]) == Taylor{Int64}(2,[30,60,90]),\u001b[1m\u001b[32mTest Passed\n",
       "\u001b[0m  Expression: taylor(4,[2,4,6,8]) / 2 == Taylor(3,[1,2,3,4])\n",
       "   Evaluated: Taylor{Float64}(3,[1.0,2.0,3.0,4.0]) == Taylor{Int64}(3,[1,2,3,4]),\u001b[1m\u001b[32mTest Passed\n",
       "\u001b[0m  Expression: taylor(2,[1,2]) == Taylor(1,[1,2])\n",
       "   Evaluated: Taylor{Int64}(1,[1,2]) == Taylor{Int64}(1,[1,2])],false)"
      ]
     },
     "execution_count": 30,
     "metadata": {},
     "output_type": "execute_result"
    }
   ],
   "source": [
    "# Muestren que su código funciona con tests adecuados\n",
    "\n",
    "using Base.Test\n",
    "include(\"runtest_taylor.jl\")"
   ]
  },
  {
   "cell_type": "markdown",
   "metadata": {},
   "source": [
    "---"
   ]
  },
  {
   "cell_type": "markdown",
   "metadata": {},
   "source": [
    "## Ejercicio 2\n",
    "\n",
    "Obtengan las relaciones de recurrencia para las funciones $L(x) = \\log\\big(g(x)\\big)$, $P_\\alpha(x) = \\big(g(x)\\big)^\\alpha$, $S(x) = \\sin\\big(g(x)\\big)$, $C(x) = \\cos\\big(g(x)\\big)$ usando el mismo procedimiento que arriba. Implementen métodos adecuados para estas funciones en el módulo, actuando sobre estructuras `Taylor` e incluyan pruebas necesarias en `runtest_taylor.jl`."
   ]
  },
  {
   "cell_type": "code",
   "execution_count": null,
   "metadata": {
    "collapsed": true
   },
   "outputs": [],
   "source": []
  }
 ],
 "metadata": {
  "anaconda-cloud": {},
  "kernelspec": {
   "display_name": "Julia 0.5.0",
   "language": "julia",
   "name": "julia-0.5"
  },
  "language_info": {
   "file_extension": ".jl",
   "mimetype": "application/julia",
   "name": "julia",
   "version": "0.5.0"
  }
 },
 "nbformat": 4,
 "nbformat_minor": 2
}
