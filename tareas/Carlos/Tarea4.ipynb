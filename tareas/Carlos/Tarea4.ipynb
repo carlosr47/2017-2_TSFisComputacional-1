{
 "cells": [
  {
   "cell_type": "markdown",
   "metadata": {},
   "source": [
    "# Tarea4: Derivación automática 2"
   ]
  },
  {
   "cell_type": "markdown",
   "metadata": {},
   "source": [
    "Fecha de envío del PR inicial: **viernes 7 de abril**\n",
    "\n",
    "Fecha de aceptación del PR: **martes 18 de abril, antes de la clase**"
   ]
  },
  {
   "cell_type": "markdown",
   "metadata": {},
   "source": [
    "---\n",
    "\n",
    "## Ejercicio 1\n",
    "\n",
    "Implementen las funciones relacionadas con potencias, exponenciales, logarítmos, las funciones trigonométricas y las hiperbólicas que tiene Julia definidas (ver la [documentación](http://julia.readthedocs.io/en/stable/manual/mathematical-operations/#trigonometric-and-hyperbolic-functions)). La implementación debe incluir los tests adecuados. La manera en que implementen las cosas debe estar clara en el notebook \"Tarea4.ipynb\", pero toda la funcionalidad debe ser incluida en \"AutomDiff.jl\" al igual que en \"runtests.jl\"\n",
    "\n",
    "**Hint:** Pueden aprovechar las capacidades de Julia en metaprogramming."
   ]
  },
  {
   "cell_type": "code",
   "execution_count": 1,
   "metadata": {
    "collapsed": true
   },
   "outputs": [],
   "source": [
    "workspace()"
   ]
  },
  {
   "cell_type": "code",
   "execution_count": 2,
   "metadata": {
    "collapsed": false
   },
   "outputs": [
    {
     "name": "stdout",
     "output_type": "stream",
     "text": [
      "\u001b[1m\u001b[37mTest Summary:      | \u001b[0m\u001b[1m\u001b[32mPass  \u001b[0m\u001b[1m\u001b[34mTotal\u001b[0m\n",
      "  pruebas realizadas | \u001b[1m\u001b[32m   6  \u001b[0m\u001b[1m\u001b[34m    6\u001b[0m\n",
      "\u001b[1m\u001b[37mTest Summary:      | \u001b[0m\u001b[1m\u001b[32mPass  \u001b[0m\u001b[1m\u001b[34mTotal\u001b[0m\n",
      "  pruebas realizadas | \u001b[1m\u001b[32m  27  \u001b[0m\u001b[1m\u001b[34m   27\u001b[0m\n"
     ]
    },
    {
     "data": {
      "text/plain": [
       "Base.Test.DefaultTestSet(\"pruebas realizadas\",Any[\u001b[1m\u001b[32mTest Passed\n",
       "\u001b[0m  Expression: alfa.fun == 10\n",
       "   Evaluated: 10 == 10,\u001b[1m\u001b[32mTest Passed\n",
       "\u001b[0m  Expression: alfa.der == 4\n",
       "   Evaluated: 4 == 4,\u001b[1m\u001b[32mTest Passed\n",
       "\u001b[0m  Expression: alfa1.fun == 10\n",
       "   Evaluated: 10 == 10,\u001b[1m\u001b[32mTest Passed\n",
       "\u001b[0m  Expression: alfa1.der == 2\n",
       "   Evaluated: 2 == 2,\u001b[1m\u001b[32mTest Passed\n",
       "\u001b[0m  Expression: alfa2.fun == 10\n",
       "   Evaluated: 10 == 10,\u001b[1m\u001b[32mTest Passed\n",
       "\u001b[0m  Expression: alfa2.der == 2\n",
       "   Evaluated: 2 == 2,\u001b[1m\u001b[32mTest Passed\n",
       "\u001b[0m  Expression: betha.fun == 0\n",
       "   Evaluated: 0 == 0,\u001b[1m\u001b[32mTest Passed\n",
       "\u001b[0m  Expression: betha.der == 2\n",
       "   Evaluated: 2 == 2,\u001b[1m\u001b[32mTest Passed\n",
       "\u001b[0m  Expression: betha1.fun == 0\n",
       "   Evaluated: 0 == 0,\u001b[1m\u001b[32mTest Passed\n",
       "\u001b[0m  Expression: betha1.der == -4\n",
       "   Evaluated: -4 == -4  …  \u001b[1m\u001b[32mTest Passed\n",
       "\u001b[0m  Expression: gamma2.der == 6\n",
       "   Evaluated: 6 == 6,\u001b[1m\u001b[32mTest Passed\n",
       "\u001b[0m  Expression: delta.fun == 3\n",
       "   Evaluated: 3.0 == 3,\u001b[1m\u001b[32mTest Passed\n",
       "\u001b[0m  Expression: delta.der == 0.5\n",
       "   Evaluated: 0.5 == 0.5,\u001b[1m\u001b[32mTest Passed\n",
       "\u001b[0m  Expression: delta1.fun == 3\n",
       "   Evaluated: 3.0 == 3,\u001b[1m\u001b[32mTest Passed\n",
       "\u001b[0m  Expression: delta1.der == 1\n",
       "   Evaluated: 1.0 == 1,\u001b[1m\u001b[32mTest Passed\n",
       "\u001b[0m  Expression: epsilon.fun == 16\n",
       "   Evaluated: 16.0 == 16,\u001b[1m\u001b[32mTest Passed\n",
       "\u001b[0m  Expression: epsilon.der == 0\n",
       "   Evaluated: 0.0 == 0,\u001b[1m\u001b[32mTest Passed\n",
       "\u001b[0m  Expression: Dual(12,2) == Dual(12,2)\n",
       "   Evaluated: AD.Dual{Int64}(12,2) == AD.Dual{Int64}(12,2),\u001b[1m\u001b[32mTest Passed\n",
       "\u001b[0m  Expression: Dual(12) == Dual(12,0)\n",
       "   Evaluated: AD.Dual{Float64}(12.0,0.0) == AD.Dual{Int64}(12,0),\u001b[1m\u001b[32mTest Passed\n",
       "\u001b[0m  Expression: Dual(12,0) == Dual(12)\n",
       "   Evaluated: AD.Dual{Int64}(12,0) == AD.Dual{Float64}(12.0,0.0)],false)"
      ]
     },
     "execution_count": 2,
     "metadata": {},
     "output_type": "execute_result"
    }
   ],
   "source": [
    "include(\"runtest.jl\")"
   ]
  },
  {
   "cell_type": "code",
   "execution_count": 3,
   "metadata": {
    "collapsed": false
   },
   "outputs": [
    {
     "data": {
      "text/plain": [
       "AD.Dual{Float64}(5.0,0.0)"
      ]
     },
     "execution_count": 3,
     "metadata": {},
     "output_type": "execute_result"
    }
   ],
   "source": [
    "Dual(5)"
   ]
  },
  {
   "cell_type": "code",
   "execution_count": 16,
   "metadata": {
    "collapsed": false
   },
   "outputs": [
    {
     "data": {
      "text/plain": [
       "seno"
      ]
     },
     "execution_count": 16,
     "metadata": {},
     "output_type": "execute_result"
    }
   ],
   "source": [
    "\"\"\"\n",
    "aqui se definen las funciones trigonométricas, logaritmicas, exponenciales e hiperbólicas\n",
    "\"\"\"\n",
    "function seno(x)\n",
    "    return Dual(sin(x),cos(x))\n",
    "end"
   ]
  },
  {
   "cell_type": "markdown",
   "metadata": {},
   "source": [
    "---\n",
    "\n",
    "## Ejercicio 2\n",
    "\n",
    "Prueben su implementación calculando la derivada de $f(x) = \\sin\\Big(x^3 - \\frac{2}{x^6}\\Big)$\n",
    "en $x_0 = 2$.\n",
    "\n",
    "Dibujen, para $x_0 \\in [1,5]$ la función $f'(x)$."
   ]
  },
  {
   "cell_type": "code",
   "execution_count": null,
   "metadata": {
    "collapsed": true
   },
   "outputs": [],
   "source": []
  },
  {
   "cell_type": "markdown",
   "metadata": {},
   "source": [
    "---\n",
    "\n",
    "## Ejercicio 3\n",
    "\n",
    "Implementen el método de Newton para una función arbitraria $f(x)$ en una variable (la función `newton1D` debe tener un argumento que es una función) a fin de encontrar un cero de la función, i.e., $f(x^*)=0$. El método de Newton requiere la derivada evaluada en diversos puntos, cosa que obtendrán usando el módulo de derivación automática.\n",
    "\n",
    "- Obtengan, usando su función del método de Newton, las raices del polinomio de Wilkinson $W_{6}(x)$, usando como iterados iniciales $x_0=2.2$ y $x_0=2.45$.\n",
    "    \n",
    "- Hagan lo mismo que en el inciso anterior para $g(x) = x \\sin(2x)$, con $x_0=0.7$."
   ]
  },
  {
   "cell_type": "code",
   "execution_count": null,
   "metadata": {
    "collapsed": true
   },
   "outputs": [],
   "source": []
  },
  {
   "cell_type": "markdown",
   "metadata": {},
   "source": [
    "---\n",
    "\n",
    "## Pregunta\n",
    "\n",
    "¿Qué hacer si se requieren derivadas de orden superior, es decir, la segunda, tercera, etc, derivada? Argumenten.\n",
    "\n",
    "**NOTA:** Esta pregunta debe ser contestada pero **no** será considerada para aceptar la tarea, aunque sí se les dará retroalimentación respecto a lo que escriben. La idea es empezar a pensar en esto."
   ]
  },
  {
   "cell_type": "code",
   "execution_count": null,
   "metadata": {
    "collapsed": true
   },
   "outputs": [],
   "source": []
  }
 ],
 "metadata": {
  "kernelspec": {
   "display_name": "Julia 0.5.0",
   "language": "julia",
   "name": "julia-0.5"
  },
  "language_info": {
   "file_extension": ".jl",
   "mimetype": "application/julia",
   "name": "julia",
   "version": "0.5.0"
  }
 },
 "nbformat": 4,
 "nbformat_minor": 2
}
