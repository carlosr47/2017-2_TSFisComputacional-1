{
 "cells": [
  {
   "cell_type": "markdown",
   "metadata": {},
   "source": [
    "# Tarea4: Derivación automática 2"
   ]
  },
  {
   "cell_type": "markdown",
   "metadata": {},
   "source": [
    "Fecha de envío del PR inicial: **viernes 7 de abril**\n",
    "\n",
    "Fecha de aceptación del PR: **martes 18 de abril, antes de la clase**"
   ]
  },
  {
   "cell_type": "markdown",
   "metadata": {},
   "source": [
    "---\n",
    "\n",
    "## Ejercicio 1\n",
    "\n",
    "Implementen las funciones relacionadas con potencias, exponenciales, logarítmos, las funciones trigonométricas y las hiperbólicas que tiene Julia definidas (ver la [documentación](http://julia.readthedocs.io/en/stable/manual/mathematical-operations/#trigonometric-and-hyperbolic-functions)). La implementación debe incluir los tests adecuados. La manera en que implementen las cosas debe estar clara en el notebook \"Tarea4.ipynb\", pero toda la funcionalidad debe ser incluida en \"AutomDiff.jl\" al igual que en \"runtests.jl\"\n",
    "\n",
    "**Hint:** Pueden aprovechar las capacidades de Julia en metaprogramming."
   ]
  },
  {
   "cell_type": "code",
   "execution_count": 1,
   "metadata": {
    "collapsed": false
   },
   "outputs": [
    {
     "name": "stderr",
     "output_type": "stream",
     "text": [
      "WARNING: Method definition sin(AD"
     ]
    },
    {
     "data": {
      "text/plain": [
       "sqrt (generic function with 11 methods)"
      ]
     },
     "execution_count": 1,
     "metadata": {},
     "output_type": "execute_result"
    },
    {
     "name": "stderr",
     "output_type": "stream",
     "text": [
      ".Dual) in module AD at C:\\KIRA\\2017-2_TSFisComputacional-1\\tareas\\Carlos\\AutomDiff.jl:74 overwritten in module Main at In[1]:5.\n",
      "WARNING: Method definition cos(AD.Dual) in module AD at C:\\KIRA\\2017-2_TSFisComputacional-1\\tareas\\Carlos\\AutomDiff.jl:75 overwritten in module Main at In[1]:6.\n",
      "WARNING: Method definition tan(AD.Dual) in module AD at C:\\KIRA\\2017-2_TSFisComputacional-1\\tareas\\Carlos\\AutomDiff.jl:76 overwritten in module Main at In[1]:7.\n",
      "WARNING: Method definition cot(AD.Dual) in module AD at C:\\KIRA\\2017-2_TSFisComputacional-1\\tareas\\Carlos\\AutomDiff.jl:77 overwritten in module Main at In[1]:8.\n",
      "WARNING: Method definition sec(AD.Dual) in module AD at C:\\KIRA\\2017-2_TSFisComputacional-1\\tareas\\Carlos\\AutomDiff.jl:78 overwritten in module Main at In[1]:9.\n",
      "WARNING: Method definition csc(AD.Dual) in module AD at C:\\KIRA\\2017-2_TSFisComputacional-1\\tareas\\Carlos\\AutomDiff.jl:79 overwritten in module Main at In[1]:10.\n",
      "WARNING: Method definition sinh(AD.Dual) in module AD at C:\\KIRA\\2017-2_TSFisComputacional-1\\tareas\\Carlos\\AutomDiff.jl:80 overwritten in module Main at In[1]:11.\n",
      "WARNING: Method definition cosh(AD.Dual) in module AD at C:\\KIRA\\2017-2_TSFisComputacional-1\\tareas\\Carlos\\AutomDiff.jl:81 overwritten in module Main at In[1]:12.\n",
      "WARNING: Method definition tanh(AD.Dual) in module AD at C:\\KIRA\\2017-2_TSFisComputacional-1\\tareas\\Carlos\\AutomDiff.jl:82 overwritten in module Main at In[1]:13.\n",
      "WARNING: Method definition coth(AD.Dual) in module AD at C:\\KIRA\\2017-2_TSFisComputacional-1\\tareas\\Carlos\\AutomDiff.jl:83 overwritten in module Main at In[1]:14.\n",
      "WARNING: Method definition sech(AD.Dual) in module AD at C:\\KIRA\\2017-2_TSFisComputacional-1\\tareas\\Carlos\\AutomDiff.jl:84 overwritten in module Main at In[1]:15.\n",
      "WARNING: Method definition csch(AD.Dual) in module AD at C:\\KIRA\\2017-2_TSFisComputacional-1\\tareas\\Carlos\\AutomDiff.jl:85 overwritten in module Main at In[1]:16.\n",
      "WARNING: Method definition asin(AD.Dual) in module AD at C:\\KIRA\\2017-2_TSFisComputacional-1\\tareas\\Carlos\\AutomDiff.jl:86 overwritten in module Main at In[1]:17.\n",
      "WARNING: Method definition acos(AD.Dual) in module AD at C:\\KIRA\\2017-2_TSFisComputacional-1\\tareas\\Carlos\\AutomDiff.jl:87 overwritten in module Main at In[1]:18.\n",
      "WARNING: Method definition atan(AD.Dual) in module AD at C:\\KIRA\\2017-2_TSFisComputacional-1\\tareas\\Carlos\\AutomDiff.jl:88 overwritten in module Main at In[1]:19.\n",
      "WARNING: Method definition acot(AD.Dual) in module AD at C:\\KIRA\\2017-2_TSFisComputacional-1\\tareas\\Carlos\\AutomDiff.jl:89 overwritten in module Main at In[1]:20.\n",
      "WARNING: Method definition asec(AD.Dual) in module AD at C:\\KIRA\\2017-2_TSFisComputacional-1\\tareas\\Carlos\\AutomDiff.jl:90 overwritten in module Main at In[1]:21.\n",
      "WARNING: Method definition acsc(AD.Dual) in module AD at C:\\KIRA\\2017-2_TSFisComputacional-1\\tareas\\Carlos\\AutomDiff.jl:91 overwritten in module Main at In[1]:22.\n",
      "WARNING: Method definition exp(AD.Dual) in module AD at C:\\KIRA\\2017-2_TSFisComputacional-1\\tareas\\Carlos\\AutomDiff.jl:92 overwritten in module Main at In[1]:23.\n",
      "WARNING: Method definition log(AD.Dual) in module AD at C:\\KIRA\\2017-2_TSFisComputacional-1\\tareas\\Carlos\\AutomDiff.jl:93 overwritten in module Main at In[1]:24.\n",
      "WARNING: Method definition sqrt(AD.Dual) in module AD at C:\\KIRA\\2017-2_TSFisComputacional-1\\tareas\\Carlos\\AutomDiff.jl:94 overwritten in module Main at In[1]:25.\n"
     ]
    }
   ],
   "source": [
    "include(\"AutomDiff.jl\")\n",
    "using AD\n",
    "import Base:sin,cos,tan,cot,sec,csc,sinh,cosh,tanh,coth,sech,csch,asin,acos,atan,acot,asec,acsc,exp,log,sqrt\n",
    "#como en la tarea pasada, se harán tuplas, la primera entrada del dual es la función, mientras que la segunda entraa es su dervidad.\n",
    "sin(A::Dual)=Dual(sin(A.fun),cos(A.fun)*A.der)\n",
    "cos(A::Dual)=Dual(cos(A.fun),-sin(A.fun)*A.der)\n",
    "tan(A::Dual)=Dual(tan(A.fun),(sec(A.fun)^2)*A.der)\n",
    "cot(A::Dual)=Dual(cot(A.fun),(-csc(A.fun)^2)*A.der)\n",
    "sec(A::Dual)=Dual(sec(A.fun),(sec(A.fun)*tan(A.fun))*A.der)\n",
    "csc(A::Dual)=Dual(csc(A.fun),(-csc(A.fun)*cot(A.fun))*A.der)\n",
    "sinh(A::Dual)=Dual(sinh(A.fun),cosh(A.fun)*A.der)\n",
    "cosh(A::Dual)=Dual(cosh(A.fun),sinh(A.fun)*A.der)\n",
    "tanh(A::Dual)=Dual(tanh(A.fun),(sech(A.fun)^2)*A.der)\n",
    "coth(A::Dual)=Dual(coth(A.fun),(-csch(A.fun)^2)*A.der)\n",
    "sech(A::Dual)=Dual(sech(A.fun),(-sech(A.fun)*tanh(A.fun))*A.der)\n",
    "csch(A::Dual)=Dual(csch(A.fun),(-coth(A.fun)*csch(A.fun))*A.der)\n",
    "asin(A::Dual)=Dual(asin(A.fun),(1/sqrt(1-(A.fun)^2))*A.der)\n",
    "acos(A::Dual)=Dual(acos(A.fun),(-1/sqrt(1-(A.fun)^2))*A.der)\n",
    "atan(A::Dual)=Dual(atan(A.fun),(1/(1+(A.fun)^2))*A.der)\n",
    "acot(A::Dual)=Dual(acot(A.fun),(-1/(1+(A.fun)^2))*A.der)\n",
    "asec(A::Dual)=Dual(asec(A.fun),(1/((A.fun)*sqrt(((A.fun)^2)-1)))*A.der)\n",
    "acsc(A::Dual)=Dual(acsc(A.fun),(-1/((A.fun)*sqrt(((A.fun)^2)-1)))*A.der)\n",
    "exp(A::Dual)=Dual(exp(A.fun),(exp(A.fun))*A.der)\n",
    "log(A::Dual)=Dual(log(A.fun),(1/(A.fun))*A.der)\n",
    "sqrt(A::Dual)=Dual(sqrt(A.fun),(A.der/(2*sqrt(A.fun))))\n",
    "# basado en la sintaxis empleada en la tarea4 del alumno Héctor Alonso a.k.a. H-Cote"
   ]
  },
  {
   "cell_type": "code",
   "execution_count": 2,
   "metadata": {
    "collapsed": false
   },
   "outputs": [
    {
     "name": "stdout",
     "output_type": "stream",
     "text": [
      "\u001b[1m\u001b[37mTest Summary:      | \u001b[0m\u001b[1m\u001b[32mPass  \u001b[0m\u001b[1m\u001b[34mTotal\u001b[0m\n",
      "  pruebas realizadas | \u001b[1m\u001b[32m  21  \u001b[0m\u001b[1m\u001b[34m   21\u001b[0m\n"
     ]
    },
    {
     "data": {
      "text/plain": [
       "Base.Test.DefaultTestSet(\"pruebas realizadas\",Any[\u001b[1m\u001b[32mTest Passed\n",
       "\u001b[0m  Expression: exp(xdual(1)) == Dual(exp(1),exp(1))\n",
       "   Evaluated: AD.Dual{Float64}(2.71828,2.71828) == AD.Dual{Float64}(2.71828,2.71828),\u001b[1m\u001b[32mTest Passed\n",
       "\u001b[0m  Expression: log(xdual(1)) == Dual(log(1),1.0)\n",
       "   Evaluated: AD.Dual{Float64}(0.0,1.0) == AD.Dual{Float64}(0.0,1.0),\u001b[1m\u001b[32mTest Passed\n",
       "\u001b[0m  Expression: sin(xdual(0)) == Dual(0.0,1.0)\n",
       "   Evaluated: AD.Dual{Float64}(0.0,1.0) == AD.Dual{Float64}(0.0,1.0),\u001b[1m\u001b[32mTest Passed\n",
       "\u001b[0m  Expression: cos(xdual(0)) == Dual(1.0,0.0)\n",
       "   Evaluated: AD.Dual{Float64}(1.0,-0.0) == AD.Dual{Float64}(1.0,0.0),\u001b[1m\u001b[32mTest Passed\n",
       "\u001b[0m  Expression: tan(xdual(1)) == Dual(tan(1),sec(1) ^ 2)\n",
       "   Evaluated: AD.Dual{Float64}(1.55741,3.42552) == AD.Dual{Float64}(1.55741,3.42552),\u001b[1m\u001b[32mTest Passed\n",
       "\u001b[0m  Expression: cot(xdual(1)) == Dual(cot(1),-(csc(1) ^ 2))\n",
       "   Evaluated: AD.Dual{Float64}(0.642093,-1.41228) == AD.Dual{Float64}(0.642093,-1.41228),\u001b[1m\u001b[32mTest Passed\n",
       "\u001b[0m  Expression: sec(xdual(1)) == Dual(sec(1),sec(1) * tan(1))\n",
       "   Evaluated: AD.Dual{Float64}(1.85082,2.88247) == AD.Dual{Float64}(1.85082,2.88247),\u001b[1m\u001b[32mTest Passed\n",
       "\u001b[0m  Expression: csc(xdual(1)) == Dual(csc(1),-(csc(1)) * cot(1))\n",
       "   Evaluated: AD.Dual{Float64}(1.1884,-0.76306) == AD.Dual{Float64}(1.1884,-0.76306),\u001b[1m\u001b[32mTest Passed\n",
       "\u001b[0m  Expression: sinh(xdual(1)) == Dual(sinh(1),cosh(1))\n",
       "   Evaluated: AD.Dual{Float64}(1.1752,1.54308) == AD.Dual{Float64}(1.1752,1.54308),\u001b[1m\u001b[32mTest Passed\n",
       "\u001b[0m  Expression: cosh(xdual(1)) == Dual(cosh(1),sinh(1))\n",
       "   Evaluated: AD.Dual{Float64}(1.54308,1.1752) == AD.Dual{Float64}(1.54308,1.1752)  …  \u001b[1m\u001b[32mTest Passed\n",
       "\u001b[0m  Expression: coth(xdual(1)) == Dual(coth(1),-(csch(1) ^ 2))\n",
       "   Evaluated: AD.Dual{Float64}(1.31304,-0.724062) == AD.Dual{Float64}(1.31304,-0.724062),\u001b[1m\u001b[32mTest Passed\n",
       "\u001b[0m  Expression: sech(xdual(1)) == Dual(sech(1),-(tanh(1)) * sech(1))\n",
       "   Evaluated: AD.Dual{Float64}(0.648054,-0.493554) == AD.Dual{Float64}(0.648054,-0.493554),\u001b[1m\u001b[32mTest Passed\n",
       "\u001b[0m  Expression: csch(xdual(1)) == Dual(csch(1),-(coth(1)) * csch(1))\n",
       "   Evaluated: AD.Dual{Float64}(0.850918,-1.11729) == AD.Dual{Float64}(0.850918,-1.11729),\u001b[1m\u001b[32mTest Passed\n",
       "\u001b[0m  Expression: asin(xdual(0.5)) == Dual(asin(0.5),1 / sqrt(1 - 0.5 ^ 2))\n",
       "   Evaluated: AD.Dual{Float64}(0.523599,1.1547) == AD.Dual{Float64}(0.523599,1.1547),\u001b[1m\u001b[32mTest Passed\n",
       "\u001b[0m  Expression: acos(xdual(0.5)) == Dual(acos(0.5),-1 / sqrt(1 - 0.5 ^ 2))\n",
       "   Evaluated: AD.Dual{Float64}(1.0472,-1.1547) == AD.Dual{Float64}(1.0472,-1.1547),\u001b[1m\u001b[32mTest Passed\n",
       "\u001b[0m  Expression: atan(xdual(0)) == Dual(atan(0),1 / (1 + 0 ^ 2))\n",
       "   Evaluated: AD.Dual{Float64}(0.0,1.0) == AD.Dual{Float64}(0.0,1.0),\u001b[1m\u001b[32mTest Passed\n",
       "\u001b[0m  Expression: acot(xdual(0.5)) == Dual(acot(0.5),-1 / (1 + 0.5 ^ 2))\n",
       "   Evaluated: AD.Dual{Float64}(1.10715,-0.8) == AD.Dual{Float64}(1.10715,-0.8),\u001b[1m\u001b[32mTest Passed\n",
       "\u001b[0m  Expression: asec(xdual(2)) == Dual(asec(2),1 / (2 * sqrt(2 ^ 2 - 1)))\n",
       "   Evaluated: AD.Dual{Float64}(1.0472,0.288675) == AD.Dual{Float64}(1.0472,0.288675),\u001b[1m\u001b[32mTest Passed\n",
       "\u001b[0m  Expression: acsc(xdual(2)) == Dual(acsc(2),-1 / (2 * sqrt(2 ^ 2 - 1)))\n",
       "   Evaluated: AD.Dual{Float64}(0.523599,-0.288675) == AD.Dual{Float64}(0.523599,-0.288675),\u001b[1m\u001b[32mTest Passed\n",
       "\u001b[0m  Expression: sqrt(xdual(25)) == Dual(sqrt(25),1 / (2 * sqrt(25)))\n",
       "   Evaluated: AD.Dual{Float64}(5.0,0.1) == AD.Dual{Float64}(5.0,0.1)],false)"
      ]
     },
     "execution_count": 2,
     "metadata": {},
     "output_type": "execute_result"
    }
   ],
   "source": [
    "using Base.Test\n",
    "@testset \"pruebas realizadas\" begin\n",
    "    @test exp(xdual(1))==Dual(exp(1),exp(1))\n",
    "    @test log(xdual(1))==Dual(log(1),1.0)\n",
    "    @test sin(xdual(0))==Dual(0.0,1.0)\n",
    "    @test cos(xdual(0))==Dual(1.0,0.0)\n",
    "    @test tan(xdual(1))==Dual(tan(1),sec(1)^2)\n",
    "    @test cot(xdual(1))==Dual(cot(1),-csc(1)^2)\n",
    "    @test sec(xdual(1))==Dual(sec(1),sec(1)*tan(1))\n",
    "    @test csc(xdual(1))==Dual(csc(1),-csc(1)*cot(1))\n",
    "    @test sinh(xdual(1))==Dual(sinh(1),cosh(1))\n",
    "    @test cosh(xdual(1))==Dual(cosh(1),sinh(1))\n",
    "    @test tanh(xdual(1))==Dual(tanh(1),sech(1)^2)\n",
    "    @test coth(xdual(1))==Dual(coth(1),-csch(1)^2)\n",
    "    @test sech(xdual(1))==Dual(sech(1),-tanh(1)*sech(1))\n",
    "    @test csch(xdual(1))==Dual(csch(1),-coth(1)*csch(1))\n",
    "    @test asin(xdual(0.5))==Dual(asin(0.5),1/(sqrt(1-(0.5)^2)))\n",
    "    @test acos(xdual(0.5))==Dual(acos(0.5),-1/(sqrt(1-(0.5)^2)))\n",
    "    @test atan(xdual(0))==Dual(atan(0),1/(1+0^2))\n",
    "    @test acot(xdual(0.5))==Dual(acot(0.5),-1/(1+(0.5)^2))\n",
    "    @test asec(xdual(2))==Dual(asec(2),1/((2)*(sqrt(((2)^2)-1))))\n",
    "    @test acsc(xdual(2))==Dual(acsc(2),-1/((2)*(sqrt(((2)^2)-1))))\n",
    "    @test sqrt(xdual(25))==Dual(sqrt(25),1/(2*sqrt(25)))\n",
    "    \n",
    "end"
   ]
  },
  {
   "cell_type": "markdown",
   "metadata": {},
   "source": [
    "---\n",
    "\n",
    "## Ejercicio 2\n",
    "\n",
    "Prueben su implementación calculando la derivada de $f(x) = \\sin\\Big(x^3 - \\frac{2}{x^6}\\Big)$\n",
    "en $x_0 = 2$.\n",
    "\n",
    "Dibujen, para $x_0 \\in [1,5]$ la función $f'(x)$."
   ]
  },
  {
   "cell_type": "code",
   "execution_count": 3,
   "metadata": {
    "collapsed": false
   },
   "outputs": [
    {
     "data": {
      "text/plain": [
       "g (generic function with 1 method)"
      ]
     },
     "execution_count": 3,
     "metadata": {},
     "output_type": "execute_result"
    }
   ],
   "source": [
    "g(x)=sin(x^3-(2/x^6))"
   ]
  },
  {
   "cell_type": "code",
   "execution_count": 4,
   "metadata": {
    "collapsed": false
   },
   "outputs": [
    {
     "data": {
      "text/plain": [
       "AD.Dual{Float64}(0.9934213368955197,-1.384934905523464)"
      ]
     },
     "execution_count": 4,
     "metadata": {},
     "output_type": "execute_result"
    }
   ],
   "source": [
    "g(xdual(2))"
   ]
  },
  {
   "cell_type": "code",
   "execution_count": 5,
   "metadata": {
    "collapsed": false
   },
   "outputs": [
    {
     "data": {
      "text/plain": [
       "dg (generic function with 1 method)"
      ]
     },
     "execution_count": 5,
     "metadata": {},
     "output_type": "execute_result"
    }
   ],
   "source": [
    "dg(x)=cos(x^3-(2/x^6))*(3x^2+(12/x^7))"
   ]
  },
  {
   "cell_type": "code",
   "execution_count": 6,
   "metadata": {
    "collapsed": false
   },
   "outputs": [
    {
     "data": {
      "text/plain": [
       "(0.9934213368955197,-1.384934905523464)"
      ]
     },
     "execution_count": 6,
     "metadata": {},
     "output_type": "execute_result"
    }
   ],
   "source": [
    "g(2),dg(2)"
   ]
  },
  {
   "cell_type": "code",
   "execution_count": 7,
   "metadata": {
    "collapsed": false
   },
   "outputs": [
    {
     "data": {
      "text/plain": [
       "0.9934213368955197"
      ]
     },
     "execution_count": 7,
     "metadata": {},
     "output_type": "execute_result"
    }
   ],
   "source": [
    "g(xdual(2)).fun"
   ]
  },
  {
   "cell_type": "code",
   "execution_count": 8,
   "metadata": {
    "collapsed": false
   },
   "outputs": [
    {
     "data": {
      "text/plain": [
       "-1.384934905523464"
      ]
     },
     "execution_count": 8,
     "metadata": {},
     "output_type": "execute_result"
    }
   ],
   "source": [
    "g(xdual(2)).der"
   ]
  },
  {
   "cell_type": "markdown",
   "metadata": {},
   "source": [
    "Los valores mostrados tanto de forma manual (escribiendo la función y la derivada) como en la derivación automática son los mismos. Se procede a hacer la gráfica"
   ]
  },
  {
   "cell_type": "code",
   "execution_count": 9,
   "metadata": {
    "collapsed": false
   },
   "outputs": [
    {
     "data": {
      "image/png": "[encoded data removed]",
      "text/plain": [
       "PyPlot.Figure(PyObject <matplotlib.figure.Figure object at 0x0000000029D6AA58>)"
      ]
     },
     "metadata": {},
     "output_type": "display_data"
    }
   ],
   "source": [
    "total=10000 #numero de datos por evaluar en la gráfica\n",
    "particion=(5-1)/total #diviciones por hacer en la gráfica\n",
    "x=[i=zero(eltype(particion)) for i=1:total]\n",
    "y=[i=zero(eltype(particion)) for i=1:total]    #se generan los vectores con ceros en las entradas, uno para el eje x y el otro para la derivada\n",
    "for i in 1:total\n",
    "    x0=1+i*particion\n",
    "    k=g(xdual(x0))\n",
    "    x[i]=x0\n",
    "    y[i]=k.der #valores de la derivada en ciclo for\n",
    "end\n",
    "using PyPlot\n",
    "plot(x,y,color=\"red\",label=\"derivación automática de g\")\n",
    "title(\"resultad de la derivacion automatica\")\n",
    "xlabel(\"valores en el eje x\")\n",
    "ylabel(\"derivada evaluada en la función g'\")\n",
    "legend(loc=\"best\")\n",
    "grid()\n",
    "show()\n"
   ]
  },
  {
   "cell_type": "markdown",
   "metadata": {},
   "source": [
    "---\n",
    "\n",
    "## Ejercicio 3\n",
    "\n",
    "Implementen el método de Newton para una función arbitraria $f(x)$ en una variable (la función `newton1D` debe tener un argumento que es una función) a fin de encontrar un cero de la función, i.e., $f(x^*)=0$. El método de Newton requiere la derivada evaluada en diversos puntos, cosa que obtendrán usando el módulo de derivación automática.\n",
    "\n",
    "- Obtengan, usando su función del método de Newton, las raices del polinomio de Wilkinson $W_{6}(x)$, usando como iterados iniciales $x_0=2.2$ y $x_0=2.45$.\n",
    "    \n",
    "- Hagan lo mismo que en el inciso anterior para $g(x) = x \\sin(2x)$, con $x_0=0.7$."
   ]
  },
  {
   "cell_type": "markdown",
   "metadata": {},
   "source": [
    "**a)**"
   ]
  },
  {
   "cell_type": "code",
   "execution_count": 10,
   "metadata": {
    "collapsed": false
   },
   "outputs": [
    {
     "data": {
      "text/plain": [
       "W6 (generic function with 1 method)"
      ]
     },
     "execution_count": 10,
     "metadata": {},
     "output_type": "execute_result"
    }
   ],
   "source": [
    "W6(x)=(x-1)*(x-2)*(x-3)*(x-4)*(x-5)*(x-6)"
   ]
  },
  {
   "cell_type": "code",
   "execution_count": 11,
   "metadata": {
    "collapsed": false
   },
   "outputs": [
    {
     "data": {
      "text/plain": [
       "Newton (generic function with 1 method)"
      ]
     },
     "execution_count": 11,
     "metadata": {},
     "output_type": "execute_result"
    }
   ],
   "source": [
    "function Newton(f,x0)\n",
    "    absoluto=1.0\n",
    "    while (absoluto> 1e-16) #condicion necesarias para hacer la iteración, en caso de encontrar la raíz, el programa\n",
    "        #parará en automático\n",
    "        c=f(xdual(x0))\n",
    "        x0=x0-((c.fun)/(c.der))\n",
    "        absoluto=abs(f(x0))\n",
    "        println(x0)\n",
    "    end\n",
    "    return x0,absoluto\n",
    "end"
   ]
  },
  {
   "cell_type": "code",
   "execution_count": 12,
   "metadata": {
    "collapsed": false
   },
   "outputs": [
    {
     "name": "stdout",
     "output_type": "stream",
     "text": [
      "1.906527735212994\n",
      "1.9930703843175974\n",
      "1.9999491606343454\n",
      "1.9999999972004447\n",
      "2.0\n"
     ]
    },
    {
     "data": {
      "text/plain": [
       "(2.0,0.0)"
      ]
     },
     "execution_count": 12,
     "metadata": {},
     "output_type": "execute_result"
    }
   ],
   "source": [
    "Newton(W6,2.20)"
   ]
  },
  {
   "cell_type": "markdown",
   "metadata": {},
   "source": [
    "Ahora, utilizando otra condición inicial en el polinomio de Wilkinson (x0=2.45)"
   ]
  },
  {
   "cell_type": "code",
   "execution_count": 13,
   "metadata": {
    "collapsed": false
   },
   "outputs": [
    {
     "name": "stdout",
     "output_type": "stream",
     "text": [
      "6.888275882869115\n",
      "6.5085056100300305\n",
      "6.239432361284223\n",
      "6.07723542628128\n",
      "6.011116779705457\n",
      "6.000273299604891\n",
      "6.000000170412077\n",
      "6.000000000000067\n",
      "6.0\n"
     ]
    },
    {
     "data": {
      "text/plain": [
       "(6.0,0.0)"
      ]
     },
     "execution_count": 13,
     "metadata": {},
     "output_type": "execute_result"
    }
   ],
   "source": [
    "Newton(W6,2.45)"
   ]
  },
  {
   "cell_type": "markdown",
   "metadata": {},
   "source": [
    "**b)**"
   ]
  },
  {
   "cell_type": "code",
   "execution_count": 14,
   "metadata": {
    "collapsed": false
   },
   "outputs": [
    {
     "data": {
      "text/plain": [
       "h (generic function with 1 method)"
      ]
     },
     "execution_count": 14,
     "metadata": {},
     "output_type": "execute_result"
    }
   ],
   "source": [
    "h(x)=x*sin(2*x)"
   ]
  },
  {
   "cell_type": "code",
   "execution_count": 15,
   "metadata": {
    "collapsed": false
   },
   "outputs": [
    {
     "name": "stdout",
     "output_type": "stream",
     "text": [
      "0.13615112979555188\n",
      "0.06721946042654862\n",
      "0.03350805865645865\n",
      "0.01674147533427841\n",
      "0.008369173174403069\n",
      "0.004184391173594745\n",
      "0.002092171164715967\n",
      "0.0010460825297421254\n",
      "0.0005230408832985901\n",
      "0.0002615203939528769\n",
      "0.00013076019101439059\n",
      "6.538009476193943e-5\n",
      "3.269004728781274e-5\n",
      "1.634502363226175e-5\n",
      "8.172511814675298e-6\n",
      "4.086255907155701e-6\n",
      "2.043127953555107e-6\n",
      "1.0215639767747104e-6\n",
      "5.107819883869998e-7\n",
      "2.5539099419345546e-7\n",
      "1.276954970967222e-7\n",
      "6.384774854836041e-8\n",
      "3.192387427418012e-8\n",
      "1.5961937137090047e-8\n",
      "7.980968568545022e-9\n",
      "3.990484284272511e-9\n"
     ]
    },
    {
     "data": {
      "text/plain": [
       "(3.990484284272511e-9,3.1847929646051787e-17)"
      ]
     },
     "execution_count": 15,
     "metadata": {},
     "output_type": "execute_result"
    }
   ],
   "source": [
    "Newton(h,0.7)"
   ]
  },
  {
   "cell_type": "markdown",
   "metadata": {},
   "source": [
    "---\n",
    "\n",
    "## Pregunta\n",
    "\n",
    "¿Qué hacer si se requieren derivadas de orden superior, es decir, la segunda, tercera, etc, derivada? Argumenten.\n",
    "\n",
    "**NOTA:** Esta pregunta debe ser contestada pero **no** será considerada para aceptar la tarea, aunque sí se les dará retroalimentación respecto a lo que escriben. La idea es empezar a pensar en esto."
   ]
  },
  {
   "cell_type": "code",
   "execution_count": 16,
   "metadata": {
    "collapsed": false
   },
   "outputs": [
    {
     "data": {
      "text/plain": [
       "b (generic function with 1 method)"
      ]
     },
     "execution_count": 16,
     "metadata": {},
     "output_type": "execute_result"
    }
   ],
   "source": [
    "b(x)=x^3"
   ]
  },
  {
   "cell_type": "code",
   "execution_count": 17,
   "metadata": {
    "collapsed": false
   },
   "outputs": [
    {
     "data": {
      "text/plain": [
       "AD.Dual{Int64}(1,3)"
      ]
     },
     "execution_count": 17,
     "metadata": {},
     "output_type": "execute_result"
    }
   ],
   "source": [
    "b(xdual(1))"
   ]
  },
  {
   "cell_type": "markdown",
   "metadata": {},
   "source": [
    "Para ejecutarse la primera devirada, es necesario utilizar la función de *xdual(x)* en la función que se desea obtener su respectiva derivada, donde x es el punto donde se desea evaluar esta, por lo que, si se deseara obtener la segunda derivada sería evaluando dos veces el comando xdual."
   ]
  },
  {
   "cell_type": "code",
   "execution_count": 18,
   "metadata": {
    "collapsed": false
   },
   "outputs": [
    {
     "ename": "LoadError",
     "evalue": "StackOverflowError:",
     "output_type": "error",
     "traceback": [
      "StackOverflowError:",
      ""
     ]
    }
   ],
   "source": [
    "xdual(xdual(1))"
   ]
  },
  {
   "cell_type": "markdown",
   "metadata": {},
   "source": [
    "Desafortunadamente, al realizar esto, se genera un error ya que el primer *xdual* genera una tupla y no puede generarse una segunda tupla a partir de éste, por lo que sería necesario definir otro Dual como se hizo con xdual.\n",
    "Ahora, si se quisiera obtener derivadas de orden \"n\" sería indispensable utilizar un ciclo for para ejecutar la derivación de forma iterada. Quizá metaprogramming pueda ser de ayuda en estos casos."
   ]
  },
  {
   "cell_type": "markdown",
   "metadata": {},
   "source": [
    "Primero intentaré sacar la segunda derivada con otro Dual semejante a xdual"
   ]
  },
  {
   "cell_type": "code",
   "execution_count": 19,
   "metadata": {
    "collapsed": false
   },
   "outputs": [
    {
     "data": {
      "text/plain": [
       "scndder (generic function with 1 method)"
      ]
     },
     "execution_count": 19,
     "metadata": {},
     "output_type": "execute_result"
    }
   ],
   "source": [
    "function scndder(f,x0)\n",
    "    f(xdual(x0))\n",
    "    q=f(xdual(x0)).der\n",
    "    return (f(x0),q*x0^2)\n",
    "end"
   ]
  },
  {
   "cell_type": "code",
   "execution_count": 20,
   "metadata": {
    "collapsed": false
   },
   "outputs": [
    {
     "data": {
      "text/plain": [
       "(8,48)"
      ]
     },
     "execution_count": 20,
     "metadata": {},
     "output_type": "execute_result"
    }
   ],
   "source": [
    "scndder(b,2)"
   ]
  },
  {
   "cell_type": "markdown",
   "metadata": {
    "collapsed": true
   },
   "source": [
    "La segunda derivada de x^3 es 6x, evaluada en el punto x=2 debería dar 12, caso que no da, por lo que no es del todo satisfactorio usar otro Dual para obtener una derivada de segundo orden. Quizá la falla de esto es porque (al igual que en el intento pasado) la derivada obtenida no es en toda la función, sino que considera un punto, por lo que al implementar el dual no se obtendrá una derivada de orden superior a 2.\n",
    "En la tarea pasada (e implícitamente se aplicó en esta también) se utilizó la sintaxis siguiente.\n",
    "\n",
    "type Dual{T<:Real}\n",
    "    fun::T\n",
    "    der::T\n",
    "end\n",
    "\n",
    "\n",
    "function Dual(fun,der)\n",
    "\n",
    " return Dual(promote(fun,der)...)\n",
    " \n",
    "end\n",
    "\n",
    "Quizá cambiando la sección de promote se pueda redefinir una segunda derivada, ya que xdual esta apegado a esta definición. Para orden superior sería necesario redefinir el promote, por lo que tal vez pueda estar en un ciclo for e ir cambiando el Dual(promote...) dependiendo del orden deseado."
   ]
  }
 ],
 "metadata": {
  "anaconda-cloud": {},
  "kernelspec": {
   "display_name": "Julia 0.5.0",
   "language": "julia",
   "name": "julia-0.5"
  },
  "language_info": {
   "file_extension": ".jl",
   "mimetype": "application/julia",
   "name": "julia",
   "version": "0.5.0"
  }
 },
 "nbformat": 4,
 "nbformat_minor": 2
}
