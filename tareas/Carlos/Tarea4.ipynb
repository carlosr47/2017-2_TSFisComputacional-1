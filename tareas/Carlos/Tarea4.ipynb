{
 "cells": [
  {
   "cell_type": "markdown",
   "metadata": {},
   "source": [
    "# Tarea4: Derivación automática 2"
   ]
  },
  {
   "cell_type": "markdown",
   "metadata": {},
   "source": [
    "Fecha de envío del PR inicial: **viernes 7 de abril**\n",
    "\n",
    "Fecha de aceptación del PR: **martes 18 de abril, antes de la clase**"
   ]
  },
  {
   "cell_type": "markdown",
   "metadata": {},
   "source": [
    "---\n",
    "\n",
    "## Ejercicio 1\n",
    "\n",
    "Implementen las funciones relacionadas con potencias, exponenciales, logarítmos, las funciones trigonométricas y las hiperbólicas que tiene Julia definidas (ver la [documentación](http://julia.readthedocs.io/en/stable/manual/mathematical-operations/#trigonometric-and-hyperbolic-functions)). La implementación debe incluir los tests adecuados. La manera en que implementen las cosas debe estar clara en el notebook \"Tarea4.ipynb\", pero toda la funcionalidad debe ser incluida en \"AutomDiff.jl\" al igual que en \"runtests.jl\"\n",
    "\n",
    "**Hint:** Pueden aprovechar las capacidades de Julia en metaprogramming."
   ]
  },
  {
   "cell_type": "code",
   "execution_count": 18,
   "metadata": {
    "collapsed": false
   },
   "outputs": [
    {
     "name": "stdout",
     "output_type": "stream",
     "text": [
      "begin  # In[18], line 27:\n",
      "    sin(a::Dual) = begin  # In[18], line 27:\n",
      "            Dual(sin(a.fun),cos(a.fun) * a.der)\n",
      "        end\n",
      "end\n",
      "begin  # In[18], line 27:\n",
      "    cos(a::Dual) = begin  # In[18], line 27:\n",
      "            Dual(cos(a.fun),-(sin(a.fun)) * a.der)\n",
      "        end\n",
      "end\n",
      "begin  # In[18], line 27:\n",
      "    tan(a::Dual) = begin  # In[18], line 27:\n",
      "            Dual(tan(a.fun),sec(a.fun) ^ 2 * a.der)\n",
      "        end\n",
      "end\n",
      "begin  # In[18], line 27:\n",
      "    cot(a::Dual) = begin  # In[18], line 27:\n",
      "            Dual(cot(a.fun),-(csc(a.fun) ^ 2) * a.der)\n",
      "        end\n",
      "end\n",
      "begin  # In[18], line 27:\n",
      "    sec(a::Dual) = begin  # In[18], line 27:\n",
      "            Dual(sec(a.fun),(sec(a.fun) * tan(a.fun)) * a.der)\n",
      "        end\n",
      "end\n",
      "begin  # In[18], line 27:\n",
      "    csc(a::Dual) = begin  # In[18], line 27:\n",
      "            Dual(csc(a.fun),(-(csc(a.fun)) * cot(a.fun)) * a.der)\n",
      "        end\n",
      "end\n",
      "begin  # In[18], line 27:\n",
      "    sinh(a::Dual) = begin  # In[18], line 27:\n",
      "            Dual(sinh(a.fun),cosh(a.fun) * a.der)\n",
      "        end\n",
      "end\n",
      "begin  # In[18], line 27:\n",
      "    cosh(a::Dual) = begin  # In[18], line 27:\n",
      "            Dual(cosh(a.fun),sinh(a.fun) * a.der)\n",
      "        end\n",
      "end\n",
      "begin  # In[18], line 27:\n",
      "    tanh(a::Dual) = begin  # In[18], line 27:\n",
      "            Dual(tanh(a.fun),sech(a.fun) ^ 2 * a.der)\n",
      "        end\n",
      "end\n",
      "begin  # In[18], line 27:\n",
      "    coth(a::Dual) = begin  # In[18], line 27:\n",
      "            Dual(coth(a.fun),-(csch(a.fun) ^ 2) * a.der)\n",
      "        end\n",
      "end\n",
      "begin  # In[18], line 27:\n",
      "    sech(a::Dual) = begin  # In[18], line 27:\n",
      "            Dual(sech(a.fun),(-(sech(a.fun)) * tanh(a.fun)) * a.der)\n",
      "        end\n",
      "end\n",
      "begin  # In[18], line 27:\n",
      "    csch(a::Dual) = begin  # In[18], line 27:\n",
      "            Dual(csch(a.fun),(-(coth(a.fun)) * csch(a.fun)) * a.der)\n",
      "        end\n",
      "end\n",
      "begin  # In[18], line 27:\n",
      "    asin(a::Dual) = begin  # In[18], line 27:\n",
      "            Dual(asin(a.fun),(1 / sqrt(1 - a.fun ^ 2)) * a.der)\n",
      "        end\n",
      "end\n",
      "begin  # In[18], line 27:\n",
      "    acos(a::Dual) = begin  # In[18], line 27:\n",
      "            Dual(acos(a.fun),(-1 / sqrt(1 - a.fun ^ 2)) * a.der)\n",
      "        end\n",
      "end\n",
      "begin  # In[18], line 27:\n",
      "    atan(a::Dual) = begin  # In[18], line 27:\n",
      "            Dual(atan(a.fun),(1 / (1 + a.fun ^ 2)) * a.der)\n",
      "        end\n",
      "end\n",
      "begin  # In[18], line 27:\n",
      "    acot(a::Dual) = begin  # In[18], line 27:\n",
      "            Dual(acot(a.fun),(-1 / (1 + a.fun ^ 2)) * a.der)\n",
      "        end\n",
      "end\n",
      "begin  # In[18], line 27:\n",
      "    asec(a::Dual) = begin  # In[18], line 27:\n",
      "            Dual(asec(a.fun),(1 / (a.fun * sqrt(a.fun ^ 2 - 1))) * a.der)\n",
      "        end\n",
      "end\n",
      "begin  # In[18], line 27:\n",
      "    acsc(a::Dual) = begin  # In[18], line 27:\n",
      "            Dual(acsc(a.fun),(-1 / (a.fun * sqrt(a.fun ^ 2 - 1))) * a.der)\n",
      "        end\n",
      "end\n",
      "begin  # In[18], line 27:\n",
      "    exp(a::Dual) = begin  # In[18], line 27:\n",
      "            Dual(exp(a.fun),exp(a.fun) * a.der)\n",
      "        end\n",
      "end\n",
      "begin  # In[18], line 27:\n",
      "    log(a::Dual) = begin  # In[18], line 27:\n",
      "            Dual(log(a.fun),(1 / a.fun) * a.der)\n",
      "        end\n",
      "end\n",
      "begin  # In[18], line 27:\n",
      "    sqrt(a::Dual) = begin  # In[18], line 27:\n",
      "            Dual(sqrt(a.fun),(1 / (2 * sqrt(a.fun))) * a.der)\n",
      "        end\n",
      "end\n"
     ]
    },
    {
     "name": "stderr",
     "output_type": "stream",
     "text": [
      "WARNING: replacing module AD\n",
      "WARNING: using AD.xdual in module Main conflicts with an existing identifier.\n",
      "WARNING: using AD.Dual in module Main conflicts with an existing identifier.\n",
      "WARNING: Method definition sin(AD.Dual) in module Main at In[11]:27 overwritten at In[18]:27.\n",
      "WARNING: Method definition cos(AD.Dual) in module Main at In[11]:27 overwritten at In[18]:27.\n",
      "WARNING: Method definition tan(AD.Dual) in module Main at In[11]:27 overwritten at In[18]:27.\n",
      "WARNING: Method definition cot(AD.Dual) in module Main at In[11]:27 overwritten at In[18]:27.\n",
      "WARNING: Method definition sec(AD.Dual) in module Main at In[11]:27 overwritten at In[18]:27.\n",
      "WARNING: Method definition csc(AD.Dual) in module Main at In[11]:27 overwritten at In[18]:27.\n",
      "WARNING: Method definition sinh(AD.Dual) in module Main at In[11]:27 overwritten at In[18]:27.\n",
      "WARNING: Method definition cosh(AD.Dual) in module Main at In[11]:27 overwritten at In[18]:27.\n",
      "WARNING: Method definition tanh(AD.Dual) in module Main at In[11]:27 overwritten at In[18]:27.\n",
      "WARNING: Method definition coth(AD.Dual) in module Main at In[11]:27 overwritten at In[18]:27.\n",
      "WARNING: Method definition sech(AD.Dual) in module Main at In[11]:27 overwritten at In[18]:27.\n",
      "WARNING: Method definition csch(AD.Dual) in module Main at In[11]:27 overwritten at In[18]:27.\n",
      "WARNING: Method definition acos(AD.Dual) in module Main at In[11]:27 overwritten at In[18]:27.\n",
      "WARNING: Method definition atan(AD.Dual) in module Main at In[11]:27 overwritten at In[18]:27.\n",
      "WARNING: Method definition acot(AD.Dual) in module Main at In[11]:27 overwritten at In[18]:27.\n",
      "WARNING: Method definition asec(AD.Dual) in module Main at In[11]:27 overwritten at In[18]:27.\n",
      "WARNING: Method definition acsc(AD.Dual) in module Main at In[11]:27 overwritten at In[18]:27.\n",
      "WARNING: Method definition exp(AD.Dual) in module Main at In[11]:27 overwritten at In[18]:27.\n",
      "WARNING: Method definition log(AD.Dual) in module Main at In[11]:27 overwritten at In[18]:27.\n",
      "WARNING: Method definition sqrt(AD.Dual) in module Main at In[11]:27 overwritten at In[18]:27.\n"
     ]
    }
   ],
   "source": [
    "include(\"AutomDiff.jl\")\n",
    "using AD\n",
    "import Base:sin,cos,tan,cot,sec,csc,sinh,cosh,tanh,coth,sech,csch,asin,acos,atan,acot,asec,acsc,exp,log,sqrt\n",
    "#como en la tarea pasada, se harán tuplas, la primera entrada del dual es la función, mientras que la segunda entraa es su dervidad.\n",
    "for (f,df)=((:sin,(:(cos(a.fun)))),\n",
    "    (:cos,(:(-sin(a.fun)))),\n",
    "    (:tan,(:(sec(a.fun)^2))),\n",
    "    (:cot,(:(-csc(a.fun)^2))),\n",
    "    (:sec,(:(sec(a.fun)*tan(a.fun)))),\n",
    "    (:csc,(:(-csc(a.fun)*cot(a.fun)))),\n",
    "    (:sinh,(:(cosh(a.fun)))),\n",
    "    (:cosh,(:(sinh(a.fun)))),\n",
    "    (:tanh,(:(sech(a.fun)^2))),\n",
    "    (:coth,(:(-csch(a.fun)^2))),\n",
    "    (:sech,(:(-sech(a.fun)*tanh(a.fun)))),\n",
    "    (:csch,(:(-coth(a.fun)*csch(a.fun)))),\n",
    "    (:asin,(:(1/sqrt(1-(a.fun)^2)))),\n",
    "    (:acos,(:(-1/sqrt(1-(a.fun)^2)))),\n",
    "    (:atan,(:(1/(1+(a.fun)^2)))),\n",
    "    (:acot,(:(-1/(1+(a.fun)^2)))),\n",
    "    (:asec,(:(1/((a.fun)*sqrt(((a.fun)^2)-1))))),\n",
    "    (:acsc,(:(-1/((a.fun)*sqrt(((a.fun)^2)-1))))),\n",
    "    (:exp,(:(exp(a.fun)))),\n",
    "    (:log,(:(1/(a.fun)))),\n",
    "    (:sqrt,(:(1/(2*sqrt(a.fun))))))\n",
    "    ex=quote\n",
    "        $f(a::Dual)=Dual($f(a.fun),$df*a.der)\n",
    "    end\n",
    "    println(ex)\n",
    "    @eval $ex\n",
    "end"
   ]
  },
  {
   "cell_type": "code",
   "execution_count": 27,
   "metadata": {
    "collapsed": false
   },
   "outputs": [
    {
     "name": "stdout",
     "output_type": "stream",
     "text": [
      "\u001b[1m\u001b[37mTest Summary:      | \u001b[0m\u001b[1m\u001b[32mPass  \u001b[0m\u001b[1m\u001b[34mTotal\u001b[0m\n",
      "  pruebas realizadas | \u001b[1m\u001b[32m  21  \u001b[0m\u001b[1m\u001b[34m   21\u001b[0m\n"
     ]
    },
    {
     "data": {
      "text/plain": [
       "Base.Test.DefaultTestSet(\"pruebas realizadas\",Any[\u001b[1m\u001b[32mTest Passed\n",
       "\u001b[0m  Expression: sqrt(xdual(1)) == Dual(1.0,0.5)\n",
       "   Evaluated: AD.Dual{Float64}(1.0,0.5) == AD.Dual{Float64}(1.0,0.5),\u001b[1m\u001b[32mTest Passed\n",
       "\u001b[0m  Expression: exp(xdual(1)) == Dual(exp(1),exp(1))\n",
       "   Evaluated: AD.Dual{Float64}(2.71828,2.71828) == AD.Dual{Float64}(2.71828,2.71828),\u001b[1m\u001b[32mTest Passed\n",
       "\u001b[0m  Expression: log(xdual(1)) == Dual(log(1),1.0)\n",
       "   Evaluated: AD.Dual{Float64}(0.0,1.0) == AD.Dual{Float64}(0.0,1.0),\u001b[1m\u001b[32mTest Passed\n",
       "\u001b[0m  Expression: sin(xdual(0)) == Dual(0.0,1.0)\n",
       "   Evaluated: AD.Dual{Float64}(0.0,1.0) == AD.Dual{Float64}(0.0,1.0),\u001b[1m\u001b[32mTest Passed\n",
       "\u001b[0m  Expression: cos(xdual(0)) == Dual(1.0,0.0)\n",
       "   Evaluated: AD.Dual{Float64}(1.0,-0.0) == AD.Dual{Float64}(1.0,0.0),\u001b[1m\u001b[32mTest Passed\n",
       "\u001b[0m  Expression: tan(xdual(1)) == Dual(tan(1),sec(1) ^ 2)\n",
       "   Evaluated: AD.Dual{Float64}(1.55741,3.42552) == AD.Dual{Float64}(1.55741,3.42552),\u001b[1m\u001b[32mTest Passed\n",
       "\u001b[0m  Expression: cot(xdual(1)) == Dual(cot(1),-(csc(1) ^ 2))\n",
       "   Evaluated: AD.Dual{Float64}(0.642093,-1.41228) == AD.Dual{Float64}(0.642093,-1.41228),\u001b[1m\u001b[32mTest Passed\n",
       "\u001b[0m  Expression: sec(xdual(1)) == Dual(sec(1),sec(1) * tan(1))\n",
       "   Evaluated: AD.Dual{Float64}(1.85082,2.88247) == AD.Dual{Float64}(1.85082,2.88247),\u001b[1m\u001b[32mTest Passed\n",
       "\u001b[0m  Expression: csc(xdual(1)) == Dual(csc(1),-(csc(1)) * cot(1))\n",
       "   Evaluated: AD.Dual{Float64}(1.1884,-0.76306) == AD.Dual{Float64}(1.1884,-0.76306),\u001b[1m\u001b[32mTest Passed\n",
       "\u001b[0m  Expression: sinh(xdual(1)) == Dual(sinh(1),cosh(1))\n",
       "   Evaluated: AD.Dual{Float64}(1.1752,1.54308) == AD.Dual{Float64}(1.1752,1.54308)  …  \u001b[1m\u001b[32mTest Passed\n",
       "\u001b[0m  Expression: tanh(xdual(1)) == Dual(tanh(1),sech(1) ^ 2)\n",
       "   Evaluated: AD.Dual{Float64}(0.761594,0.419974) == AD.Dual{Float64}(0.761594,0.419974),\u001b[1m\u001b[32mTest Passed\n",
       "\u001b[0m  Expression: coth(xdual(1)) == Dual(coth(1),-(csch(1) ^ 2))\n",
       "   Evaluated: AD.Dual{Float64}(1.31304,-0.724062) == AD.Dual{Float64}(1.31304,-0.724062),\u001b[1m\u001b[32mTest Passed\n",
       "\u001b[0m  Expression: sech(xdual(1)) == Dual(sech(1),-(tanh(1)) * sech(1))\n",
       "   Evaluated: AD.Dual{Float64}(0.648054,-0.493554) == AD.Dual{Float64}(0.648054,-0.493554),\u001b[1m\u001b[32mTest Passed\n",
       "\u001b[0m  Expression: csch(xdual(1)) == Dual(csch(1),-(coth(1)) * csch(1))\n",
       "   Evaluated: AD.Dual{Float64}(0.850918,-1.11729) == AD.Dual{Float64}(0.850918,-1.11729),\u001b[1m\u001b[32mTest Passed\n",
       "\u001b[0m  Expression: asin(xdual(0.5)) == Dual(asin(0.5),1 / sqrt(1 - (1 / 2) ^ 2))\n",
       "   Evaluated: AD.Dual{Float64}(0.523599,1.1547) == AD.Dual{Float64}(0.523599,1.1547),\u001b[1m\u001b[32mTest Passed\n",
       "\u001b[0m  Expression: acos(xdual(0.5)) == Dual(acos(0.5),-1 / sqrt(1 - 0.5 ^ 2))\n",
       "   Evaluated: AD.Dual{Float64}(1.0472,-1.1547) == AD.Dual{Float64}(1.0472,-1.1547),\u001b[1m\u001b[32mTest Passed\n",
       "\u001b[0m  Expression: atan(xdual(0)) == Dual(atan(0),1 / (1 + 0 ^ 2))\n",
       "   Evaluated: AD.Dual{Float64}(0.0,1.0) == AD.Dual{Float64}(0.0,1.0),\u001b[1m\u001b[32mTest Passed\n",
       "\u001b[0m  Expression: acot(xdual(0.5)) == Dual(acot(0.5),-1 / (1 + 0.5 ^ 2))\n",
       "   Evaluated: AD.Dual{Float64}(1.10715,-0.8) == AD.Dual{Float64}(1.10715,-0.8),\u001b[1m\u001b[32mTest Passed\n",
       "\u001b[0m  Expression: asec(xdual(2)) == Dual(asec(2),1 / (2 * sqrt(2 ^ 2 - 1)))\n",
       "   Evaluated: AD.Dual{Float64}(1.0472,0.288675) == AD.Dual{Float64}(1.0472,0.288675),\u001b[1m\u001b[32mTest Passed\n",
       "\u001b[0m  Expression: acsc(xdual(2)) == Dual(acsc(2),-1 / (2 * sqrt(2 ^ 2 - 1)))\n",
       "   Evaluated: AD.Dual{Float64}(0.523599,-0.288675) == AD.Dual{Float64}(0.523599,-0.288675)],false)"
      ]
     },
     "execution_count": 27,
     "metadata": {},
     "output_type": "execute_result"
    }
   ],
   "source": [
    "using Base.Test\n",
    "@testset \"pruebas realizadas\" begin\n",
    "    @test sqrt(xdual(1))==Dual(1.0,0.5)\n",
    "    @test exp(xdual(1))==Dual(exp(1),exp(1))\n",
    "    @test log(xdual(1))==Dual(log(1),1.0)\n",
    "    @test sin(xdual(0))==Dual(0.0,1.0)\n",
    "    @test cos(xdual(0))==Dual(1.0,0.0)\n",
    "    @test tan(xdual(1))==Dual(tan(1),sec(1)^2)\n",
    "    @test cot(xdual(1))==Dual(cot(1),-csc(1)^2)\n",
    "    @test sec(xdual(1))==Dual(sec(1),sec(1)*tan(1))\n",
    "    @test csc(xdual(1))==Dual(csc(1),-csc(1)*cot(1))\n",
    "    @test sinh(xdual(1))==Dual(sinh(1),cosh(1))\n",
    "    @test cosh(xdual(1))==Dual(cosh(1),sinh(1))\n",
    "    @test tanh(xdual(1))==Dual(tanh(1),sech(1)^2)\n",
    "    @test coth(xdual(1))==Dual(coth(1),-csch(1)^2)\n",
    "    @test sech(xdual(1))==Dual(sech(1),-tanh(1)*sech(1))\n",
    "    @test csch(xdual(1))==Dual(csch(1),-coth(1)*csch(1))\n",
    "    @test asin(xdual(0.5))==Dual(asin(0.5),1/(sqrt(1-(1/2)^2)))\n",
    "    @test acos(xdual(0.5))==Dual(acos(0.5),-1/(sqrt(1-(0.5)^2)))\n",
    "    @test atan(xdual(0))==Dual(atan(0),1/(1+0^2))\n",
    "    @test acot(xdual(0.5))==Dual(acot(0.5),-1/(1+(0.5)^2))\n",
    "    @test asec(xdual(2))==Dual(asec(2),1/((2)*(sqrt(((2)^2)-1))))\n",
    "    @test acsc(xdual(2))==Dual(acsc(2),-1/((2)*(sqrt(((2)^2)-1))))\n",
    "end"
   ]
  },
  {
   "cell_type": "code",
   "execution_count": 21,
   "metadata": {
    "collapsed": false
   },
   "outputs": [
    {
     "data": {
      "text/plain": [
       "0.0"
      ]
     },
     "execution_count": 21,
     "metadata": {},
     "output_type": "execute_result"
    }
   ],
   "source": [
    "atan(0)"
   ]
  },
  {
   "cell_type": "markdown",
   "metadata": {},
   "source": [
    "---\n",
    "\n",
    "## Ejercicio 2\n",
    "\n",
    "Prueben su implementación calculando la derivada de $f(x) = \\sin\\Big(x^3 - \\frac{2}{x^6}\\Big)$\n",
    "en $x_0 = 2$.\n",
    "\n",
    "Dibujen, para $x_0 \\in [1,5]$ la función $f'(x)$."
   ]
  },
  {
   "cell_type": "code",
   "execution_count": 6,
   "metadata": {
    "collapsed": false
   },
   "outputs": [
    {
     "name": "stderr",
     "output_type": "stream",
     "text": [
      "WARNING: Method definition g("
     ]
    },
    {
     "data": {
      "text/plain": [
       "g (generic function with 1 method)"
      ]
     },
     "execution_count": 6,
     "metadata": {},
     "output_type": "execute_result"
    },
    {
     "name": "stderr",
     "output_type": "stream",
     "text": [
      "Any) in module Main at In[3]:1 overwritten at In[6]:1.\n"
     ]
    }
   ],
   "source": [
    "g(x)=sin(x^3-(2/x^6))"
   ]
  },
  {
   "cell_type": "code",
   "execution_count": 7,
   "metadata": {
    "collapsed": false
   },
   "outputs": [
    {
     "data": {
      "text/plain": [
       "AD.Dual{Float64}(0.9934213368955197,-1.384934905523464)"
      ]
     },
     "execution_count": 7,
     "metadata": {},
     "output_type": "execute_result"
    }
   ],
   "source": [
    "g(xdual(2))"
   ]
  },
  {
   "cell_type": "code",
   "execution_count": 10,
   "metadata": {
    "collapsed": false
   },
   "outputs": [
    {
     "data": {
      "text/plain": [
       "dg (generic function with 1 method)"
      ]
     },
     "execution_count": 10,
     "metadata": {},
     "output_type": "execute_result"
    }
   ],
   "source": [
    "dg(x)=cos(x^3-(2/x^6))*(3x^2+(12/x^7))"
   ]
  },
  {
   "cell_type": "code",
   "execution_count": 15,
   "metadata": {
    "collapsed": false
   },
   "outputs": [
    {
     "data": {
      "text/plain": [
       "(0.9934213368955197,-1.384934905523464)"
      ]
     },
     "execution_count": 15,
     "metadata": {},
     "output_type": "execute_result"
    }
   ],
   "source": [
    "g(2),dg(2)"
   ]
  },
  {
   "cell_type": "markdown",
   "metadata": {},
   "source": [
    "Los valores mostrados tanto de forma manual (escribiendo la funcio y la derivada) como en la derivación automática son los mismos. Se procede a hacer la gráfica"
   ]
  },
  {
   "cell_type": "code",
   "execution_count": null,
   "metadata": {
    "collapsed": true
   },
   "outputs": [],
   "source": [
    "using PyPlot\n"
   ]
  },
  {
   "cell_type": "markdown",
   "metadata": {},
   "source": [
    "---\n",
    "\n",
    "## Ejercicio 3\n",
    "\n",
    "Implementen el método de Newton para una función arbitraria $f(x)$ en una variable (la función `newton1D` debe tener un argumento que es una función) a fin de encontrar un cero de la función, i.e., $f(x^*)=0$. El método de Newton requiere la derivada evaluada en diversos puntos, cosa que obtendrán usando el módulo de derivación automática.\n",
    "\n",
    "- Obtengan, usando su función del método de Newton, las raices del polinomio de Wilkinson $W_{6}(x)$, usando como iterados iniciales $x_0=2.2$ y $x_0=2.45$.\n",
    "    \n",
    "- Hagan lo mismo que en el inciso anterior para $g(x) = x \\sin(2x)$, con $x_0=0.7$."
   ]
  },
  {
   "cell_type": "code",
   "execution_count": null,
   "metadata": {
    "collapsed": true
   },
   "outputs": [],
   "source": []
  },
  {
   "cell_type": "markdown",
   "metadata": {},
   "source": [
    "---\n",
    "\n",
    "## Pregunta\n",
    "\n",
    "¿Qué hacer si se requieren derivadas de orden superior, es decir, la segunda, tercera, etc, derivada? Argumenten.\n",
    "\n",
    "**NOTA:** Esta pregunta debe ser contestada pero **no** será considerada para aceptar la tarea, aunque sí se les dará retroalimentación respecto a lo que escriben. La idea es empezar a pensar en esto."
   ]
  },
  {
   "cell_type": "code",
   "execution_count": null,
   "metadata": {
    "collapsed": true
   },
   "outputs": [],
   "source": []
  }
 ],
 "metadata": {
  "anaconda-cloud": {},
  "kernelspec": {
   "display_name": "Julia 0.5.0",
   "language": "julia",
   "name": "julia-0.5"
  },
  "language_info": {
   "file_extension": ".jl",
   "mimetype": "application/julia",
   "name": "julia",
   "version": "0.5.0"
  }
 },
 "nbformat": 4,
 "nbformat_minor": 2
}
