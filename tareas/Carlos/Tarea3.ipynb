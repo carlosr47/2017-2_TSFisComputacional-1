{
 "cells": [
  {
   "cell_type": "markdown",
   "metadata": {},
   "source": [
    "# Tarea 3: Derivación automática 1"
   ]
  },
  {
   "cell_type": "markdown",
   "metadata": {},
   "source": [
    "Fecha de envío del PR inicial: **lunes 27 de marzo, antes de la clase**\n",
    "\n",
    "Fecha de aceptación del PR: **martes 4 de abril, antes de la clase**"
   ]
  },
  {
   "cell_type": "markdown",
   "metadata": {},
   "source": [
    "## Ejercicio 1\n",
    "\n",
    "Implementen una nueva estructura paramétrica (`type`) que llamaremos `Dual` y que defina los duales, donde el parámetro debe ser un subtipo de `Real`; la siguiente celda sirve para empezar. La parte que identifica a $f_0$ será llamada `fun`, y la correspondiente a $f'_0$ será `der`.\n",
    "\n",
    "La definición debe incluir métodos que sean compatibles con las dos propiedades arriba mencionadas, es decir, que el dual de una constante (cualquier número real) sea $(c,0)$, y que el de la variable independiente sea $(x_0,1)$. Para lo segundo definiremos una función `xdual` con la propiedad mencionada.\n",
    "\n",
    "---"
   ]
  },
  {
   "cell_type": "code",
   "execution_count": 1,
   "metadata": {
    "collapsed": false
   },
   "outputs": [
    {
     "data": {
      "text/plain": [
       "Dual"
      ]
     },
     "execution_count": 1,
     "metadata": {},
     "output_type": "execute_result"
    }
   ],
   "source": [
    "\"\"\"\n",
    "    Dual{T<:Real}\n",
    "\n",
    "Definición de los duales, donde lo campos son:\n",
    "\"\"\"\n",
    "type Dual{T<:Real}\n",
    "    fun::T\n",
    "    der::T\n",
    "end"
   ]
  },
  {
   "cell_type": "code",
   "execution_count": 2,
   "metadata": {
    "collapsed": false
   },
   "outputs": [
    {
     "data": {
      "text/plain": [
       "Dual"
      ]
     },
     "execution_count": 2,
     "metadata": {},
     "output_type": "execute_result"
    }
   ],
   "source": [
    "#= \n",
    "Definan un método que permita la promoción automática cuando \n",
    "las entradas para definir el dual no son del mismo tipo\n",
    "=#\n",
    "\"\"\"\n",
    "promoviendo los duales del tipo distinto\n",
    "\"\"\"\n",
    "function Dual(fun,der)\n",
    " return Dual(promote(fun,der)...)\n",
    "end"
   ]
  },
  {
   "cell_type": "code",
   "execution_count": 3,
   "metadata": {
    "collapsed": false
   },
   "outputs": [
    {
     "data": {
      "text/plain": [
       "Dual{T<:Real}"
      ]
     },
     "execution_count": 3,
     "metadata": {},
     "output_type": "execute_result"
    }
   ],
   "source": [
    "#= \n",
    "Aquí se define un método que garantiza que el dual de una constante \n",
    "(número) cumple lo requerido\n",
    "=#\n",
    "function Dual(a::Real)\n",
    "    return Dual(a,0.0)\n",
    "end"
   ]
  },
  {
   "cell_type": "code",
   "execution_count": 4,
   "metadata": {
    "collapsed": false
   },
   "outputs": [
    {
     "data": {
      "text/plain": [
       "xdual"
      ]
     },
     "execution_count": 4,
     "metadata": {},
     "output_type": "execute_result"
    }
   ],
   "source": [
    "#= \n",
    "Aquí se define la función `xdual`, que se usará para identificar \n",
    "la variable independiente. La función dependerá de x_0, y debe \n",
    "regresar el Dual apropiado a la variable independiente\n",
    "=#\n",
    "\n",
    "\"\"\"\n",
    "    xdual(x0) -> Dual(x0, 1)\n",
    "\n",
    "...\n",
    "\"\"\"\n",
    "function xdual(x0)\n",
    "    return Dual(x0,1)\n",
    "end"
   ]
  },
  {
   "cell_type": "code",
   "execution_count": 5,
   "metadata": {
    "collapsed": false
   },
   "outputs": [
    {
     "data": {
      "text/plain": [
       "\u001b[1m\u001b[32mTest Passed\n",
       "\u001b[0m  Expression: c.der == 1\n",
       "   Evaluated: 1 == 1"
      ]
     },
     "execution_count": 5,
     "metadata": {},
     "output_type": "execute_result"
    }
   ],
   "source": [
    "#= \n",
    "Muestren que su código funciona con tests adecuados para crear duales,\n",
    "para promoverlos, y al definir el dual de un número y `xdual`.\n",
    "\n",
    "En esto es útil usar la infraestructura de Julia; ver:\n",
    "https://julia.readthedocs.io/en/stable/stdlib/test/\n",
    "\n",
    "using Base.Test\n",
    "\n",
    "a = Dual(1, 2.0)\n",
    "@test a.fun == 1.0\n",
    "@test a.der == 2.0\n",
    "\n",
    "=#\n",
    "using Base.Test\n",
    "a=Dual(1,2.0)\n",
    "@test a.fun==1\n",
    "@test a.der==2\n",
    "\n",
    "b=Dual(3)\n",
    "@test b.fun==3\n",
    "@test b.der==0\n",
    "\n",
    "\n",
    "c=xdual(10)\n",
    "@test c.fun==10\n",
    "@test c.der==1\n"
   ]
  },
  {
   "cell_type": "markdown",
   "metadata": {},
   "source": [
    "---"
   ]
  },
  {
   "cell_type": "markdown",
   "metadata": {},
   "source": [
    "## Ejercicio 2\n",
    "\n",
    "Implementen *todas* las operaciones aritméticas definidas arriba. Estas operaciones deben incluir las operaciones aritméticas que involucran un número cualquiera (`a :: Real`) y un dual (`b::Dual`), como por ejemplo `a+b` o `b+a`, etc. Esto se puede hacer implementando los métodos específicos para estos casos (¡y que sirven en cualquier órden!). \n",
    "\n",
    "Implementen también la comparación entre duales (`==`). \n",
    "\n",
    "Incluyan tests que muestren que cada una de ellas está bien definida, y que sus resultados dan valores consistentes."
   ]
  },
  {
   "cell_type": "code",
   "execution_count": 15,
   "metadata": {
    "collapsed": false
   },
   "outputs": [
    {
     "name": "stderr",
     "output_type": "stream",
     "text": [
      "WARNING: Method definition +(Main.Dual"
     ]
    },
    {
     "data": {
      "text/plain": [
       "== (generic function with 119 methods)"
      ]
     },
     "execution_count": 15,
     "metadata": {},
     "output_type": "execute_result"
    },
    {
     "name": "stderr",
     "output_type": "stream",
     "text": [
      ", Main.Dual) in module Main at In[9]:8 overwritten at In[15]:8.\n",
      "WARNING: Method definition -(Main.Dual, Main.Dual) in module Main at In[9]:9 overwritten at In[15]:9.\n",
      "WARNING: Method definition *(Main.Dual, Main.Dual) in module Main at In[9]:10 overwritten at In[15]:10.\n",
      "WARNING: Method definition /(Main.Dual, Main.Dual) in module Main at In[9]:11 overwritten at In[15]:11.\n",
      "WARNING: Method definition ^(Main.Dual, Real) in module Main at In[9]:12 overwritten at In[15]:12.\n",
      "WARNING: Method definition ==(Main.Dual, Main.Dual) in module Main at In[9]:13 overwritten at In[15]:13.\n"
     ]
    }
   ],
   "source": [
    "import Base: +, -, *, /, ^, ==\n",
    "\n",
    "#= \n",
    "Aquí se implementan los métodos necesarios para cada función; \n",
    "en el caso de ^ por ahora nos conformaremos con que la potencia \n",
    "sea entera.\n",
    "=#\n",
    "+(A::Dual,B::Dual)=Dual(A.fun+B.fun,A.der+B.der)\n",
    "-(A::Dual,B::Dual)=Dual(A.fun-B.fun,A.der-B.der)\n",
    "*(A::Dual,B::Dual)=Dual(A.fun*B.fun,(A.der*B.fun)+(A.fun*B.der))\n",
    "/(A::Dual,B::Dual)=Dual((A.fun)/(B.fun),((A.fun*B.der)-(A.der*B.fun))/(B.fun)^2)\n",
    "^(A::Dual,beta::Real)=Dual((A.fun)^(beta),beta*((A.fun)^(beta-1))*(A.der))\n",
    "==(A::Dual,B::Dual)=Bool(A.fun==B.fun && A.der==B.der)\n"
   ]
  },
  {
   "cell_type": "code",
   "execution_count": 19,
   "metadata": {
    "collapsed": false
   },
   "outputs": [
    {
     "data": {
      "text/plain": [
       "\u001b[1m\u001b[32mTest Passed\n",
       "\u001b[0m  Expression: epsilon.der == 0\n",
       "   Evaluated: 0.0 == 0"
      ]
     },
     "execution_count": 19,
     "metadata": {},
     "output_type": "execute_result"
    }
   ],
   "source": [
    "# Aquí se incluyen las pruebas necesarias\n",
    "using Base.Test\n",
    "alfa=Dual(5)+Dual(5)\n",
    "@test alfa.fun==10\n",
    "@test alfa.der==0\n",
    "\n",
    "betha=Dual(5)-Dual(5)\n",
    "@test betha.fun==0\n",
    "@test betha.der==0\n",
    "\n",
    "gamma=Dual(5)*Dual(6)\n",
    "@test gamma.fun==30\n",
    "@test gamma.der==0\n",
    "\n",
    "delta=Dual(6)/Dual(2)\n",
    "@test delta.fun==3\n",
    "@test delta.der==0\n",
    "\n",
    "epsilon=Dual(2)^4.0\n",
    "@test epsilon.fun==16\n",
    "@test epsilon.der==0\n",
    "\n"
   ]
  },
  {
   "cell_type": "code",
   "execution_count": 20,
   "metadata": {
    "collapsed": false
   },
   "outputs": [
    {
     "data": {
      "text/plain": [
       "true"
      ]
     },
     "execution_count": 20,
     "metadata": {},
     "output_type": "execute_result"
    }
   ],
   "source": [
    "zeta=(Dual(12)==Dual(12))"
   ]
  },
  {
   "cell_type": "markdown",
   "metadata": {},
   "source": [
    "---"
   ]
  },
  {
   "cell_type": "markdown",
   "metadata": {},
   "source": [
    "## Ejercicio 3\n",
    "\n",
    "Para reutilizar el código que han hecho en este notebook, y de hecho seguirlo desarrollando, conviene ponerlo dentro de un módulo. Para hacer esto, deberán copiar todo el código necesario (y que aparece en la resolución de los ejercicios anteriores) en un archivo cuyo nombre será \"AutomDiff.jl\" y cuya estructura será la siguiente\n",
    "\n",
    "```julia\n",
    "#=\n",
    "Aquí viene una explicación de lo que se hace en el módulo, \n",
    "los autores y la fecha\n",
    "=#\n",
    "\n",
    "# La siguiente instrucción sirve para *precompilar* el módulo\n",
    "__precompile__(true)\n",
    "\n",
    "module AD\n",
    "    import Base: +, -, *, /, ^, ==\n",
    "    \n",
    "    export Dual, xdual\n",
    "    \n",
    "    # Aquí viene TODO el código que implementaron.\n",
    "    # Primero uno incluye la definición de Dual y\n",
    "    # después las operaciones con Duales.\n",
    "    ...\n",
    "\n",
    "end\n",
    "```\n",
    "\n",
    "Todas las pruebas deberán ser incluidas en un archivo separado llamado \"runtest.jl\", y su estructura es:\n",
    "\n",
    "```julia\n",
    "# Este archivo incluye los tests del módulo AD\n",
    "include(\"AutomDiff.jl\")\n",
    "using Base.test\n",
    "using AD\n",
    "\n",
    "# A continuación vienen los tests que implementaron y que deben \n",
    "# ser suficientemente exhaustivos\n",
    "...\n",
    "\n",
    "```\n",
    "\n",
    "Estos dos archivos deben incluirlos en el envío de su tarea (además del archivo `Tarea3.ipynb`)."
   ]
  },
  {
   "cell_type": "code",
   "execution_count": null,
   "metadata": {
    "collapsed": true
   },
   "outputs": [],
   "source": []
  }
 ],
 "metadata": {
  "anaconda-cloud": {},
  "kernelspec": {
   "display_name": "Julia 0.5.0",
   "language": "julia",
   "name": "julia-0.5"
  },
  "language_info": {
   "file_extension": ".jl",
   "mimetype": "application/julia",
   "name": "julia",
   "version": "0.5.0"
  }
 },
 "nbformat": 4,
 "nbformat_minor": 2
}
