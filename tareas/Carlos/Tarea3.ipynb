{
 "cells": [
  {
   "cell_type": "markdown",
   "metadata": {},
   "source": [
    "# Tarea 3: Derivación automática 1"
   ]
  },
  {
   "cell_type": "markdown",
   "metadata": {},
   "source": [
    "Fecha de envío del PR inicial: **lunes 27 de marzo, antes de la clase**\n",
    "\n",
    "Fecha de aceptación del PR: **martes 4 de abril, antes de la clase**"
   ]
  },
  {
   "cell_type": "markdown",
   "metadata": {},
   "source": [
    "## Ejercicio 1\n",
    "\n",
    "Implementen una nueva estructura paramétrica (`type`) que llamaremos `Dual` y que defina los duales, donde el parámetro debe ser un subtipo de `Real`; la siguiente celda sirve para empezar. La parte que identifica a $f_0$ será llamada `fun`, y la correspondiente a $f'_0$ será `der`.\n",
    "\n",
    "La definición debe incluir métodos que sean compatibles con las dos propiedades arriba mencionadas, es decir, que el dual de una constante (cualquier número real) sea $(c,0)$, y que el de la variable independiente sea $(x_0,1)$. Para lo segundo definiremos una función `xdual` con la propiedad mencionada.\n",
    "\n",
    "---"
   ]
  },
  {
   "cell_type": "code",
   "execution_count": 1,
   "metadata": {
    "collapsed": false
   },
   "outputs": [
    {
     "data": {
      "text/plain": [
       "Dual"
      ]
     },
     "execution_count": 1,
     "metadata": {},
     "output_type": "execute_result"
    }
   ],
   "source": [
    "\"\"\"\n",
    "    Dual{T<:Real}\n",
    "\n",
    "Definición de los duales, donde lo campos son:\n",
    "\"\"\"\n",
    "type Dual{T<:Real}\n",
    "    fun::T\n",
    "    der::T\n",
    "end"
   ]
  },
  {
   "cell_type": "code",
   "execution_count": 2,
   "metadata": {
    "collapsed": false
   },
   "outputs": [
    {
     "data": {
      "text/plain": [
       "Dual"
      ]
     },
     "execution_count": 2,
     "metadata": {},
     "output_type": "execute_result"
    }
   ],
   "source": [
    "#= \n",
    "Definan un método que permita la promoción automática cuando \n",
    "las entradas para definir el dual no son del mismo tipo\n",
    "=#\n",
    "\"\"\"\n",
    "promoviendo los duales del tipo distinto\n",
    "\"\"\"\n",
    "function Dual(fun,der)\n",
    " return Dual(promote(fun,der)...)\n",
    "end"
   ]
  },
  {
   "cell_type": "code",
   "execution_count": 3,
   "metadata": {
    "collapsed": false
   },
   "outputs": [
    {
     "data": {
      "text/plain": [
       "Dual{T<:Real}"
      ]
     },
     "execution_count": 3,
     "metadata": {},
     "output_type": "execute_result"
    }
   ],
   "source": [
    "#= \n",
    "Aquí se define un método que garantiza que el dual de una constante \n",
    "(número) cumple lo requerido\n",
    "=#\n",
    "function Dual(a::Real)\n",
    "    return Dual(a,0.0)\n",
    "end"
   ]
  },
  {
   "cell_type": "code",
   "execution_count": 4,
   "metadata": {
    "collapsed": false
   },
   "outputs": [
    {
     "data": {
      "text/plain": [
       "xdual"
      ]
     },
     "execution_count": 4,
     "metadata": {},
     "output_type": "execute_result"
    }
   ],
   "source": [
    "#= \n",
    "Aquí se define la función `xdual`, que se usará para identificar \n",
    "la variable independiente. La función dependerá de x_0, y debe \n",
    "regresar el Dual apropiado a la variable independiente\n",
    "=#\n",
    "\n",
    "\"\"\"\n",
    "    xdual(x0) -> Dual(x0, 1)\n",
    "\n",
    "...\n",
    "\"\"\"\n",
    "function xdual(x0)\n",
    "    return Dual(x0,1)\n",
    "end"
   ]
  },
  {
   "cell_type": "code",
   "execution_count": 5,
   "metadata": {
    "collapsed": false
   },
   "outputs": [
    {
     "name": "stdout",
     "output_type": "stream",
     "text": [
      "\u001b[1m\u001b[37mTest Summary:      | \u001b[0m\u001b[1m\u001b[32mPass  \u001b[0m\u001b[1m\u001b[34mTotal\u001b[0m\n",
      "  pruebas realizadas | \u001b[1m\u001b[32m   8  \u001b[0m\u001b[1m\u001b[34m    8\u001b[0m\n"
     ]
    },
    {
     "data": {
      "text/plain": [
       "Base.Test.DefaultTestSet(\"pruebas realizadas\",Any[\u001b[1m\u001b[32mTest Passed\n",
       "\u001b[0m  Expression: a.fun == 1.0\n",
       "   Evaluated: 1.0 == 1.0,\u001b[1m\u001b[32mTest Passed\n",
       "\u001b[0m  Expression: a.der == 2.0\n",
       "   Evaluated: 2.0 == 2.0,\u001b[1m\u001b[32mTest Passed\n",
       "\u001b[0m  Expression: a.fun == 1\n",
       "   Evaluated: 1.0 == 1,\u001b[1m\u001b[32mTest Passed\n",
       "\u001b[0m  Expression: a.der == 2\n",
       "   Evaluated: 2.0 == 2,\u001b[1m\u001b[32mTest Passed\n",
       "\u001b[0m  Expression: b.fun == 3\n",
       "   Evaluated: 3.0 == 3,\u001b[1m\u001b[32mTest Passed\n",
       "\u001b[0m  Expression: b.der == 0\n",
       "   Evaluated: 0.0 == 0,\u001b[1m\u001b[32mTest Passed\n",
       "\u001b[0m  Expression: c.fun == 10\n",
       "   Evaluated: 10 == 10,\u001b[1m\u001b[32mTest Passed\n",
       "\u001b[0m  Expression: c.der == 1\n",
       "   Evaluated: 1 == 1],false)"
      ]
     },
     "execution_count": 5,
     "metadata": {},
     "output_type": "execute_result"
    }
   ],
   "source": [
    "#= \n",
    "Muestren que su código funciona con tests adecuados para crear duales,\n",
    "para promoverlos, y al definir el dual de un número y `xdual`.\n",
    "\n",
    "En esto es útil usar la infraestructura de Julia; ver:\n",
    "https://julia.readthedocs.io/en/stable/stdlib/test/\n",
    "=#\n",
    "using Base.Test\n",
    "@testset \"pruebas realizadas\" begin\n",
    "a = Dual(1, 2.0)\n",
    "@test a.fun == 1.0\n",
    "@test a.der == 2.0\n",
    "\n",
    "using Base.Test\n",
    "a=Dual(1,2.0)\n",
    "@test a.fun==1\n",
    "@test a.der==2\n",
    "\n",
    "b=Dual(3)\n",
    "@test b.fun==3\n",
    "@test b.der==0\n",
    "\n",
    "\n",
    "c=xdual(10)\n",
    "@test c.fun==10\n",
    "@test c.der==1\n",
    "end"
   ]
  },
  {
   "cell_type": "code",
   "execution_count": 6,
   "metadata": {
    "collapsed": false
   },
   "outputs": [
    {
     "data": {
      "text/plain": [
       "Dual{Float64}(1.0,0.0)"
      ]
     },
     "execution_count": 6,
     "metadata": {},
     "output_type": "execute_result"
    }
   ],
   "source": [
    "Dual(1.0)"
   ]
  },
  {
   "cell_type": "markdown",
   "metadata": {},
   "source": [
    "---"
   ]
  },
  {
   "cell_type": "markdown",
   "metadata": {},
   "source": [
    "## Ejercicio 2\n",
    "\n",
    "Implementen *todas* las operaciones aritméticas definidas arriba. Estas operaciones deben incluir las operaciones aritméticas que involucran un número cualquiera (`a :: Real`) y un dual (`b::Dual`), como por ejemplo `a+b` o `b+a`, etc. Esto se puede hacer implementando los métodos específicos para estos casos (¡y que sirven en cualquier órden!). \n",
    "\n",
    "Implementen también la comparación entre duales (`==`). \n",
    "\n",
    "Incluyan tests que muestren que cada una de ellas está bien definida, y que sus resultados dan valores consistentes."
   ]
  },
  {
   "cell_type": "code",
   "execution_count": 7,
   "metadata": {
    "collapsed": false
   },
   "outputs": [
    {
     "data": {
      "text/plain": [
       "== (generic function with 121 methods)"
      ]
     },
     "execution_count": 7,
     "metadata": {},
     "output_type": "execute_result"
    }
   ],
   "source": [
    "import Base: +, -, *, /, ^, ==\n",
    "\n",
    "#= \n",
    "Aquí se implementan los métodos necesarios para cada función; \n",
    "en el caso de ^ por ahora nos conformaremos con que la potencia \n",
    "sea entera.\n",
    "=#\n",
    "\n",
    "+(A::Dual,B::Dual)=Dual(A.fun+B.fun,A.der+B.der)\n",
    "+(gama::Real,B::Dual)=Dual(gama+B.fun,B.der)\n",
    "+(A::Dual,gama::Real)=Dual(A.fun+gama,A.der)\n",
    "\n",
    "-(A::Dual,B::Dual)=Dual(A.fun-B.fun,A.der-B.der)\n",
    "-(delta::Real,B::Dual)=Dual(delta-B.fun,-B.der)\n",
    "-(A::Dual,delta::Real)=Dual(A.fun-delta,A.der)\n",
    "\n",
    "*(A::Dual,B::Dual)=Dual(A.fun*B.fun,(A.der*B.fun)+(A.fun*B.der))\n",
    "*(alfa::Real,B::Dual)=Dual(alfa*B.fun,alfa*B.der)     #debe especificarse el orden de los factores, porque no debe alterar \n",
    "*(A::Dual,alfa::Real)=Dual(alfa*A.fun,alfa*A.der)     #el producto.\n",
    "\n",
    "/(A::Dual,B::Dual)=Dual((A.fun)/(B.fun),((A.fun*B.der)-(A.der*B.fun))/(B.fun)^2)\n",
    "/(A::Dual,epsilon::Real)=Dual(A.fun/epsilon,A.der/epsilon)\n",
    "\n",
    "^(A::Dual,beta::Int64)=Dual((A.fun)^(beta),beta*((A.fun)^(beta-1))*(A.der))\n",
    "\n",
    "==(A::Dual,B::Dual)=(A.fun==B.fun && A.der==B.der)\n",
    "==(A::Dual,zeta::Real)=(A==zeta.fun && 0.0==zeta.der)\n",
    "==(zeta::Real,B::Dual)=(zeta.fun==B.fun && zeta.der==0.0)\n"
   ]
  },
  {
   "cell_type": "code",
   "execution_count": 8,
   "metadata": {
    "collapsed": false
   },
   "outputs": [
    {
     "name": "stdout",
     "output_type": "stream",
     "text": [
      "\u001b[1m\u001b[37mTest Summary:      | \u001b[0m\u001b[1m\u001b[32mPass  \u001b[0m\u001b[1m\u001b[34mTotal\u001b[0m\n",
      "  pruebas realizadas | \u001b[1m\u001b[32m  27  \u001b[0m\u001b[1m\u001b[34m   27\u001b[0m\n"
     ]
    },
    {
     "data": {
      "text/plain": [
       "Base.Test.DefaultTestSet(\"pruebas realizadas\",Any[\u001b[1m\u001b[32mTest Passed\n",
       "\u001b[0m  Expression: alfa.fun == 10\n",
       "   Evaluated: 10 == 10,\u001b[1m\u001b[32mTest Passed\n",
       "\u001b[0m  Expression: alfa.der == 4\n",
       "   Evaluated: 4 == 4,\u001b[1m\u001b[32mTest Passed\n",
       "\u001b[0m  Expression: alfa1.fun == 10\n",
       "   Evaluated: 10 == 10,\u001b[1m\u001b[32mTest Passed\n",
       "\u001b[0m  Expression: alfa1.der == 2\n",
       "   Evaluated: 2 == 2,\u001b[1m\u001b[32mTest Passed\n",
       "\u001b[0m  Expression: alfa2.fun == 10\n",
       "   Evaluated: 10 == 10,\u001b[1m\u001b[32mTest Passed\n",
       "\u001b[0m  Expression: alfa2.der == 2\n",
       "   Evaluated: 2 == 2,\u001b[1m\u001b[32mTest Passed\n",
       "\u001b[0m  Expression: betha.fun == 0\n",
       "   Evaluated: 0 == 0,\u001b[1m\u001b[32mTest Passed\n",
       "\u001b[0m  Expression: betha.der == 2\n",
       "   Evaluated: 2 == 2,\u001b[1m\u001b[32mTest Passed\n",
       "\u001b[0m  Expression: betha1.fun == 0\n",
       "   Evaluated: 0 == 0,\u001b[1m\u001b[32mTest Passed\n",
       "\u001b[0m  Expression: betha1.der == -4\n",
       "   Evaluated: -4 == -4  …  \u001b[1m\u001b[32mTest Passed\n",
       "\u001b[0m  Expression: gamma2.der == 6\n",
       "   Evaluated: 6 == 6,\u001b[1m\u001b[32mTest Passed\n",
       "\u001b[0m  Expression: delta.fun == 3\n",
       "   Evaluated: 3.0 == 3,\u001b[1m\u001b[32mTest Passed\n",
       "\u001b[0m  Expression: delta.der == 0.5\n",
       "   Evaluated: 0.5 == 0.5,\u001b[1m\u001b[32mTest Passed\n",
       "\u001b[0m  Expression: delta1.fun == 3\n",
       "   Evaluated: 3.0 == 3,\u001b[1m\u001b[32mTest Passed\n",
       "\u001b[0m  Expression: delta1.der == 1\n",
       "   Evaluated: 1.0 == 1,\u001b[1m\u001b[32mTest Passed\n",
       "\u001b[0m  Expression: epsilon.fun == 16\n",
       "   Evaluated: 16.0 == 16,\u001b[1m\u001b[32mTest Passed\n",
       "\u001b[0m  Expression: epsilon.der == 0\n",
       "   Evaluated: 0.0 == 0,\u001b[1m\u001b[32mTest Passed\n",
       "\u001b[0m  Expression: Dual(12,2) == Dual(12,2)\n",
       "   Evaluated: Dual{Int64}(12,2) == Dual{Int64}(12,2),\u001b[1m\u001b[32mTest Passed\n",
       "\u001b[0m  Expression: Dual(12) == Dual(12,0)\n",
       "   Evaluated: Dual{Float64}(12.0,0.0) == Dual{Int64}(12,0),\u001b[1m\u001b[32mTest Passed\n",
       "\u001b[0m  Expression: Dual(12,0) == Dual(12)\n",
       "   Evaluated: Dual{Int64}(12,0) == Dual{Float64}(12.0,0.0)],false)"
      ]
     },
     "execution_count": 8,
     "metadata": {},
     "output_type": "execute_result"
    }
   ],
   "source": [
    "# Aquí se incluyen las pruebas necesarias\n",
    "using Base.Test\n",
    "@testset \"pruebas realizadas\" begin\n",
    "alfa=Dual(5,2)+Dual(5,2)\n",
    "@test alfa.fun==10\n",
    "@test alfa.der==4\n",
    "alfa1=5+Dual(5,2)\n",
    "@test alfa1.fun==10\n",
    "@test alfa1.der==2\n",
    "alfa2=Dual(5,2)+5\n",
    "@test alfa2.fun==10\n",
    "@test alfa2.der==2\n",
    "\n",
    "betha=Dual(5,4)-Dual(5,2)\n",
    "@test betha.fun==0\n",
    "@test betha.der==2\n",
    "betha1=5-Dual(5,4)\n",
    "@test betha1.fun==0\n",
    "@test betha1.der==-4\n",
    "betha2=Dual(5,4)-5\n",
    "@test betha2.fun==0\n",
    "@test betha2.der==4\n",
    "\n",
    "gamma=Dual(5,2)*Dual(6,1)\n",
    "@test gamma.fun==30\n",
    "@test gamma.der==17\n",
    "gamma1=3*Dual(5,2)\n",
    "@test gamma1.fun==15\n",
    "@test gamma1.der==6\n",
    "gamma2=Dual(5,2)*3\n",
    "@test gamma2.fun==15\n",
    "@test gamma2.der==6\n",
    "\n",
    "delta=Dual(6,2)/Dual(2,1)\n",
    "@test delta.fun==3\n",
    "@test delta.der==0.5\n",
    "delta1=Dual(6,2)/2\n",
    "@test delta1.fun==3\n",
    "@test delta1.der==1\n",
    "\n",
    "epsilon=Dual(2)^4\n",
    "@test epsilon.fun==16\n",
    "@test epsilon.der==0\n",
    "\n",
    "@test Dual(12,2)==Dual(12,2)\n",
    "@test Dual(12)==Dual(12,0)\n",
    "@test Dual(12,0)==Dual(12)\n",
    "    \n",
    "end\n",
    "\n"
   ]
  },
  {
   "cell_type": "code",
   "execution_count": 9,
   "metadata": {
    "collapsed": false
   },
   "outputs": [
    {
     "data": {
      "text/plain": [
       "Dual{Int64}(15,6)"
      ]
     },
     "execution_count": 9,
     "metadata": {},
     "output_type": "execute_result"
    }
   ],
   "source": [
    "3*Dual(5,2)"
   ]
  },
  {
   "cell_type": "code",
   "execution_count": 10,
   "metadata": {
    "collapsed": false
   },
   "outputs": [
    {
     "data": {
      "text/plain": [
       "Dual{Float64}(1.0,1.0)"
      ]
     },
     "execution_count": 10,
     "metadata": {},
     "output_type": "execute_result"
    }
   ],
   "source": [
    "xdual(1.0)"
   ]
  },
  {
   "cell_type": "markdown",
   "metadata": {},
   "source": [
    "Sea una función como x^2"
   ]
  },
  {
   "cell_type": "code",
   "execution_count": 11,
   "metadata": {
    "collapsed": false
   },
   "outputs": [
    {
     "data": {
      "text/plain": [
       "f"
      ]
     },
     "execution_count": 11,
     "metadata": {},
     "output_type": "execute_result"
    }
   ],
   "source": [
    "\"\"\"\n",
    "especificando  la función a evaluar\n",
    "\"\"\"\n",
    "function f(x)\n",
    "    return x^2\n",
    "end"
   ]
  },
  {
   "cell_type": "markdown",
   "metadata": {},
   "source": [
    "Ahora, evaluando la función con *xdual*"
   ]
  },
  {
   "cell_type": "code",
   "execution_count": 12,
   "metadata": {
    "collapsed": false
   },
   "outputs": [
    {
     "data": {
      "text/plain": [
       "Dual{Float64}(1.0,2.0)"
      ]
     },
     "execution_count": 12,
     "metadata": {},
     "output_type": "execute_result"
    }
   ],
   "source": [
    "f(xdual(1.0))"
   ]
  },
  {
   "cell_type": "markdown",
   "metadata": {},
   "source": [
    "---"
   ]
  },
  {
   "cell_type": "markdown",
   "metadata": {},
   "source": [
    "## Ejercicio 3\n",
    "\n",
    "Para reutilizar el código que han hecho en este notebook, y de hecho seguirlo desarrollando, conviene ponerlo dentro de un módulo. Para hacer esto, deberán copiar todo el código necesario (y que aparece en la resolución de los ejercicios anteriores) en un archivo cuyo nombre será \"AutomDiff.jl\" y cuya estructura será la siguiente\n",
    "\n",
    "```julia\n",
    "#=\n",
    "Aquí viene una explicación de lo que se hace en el módulo, \n",
    "los autores y la fecha\n",
    "=#\n",
    "\n",
    "# La siguiente instrucción sirve para *precompilar* el módulo\n",
    "__precompile__(true)\n",
    "\n",
    "module AD\n",
    "    import Base: +, -, *, /, ^, ==\n",
    "    \n",
    "    export Dual, xdual\n",
    "    \n",
    "    # Aquí viene TODO el código que implementaron.\n",
    "    # Primero uno incluye la definición de Dual y\n",
    "    # después las operaciones con Duales.\n",
    "    ...\n",
    "\n",
    "end\n",
    "```\n",
    "\n",
    "Todas las pruebas deberán ser incluidas en un archivo separado llamado \"runtest.jl\", y su estructura es:\n",
    "\n",
    "```julia\n",
    "# Este archivo incluye los tests del módulo AD\n",
    "include(\"AutomDiff.jl\")\n",
    "using Base.test\n",
    "using AD\n",
    "\n",
    "# A continuación vienen los tests que implementaron y que deben \n",
    "# ser suficientemente exhaustivos\n",
    "...\n",
    "\n",
    "```\n",
    "\n",
    "Estos dos archivos deben incluirlos en el envío de su tarea (además del archivo `Tarea3.ipynb`)."
   ]
  },
  {
   "cell_type": "code",
   "execution_count": 13,
   "metadata": {
    "collapsed": true
   },
   "outputs": [],
   "source": [
    "workspace()"
   ]
  },
  {
   "cell_type": "code",
   "execution_count": 14,
   "metadata": {
    "collapsed": false
   },
   "outputs": [
    {
     "data": {
      "text/plain": [
       "AD"
      ]
     },
     "execution_count": 14,
     "metadata": {},
     "output_type": "execute_result"
    }
   ],
   "source": [
    "include(\"AutomDiff.jl\")"
   ]
  },
  {
   "cell_type": "code",
   "execution_count": 15,
   "metadata": {
    "collapsed": false
   },
   "outputs": [
    {
     "name": "stdout",
     "output_type": "stream",
     "text": [
      "\u001b[1m\u001b[37mTest Summary:      | \u001b[0m\u001b[1m\u001b[32mPass  \u001b[0m\u001b[1m\u001b[34mTotal\u001b[0m\n",
      "  pruebas realizadas | \u001b[1m\u001b[32m   6  \u001b[0m\u001b[1m\u001b[34m    6\u001b[0m\n"
     ]
    },
    {
     "name": "stderr",
     "output_type": "stream",
     "text": [
      "WARNING: replacing module AD\n"
     ]
    },
    {
     "name": "stdout",
     "output_type": "stream",
     "text": [
      "\u001b[1m\u001b[37mTest Summary:      | \u001b[0m\u001b[1m\u001b[32mPass  \u001b[0m\u001b[1m\u001b[34mTotal\u001b[0m\n",
      "  pruebas realizadas | \u001b[1m\u001b[32m  27  \u001b[0m\u001b[1m\u001b[34m   27\u001b[0m\n"
     ]
    },
    {
     "data": {
      "text/plain": [
       "Base.Test.DefaultTestSet(\"pruebas realizadas\",Any[\u001b[1m\u001b[32mTest Passed\n",
       "\u001b[0m  Expression: alfa.fun == 10\n",
       "   Evaluated: 10 == 10,\u001b[1m\u001b[32mTest Passed\n",
       "\u001b[0m  Expression: alfa.der == 4\n",
       "   Evaluated: 4 == 4,\u001b[1m\u001b[32mTest Passed\n",
       "\u001b[0m  Expression: alfa1.fun == 10\n",
       "   Evaluated: 10 == 10,\u001b[1m\u001b[32mTest Passed\n",
       "\u001b[0m  Expression: alfa1.der == 2\n",
       "   Evaluated: 2 == 2,\u001b[1m\u001b[32mTest Passed\n",
       "\u001b[0m  Expression: alfa2.fun == 10\n",
       "   Evaluated: 10 == 10,\u001b[1m\u001b[32mTest Passed\n",
       "\u001b[0m  Expression: alfa2.der == 2\n",
       "   Evaluated: 2 == 2,\u001b[1m\u001b[32mTest Passed\n",
       "\u001b[0m  Expression: betha.fun == 0\n",
       "   Evaluated: 0 == 0,\u001b[1m\u001b[32mTest Passed\n",
       "\u001b[0m  Expression: betha.der == 2\n",
       "   Evaluated: 2 == 2,\u001b[1m\u001b[32mTest Passed\n",
       "\u001b[0m  Expression: betha1.fun == 0\n",
       "   Evaluated: 0 == 0,\u001b[1m\u001b[32mTest Passed\n",
       "\u001b[0m  Expression: betha1.der == -4\n",
       "   Evaluated: -4 == -4  …  \u001b[1m\u001b[32mTest Passed\n",
       "\u001b[0m  Expression: gamma2.der == 6\n",
       "   Evaluated: 6 == 6,\u001b[1m\u001b[32mTest Passed\n",
       "\u001b[0m  Expression: delta.fun == 3\n",
       "   Evaluated: 3.0 == 3,\u001b[1m\u001b[32mTest Passed\n",
       "\u001b[0m  Expression: delta.der == 0.5\n",
       "   Evaluated: 0.5 == 0.5,\u001b[1m\u001b[32mTest Passed\n",
       "\u001b[0m  Expression: delta1.fun == 3\n",
       "   Evaluated: 3.0 == 3,\u001b[1m\u001b[32mTest Passed\n",
       "\u001b[0m  Expression: delta1.der == 1\n",
       "   Evaluated: 1.0 == 1,\u001b[1m\u001b[32mTest Passed\n",
       "\u001b[0m  Expression: epsilon.fun == 16\n",
       "   Evaluated: 16.0 == 16,\u001b[1m\u001b[32mTest Passed\n",
       "\u001b[0m  Expression: epsilon.der == 0\n",
       "   Evaluated: 0.0 == 0,\u001b[1m\u001b[32mTest Passed\n",
       "\u001b[0m  Expression: Dual(12,2) == Dual(12,2)\n",
       "   Evaluated: AD.Dual{Int64}(12,2) == AD.Dual{Int64}(12,2),\u001b[1m\u001b[32mTest Passed\n",
       "\u001b[0m  Expression: Dual(12) == Dual(12,0)\n",
       "   Evaluated: AD.Dual{Float64}(12.0,0.0) == AD.Dual{Int64}(12,0),\u001b[1m\u001b[32mTest Passed\n",
       "\u001b[0m  Expression: Dual(12,0) == Dual(12)\n",
       "   Evaluated: AD.Dual{Int64}(12,0) == AD.Dual{Float64}(12.0,0.0)],false)"
      ]
     },
     "execution_count": 15,
     "metadata": {},
     "output_type": "execute_result"
    }
   ],
   "source": [
    "include(\"runtest.jl\")"
   ]
  },
  {
   "cell_type": "code",
   "execution_count": null,
   "metadata": {
    "collapsed": true
   },
   "outputs": [],
   "source": []
  }
 ],
 "metadata": {
  "anaconda-cloud": {},
  "kernelspec": {
   "display_name": "Julia 0.5.0",
   "language": "julia",
   "name": "julia-0.5"
  },
  "language_info": {
   "file_extension": ".jl",
   "mimetype": "application/julia",
   "name": "julia",
   "version": "0.5.0"
  }
 },
 "nbformat": 4,
 "nbformat_minor": 2
}
